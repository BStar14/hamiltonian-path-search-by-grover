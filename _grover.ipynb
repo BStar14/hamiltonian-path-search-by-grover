{
 "cells": [
  {
   "cell_type": "markdown",
   "metadata": {},
   "source": [
    "# Grover's Algorithm qBraid Challenge\n",
    "\n",
    "In this challenge you and your team are tasked to code Grover's Algorithm to find a valid Hamiltonian cycle in a graph with 5 vertices. A Hamiltonian cycle or circuit is a closed loop on a graph where the edges visits each node exactly once and travels back to the first node. You'll have to figure out how to setup a proper phase oracle which searches through the different paths and returns the unique Hamiltonian cycles in the circuit.\n",
    "\n",
    "Before you get started make sure that:\n",
    "\n",
    "- You've enabled your qBraid Amazon Braket account. `qbraid enable account aws_braket`\n",
    "- Activated the Braket environment and are using the Braket Python 3 kernel (on the top right you should see **Python 3 [Braket]**)\n",
    "- *Please copy this file and rename it <team_name>\\_grover.ipynb*- we'd like to avoid merge conflicts with other submissions!"
   ]
  },
  {
   "cell_type": "markdown",
   "metadata": {},
   "source": [
    "## Submission Checklist\n",
    "- Make sure to include a readme!\n",
    "- Make sure you've run or queued your solution on a real quantum computer (Rigetti M-1 perferred)\n",
    "- Double check that your solution works with the autograder!\n",
    "\n",
    "## Judging Criteria\n",
    "- Your code must include a README.md which describes your implementation and includes how to run your solution.\n",
    "- Your code should be documented and easy to understand!\n",
    "- There are plenty of implementations on the web to guide you in better understanding Grover's search. Feel free to use them as guidance, but do code your solutions with as few out of box solutions \n",
    "    ie don't `from some_package import Grover`\n",
    "- Your code must run a job on real hardware or SV1 simulator using the qBraid Amazon Braket Account.\n"
   ]
  },
  {
   "cell_type": "markdown",
   "metadata": {},
   "source": [
    "## Challenge description\n",
    "- The graph is undirected and constrained to 5 nodes and 8 vertices. This implies that you should get more than one possible Hamiltonian cycle. You will just need to verify one of them.\n",
    "- There are no self loops\n",
    "- It does not have to be the shortest path.\n",
    "- You are free to choose any appropriate starting node.\n",
    "\n",
    "Your results should be a list of integers which indicate the nodes which are traversed in the path which your Grover's Algorithm has found.\n",
    "\n",
    "To use with the auto grader make sure that you provide it a list of integers:\n",
    "[ initial_node, second_node, ... intial_node]\n",
    "\n",
    "ex: [1,3,4,0,2,1]\n",
    "\n",
    "Possible extensions:\n",
    "- Generalize the oracle to handle smaller graphs where it verifies if there indeed exists a Hamiltonian cycle.\n",
    "- Run on different Amazon Braket devices and check your results!\n",
    "- Apply this algorithm to a cool real world scenario and discuss how it can be applied in the README.md.\n",
    "- Anything else you and your team come up with!\n",
    "\n"
   ]
  },
  {
   "cell_type": "markdown",
   "metadata": {},
   "source": [
    "### The graph\n",
    "The graph is an undirected graph with 5 nodes and 8 edges.\n",
    "You'll have to consider how to encode the edges as well as construct the correct oracle for the Grover's algorithm.\n",
    "\n",
    "You're more than welcome to reference the Braket [**Grover's Algorithm tutorial**](../../amazon_braket_examples/advanced_circuits_algorithms/Grover/Grover.ipynb) as well as any other resources you find useful.\n"
   ]
  },
  {
   "cell_type": "code",
   "execution_count": 1,
   "metadata": {},
   "outputs": [],
   "source": [
    "import numpy as np\n",
    "import networkx as nx\n",
    "import matplotlib.pyplot as plt\n",
    "\n",
    "# AWS imports: Import Braket SDK modules\n",
    "from braket.circuits import Circuit, Gate, Instruction, circuit, Observable\n",
    "from braket.devices import LocalSimulator\n",
    "from braket.aws import AwsDevice, AwsQuantumTask"
   ]
  },
  {
   "cell_type": "code",
   "execution_count": 2,
   "metadata": {},
   "outputs": [],
   "source": [
    "graph = nx.Graph()\n",
    "graph.add_nodes_from([0,1,2,3,4])\n",
    "graph.add_edges_from([(0, 4), (0, 3), (0, 2), (1, 2), (1, 4), (1, 3), (2, 4), (3, 4)])"
   ]
  },
  {
   "cell_type": "markdown",
   "metadata": {},
   "source": [
    "After creating the random graph to get you started, we recreate it and save it as an object for you to work with."
   ]
  },
  {
   "cell_type": "code",
   "execution_count": 3,
   "metadata": {},
   "outputs": [
    {
     "name": "stdout",
     "output_type": "stream",
     "text": [
      "Graph with 5 nodes and 8 edges\n",
      "[(0, 4), (0, 3), (0, 2), (1, 2), (1, 4), (1, 3), (2, 4), (3, 4)]\n"
     ]
    },
    {
     "data": {
      "image/png": "[encoded data removed]",
      "text/plain": [
       "<Figure size 432x288 with 1 Axes>"
      ]
     },
     "metadata": {},
     "output_type": "display_data"
    }
   ],
   "source": [
    "print(graph)\n",
    "print(graph.edges)\n",
    "nx.draw_networkx(graph)"
   ]
  },
  {
   "cell_type": "markdown",
   "metadata": {},
   "source": [
    "## Run on a quantum device\n",
    "We'd recommend double checking your implementation on a local simulator before running it on the Aspen M-1.\n"
   ]
  },
  {
   "cell_type": "code",
   "execution_count": 4,
   "metadata": {},
   "outputs": [],
   "source": [
    "# Helper function to build C-C-Z gate\n",
    "@circuit.subroutine(register=True)\n",
    "def ccz(targets=[0, 1, 2]):\n",
    "    \"\"\"\n",
    "    implementation of three-qubit gate CCZ\n",
    "    \"\"\"\n",
    "    # define three-qubit CCZ gate\n",
    "    ccz_gate = np.array([[1.0, 0.0, 0.0, 0.0, 0.0, 0.0, 0.0, 0.0],\n",
    "                         [0.0, 1.0, 0.0, 0.0, 0.0, 0.0, 0.0, 0.0],\n",
    "                         [0.0, 0.0, 1.0, 0.0, 0.0, 0.0, 0.0, 0.0],\n",
    "                         [0.0, 0.0, 0.0, 1.0, 0.0, 0.0, 0.0, 0.0],\n",
    "                         [0.0, 0.0, 0.0, 0.0, 1.0, 0.0, 0.0, 0.0],\n",
    "                         [0.0, 0.0, 0.0, 0.0, 0.0, 1.0, 0.0, 0.0],\n",
    "                         [0.0, 0.0, 0.0, 0.0, 0.0, 0.0, 1.0, 0.0],\n",
    "                         [0.0, 0.0, 0.0, 0.0, 0.0, 0.0, 0.0, -1.0]],\n",
    "                       dtype=complex)\n",
    "    \n",
    "    # instantiate circuit object\n",
    "    circ = Circuit()\n",
    "    \n",
    "    # add CCZ gate\n",
    "    circ.unitary(matrix=ccz_gate, targets=targets)\n",
    "    \n",
    "    return circ\n",
    "\n",
    "\n",
    "# helper function for initialization\n",
    "def initialize(n_qubits=3):\n",
    "    \"\"\"\n",
    "    function to apply hadamard to all qubits\n",
    "    \"\"\"\n",
    "    # Initialize with superposition\n",
    "    circ = Circuit();\n",
    "    circ.h(np.arange(n_qubits))\n",
    "    \n",
    "    return circ\n",
    "\n",
    "\n",
    "# helper function for phase oracle\n",
    "def oracle():\n",
    "    \"\"\"\n",
    "    function to apply oracle for given target item\n",
    "    \"\"\"\n",
    "    # instantiate circuit object\n",
    "    circ = Circuit()\n",
    "    \n",
    "    for i in range(3):\n",
    "        circ.cnot(2*i, 2*i+2)\n",
    "        circ.cnot(2*i+1, 2*i+3)\n",
    "        circ.x(2*i+2)\n",
    "        circ.ccnot(2*i+2, 2*i+3, 8+i)\n",
    "        circ.x(2*i+2)\n",
    "        circ.cnot(2*i+1, 2*i+3)\n",
    "        circ.cnot(2*i, 2*i+2)\n",
    "        \n",
    "    circ.ccz([8, 9, 10])\n",
    "    \n",
    "    for i in range(3):\n",
    "        circ.cnot(2*i, 2*i+2)\n",
    "        circ.cnot(2*i+1, 2*i+3)\n",
    "        circ.x(2*i+2)\n",
    "        circ.ccnot(2*i+2, 2*i+3, 8+i)\n",
    "        circ.x(2*i+2)\n",
    "        circ.cnot(2*i+1, 2*i+3)\n",
    "        circ.cnot(2*i, 2*i+2)\n",
    "    \n",
    "    return circ\n",
    "\n",
    "\n",
    "# helper function for amplification\n",
    "def amplify(n_qubits=3):\n",
    "    \"\"\"\n",
    "    function for amplitude amplification\n",
    "    \"\"\"\n",
    "    # instantiate circuit object\n",
    "    circ = Circuit()\n",
    "    \n",
    "    # Amplification\n",
    "    circ.h(range(n_qubits))\n",
    "    if n_qubits == 1:\n",
    "        circ.z(0)\n",
    "    elif n_qubits == 2:\n",
    "        circ.x([0,1]).cz(0,1).x([0,1])\n",
    "    elif n_qubits == 3:\n",
    "        circ.x([0,1,2]).ccz([0,1,2]).x([0,1,2])\n",
    "    else:\n",
    "        circ.x(range(n_qubits))\n",
    "        circ.ccnot(0,1,n_qubits)\n",
    "        for i in range(n_qubits-4):\n",
    "            circ.ccnot(i+2, n_qubits+i, n_qubits+i+1)\n",
    "        circ.ccz([n_qubits-2, n_qubits-1, 2*n_qubits-4])\n",
    "        for i in reversed(range(n_qubits-4)):\n",
    "            circ.ccnot(i+2, n_qubits+i, n_qubits+i+1)\n",
    "        circ.ccnot(0,1,n_qubits)\n",
    "        circ.x(range(n_qubits))\n",
    "    circ.h(range(n_qubits))\n",
    "    \n",
    "    return circ\n",
    "\n",
    "\n",
    "# helper function for grover algorithm\n",
    "def grover(n_qubits=8, n_reps=1):\n",
    "    \"\"\"\n",
    "    function to put together individual modules of Grover algorithm\n",
    "    \"\"\"\n",
    "    # initialize\n",
    "    grover_circ = initialize(n_qubits)\n",
    "    # oracle and amplify\n",
    "    for ii in range(n_reps):\n",
    "        # get oracle\n",
    "        grover_circ.add(oracle())\n",
    "        # amplify\n",
    "        grover_circ.add(amplify(n_qubits))\n",
    "    \n",
    "    return grover_circ"
   ]
  },
  {
   "cell_type": "code",
   "execution_count": 17,
   "metadata": {},
   "outputs": [],
   "source": [
    "# Function to run quantum task, check the status thereof, and collect results\n",
    "def get_result(circ, n_qubits):\n",
    "\n",
    "    # specify desired results_types\n",
    "    circ.probability(target=range(n_qubits))\n",
    "\n",
    "    # submit task: define task (asynchronous)\n",
    "    task = device.run(circ, shots=1000)\n",
    "\n",
    "    # Get ID of submitted task\n",
    "    task_id = task.id\n",
    "#     print('Task ID :', task_id)\n",
    "\n",
    "    # Wait for job to complete\n",
    "    status_list = []\n",
    "    status = task.state()\n",
    "    status_list += [status]\n",
    "    print('Status:', status)\n",
    "\n",
    "    # Only notify the user when there's a status change\n",
    "    while status != 'COMPLETED':\n",
    "        status = task.state()\n",
    "        if status != status_list[-1]:\n",
    "            print('Status:', status)\n",
    "        status_list += [status]\n",
    "\n",
    "    # get result\n",
    "    result = task.result()\n",
    "\n",
    "    # get metadata\n",
    "    metadata = result.task_metadata\n",
    "\n",
    "    # get output probabilities\n",
    "    probs_values = result.values[0]\n",
    "\n",
    "    # get measurement results\n",
    "    measurement_counts = result.measurement_counts\n",
    "\n",
    "    # print measurement results\n",
    "    # print('measurement_counts:', measurement_counts)\n",
    "\n",
    "    # bitstrings\n",
    "    format_bitstring = '{0:0' + str(n_qubits) + 'b}'\n",
    "    bitstring_keys = [format_bitstring.format(ii) for ii in range(2**n_qubits)]\n",
    "\n",
    "    # plot probabalities\n",
    "    plt.bar(bitstring_keys, probs_values)\n",
    "    plt.xlabel('bitstrings')\n",
    "    plt.ylabel('probability')\n",
    "    plt.xticks(rotation=90)\n",
    "    plt.show()\n",
    "    \n",
    "    return measurement_counts"
   ]
  },
  {
   "cell_type": "code",
   "execution_count": 18,
   "metadata": {},
   "outputs": [],
   "source": [
    "# Set up the cloud-based simulator \n",
    "# device = AwsDevice(\"arn:aws:braket:::device/quantum-simulator/amazon/sv1\")\n",
    "\n",
    "# set up the local simulator\n",
    "device = LocalSimulator()"
   ]
  },
  {
   "cell_type": "code",
   "execution_count": 19,
   "metadata": {},
   "outputs": [
    {
     "name": "stdout",
     "output_type": "stream",
     "text": [
      "Quantum Gates supported by StateVectorSimulator:\n",
      " ['ccnot', 'cnot', 'cphaseshift', 'cphaseshift00', 'cphaseshift01', 'cphaseshift10', 'cswap', 'cv', 'cy', 'cz', 'h', 'i', 'iswap', 'pswap', 'phaseshift', 'rx', 'ry', 'rz', 's', 'si', 'swap', 't', 'ti', 'unitary', 'v', 'vi', 'x', 'xx', 'xy', 'y', 'yy', 'z', 'zz']\n"
     ]
    }
   ],
   "source": [
    "# get device name\n",
    "device_name = device.name\n",
    "# show the properties of the device \n",
    "device_properties = device.properties\n",
    "# show supportedQuantumOperations (supported gates for a device)\n",
    "device_operations = device_properties.dict()['action']['braket.ir.jaqcd.program']['supportedOperations']\n",
    "# Note: This field also exists for other devices like the QPUs\n",
    "print('Quantum Gates supported by {}:\\n {}'.format(device_name, device_operations))"
   ]
  },
  {
   "cell_type": "code",
   "execution_count": 20,
   "metadata": {},
   "outputs": [
    {
     "name": "stdout",
     "output_type": "stream",
     "text": [
      "T   : |0| 1 |2|3| 4 |5|6|7|8| 9 |10 |11|12|13|14 |15 |16 |17 |18|19|20 |21 |22 |23|24|25 | 26  |27 |28|29|30|31|32|33 |34 |35 |36 |37 |38|39|\n",
      "                                                                                                                                             \n",
      "q0  : -H-C-----------C---------------C--------------------C---H--X----C------------------------------------------------------------C---X--H--\n",
      "         |           |               |                    |           |                                                            |         \n",
      "q1  : -H-|-C-------C-|-------------C-|------------------C-|-H-X-------C------------------------------------------------------------C---X--H--\n",
      "         | |       | |             | |                  | |           |                                                            |         \n",
      "q2  : -H-X-|-X-C-X-|-X-C---------C-|-X--X-----------C-X-|-X---C-------|-----C---H--X----C--------------------------------------C---|-X-H-----\n",
      "           |   |   |   |         | |                |   |     |       |     |           |                                      |   |         \n",
      "q3  : -H---X---C---X-C-|-------C-|-X----------------C---X-C---|-------|---C-|-H-X-------|-----C----------------------------C---|-X-|-H-------\n",
      "               |     | |       | |                  |     |   |       |   | |           |     |                            |   |   |         \n",
      "q4  : -H-------|-----|-X-X-C-X-|-X---C------------C-|-----|---X--X--C-|-X-|-X---C-------|-----|-C---H--X--C------------C---|-X-|-H-|---------\n",
      "               |     |     |   |     |            | |     |         | |   |     |       |     | |         |            |   |   |   |         \n",
      "q5  : -H-------|-----X-----C---X-C---|----------C-|-|-----X---------C-|---X-C---|-------|---C-|-|-H-X-----|--C-----C---|-X-|-H-|---|---------\n",
      "               |           |     |   |          | | |               | |     |   |       |   | | |         |  |     |   |   |   |   |         \n",
      "q6  : -H-------|-----------|-----|---X--X--C--X-|-X-|---------------|-|-----|---X--X--C-|-X-|-|-X---H--X--|--|--U--|-X-|-H-|---|---|---------\n",
      "               |           |     |         |    |   |               | |     |         | |   | |           |  |  |  |   |   |   |   |         \n",
      "q7  : -H-------|-----------|-----X---------C----X---|---------------|-|-----X---------C-|---X-|-H---X-----|--|--U--|-X-|-H-|---|---|---------\n",
      "               |           |               |        |               | |               | |     |           |  |  |  |   |   |   |   |         \n",
      "q8  : ---------X-----------|---------------|--U-----X---------------|-X---------------|-C-----|-----------|--|--|--|---|---|---C---X---------\n",
      "                           |               |  |                     |                 | |     |           |  |  |  |   |   |   |             \n",
      "q9  : ---------------------X---------------|--U---------------------X-----------------|-X-----C-----------|--|--|--|---|---C---X-------------\n",
      "                                           |  |                                       |       |           |  |  |  |   |   |                 \n",
      "q10 : -------------------------------------X--U---------------------------------------X-------X-----------C--|--|--|---C---X-----------------\n",
      "                                                                                                          |  |  |  |   |                     \n",
      "q11 : ----------------------------------------------------------------------------------------------------X--C--|--C---X---------------------\n",
      "                                                                                                             |  |  |                         \n",
      "q12 : -------------------------------------------------------------------------------------------------------X--U--X-------------------------\n",
      "\n",
      "T   : |0| 1 |2|3| 4 |5|6|7|8| 9 |10 |11|12|13|14 |15 |16 |17 |18|19|20 |21 |22 |23|24|25 | 26  |27 |28|29|30|31|32|33 |34 |35 |36 |37 |38|39|\n"
     ]
    }
   ],
   "source": [
    "n = 8 # number of vertices in the graph\n",
    "\n",
    "YOUR_CIRCUIT = grover(n_qubits = n, n_reps = 1)\n",
    "\n",
    "print(YOUR_CIRCUIT)"
   ]
  },
  {
   "cell_type": "code",
   "execution_count": 21,
   "metadata": {},
   "outputs": [
    {
     "name": "stdout",
     "output_type": "stream",
     "text": [
      "Status: COMPLETED\n"
     ]
    },
    {
     "data": {
      "image/png": "[encoded data removed]",
      "text/plain": [
       "<Figure size 432x288 with 1 Axes>"
      ]
     },
     "metadata": {
      "needs_background": "light"
     },
     "output_type": "display_data"
    }
   ],
   "source": [
    "counts = get_result(YOUR_CIRCUIT, n)"
   ]
  },
  {
   "cell_type": "code",
   "execution_count": 4,
   "metadata": {
    "collapsed": true,
    "jupyter": {
     "outputs_hidden": true
    },
    "tags": []
   },
   "outputs": [
    {
     "data": {
      "text/plain": [
       "RigettiDeviceCapabilities(service=DeviceServiceProperties(braketSchemaHeader=BraketSchemaHeader(name='braket.device_schema.device_service_properties', version='1'), executionWindows=[DeviceExecutionWindow(executionDay=<ExecutionDay.EVERYDAY: 'Everyday'>, windowStartHour=datetime.time(15, 0), windowEndHour=datetime.time(20, 0))], shotsRange=(10, 100000), deviceCost=DeviceCost(price=0.00035, unit='shot'), deviceDocumentation=DeviceDocumentation(imageUrl='http://d1.awsstatic.com/logos/Rigetti_logo_rgb_teal.0cbe3c0653e755ab97c04ec56f3611f53e2a780c.png', summary='Universal gate-model QPU based on superconducting qubits', externalDocumentationUrl='https://qcs.rigetti.com/qpus/'), deviceLocation='California, USA', updatedAt=datetime.datetime(2022, 4, 10, 12, 48, 38, tzinfo=datetime.timezone.utc)), action={<DeviceActionType.JAQCD: 'braket.ir.jaqcd.program'>: JaqcdDeviceActionProperties(version=['1.0', '1.1'], actionType='braket.ir.jaqcd.program', supportedOperations=['cz', 'xy', 'ccnot', 'cnot', 'cphaseshift', 'cphaseshift00', 'cphaseshift01', 'cphaseshift10', 'cswap', 'h', 'i', 'iswap', 'phaseshift', 'pswap', 'rx', 'ry', 'rz', 's', 'si', 'swap', 't', 'ti', 'x', 'y', 'z', 'start_verbatim_box', 'end_verbatim_box'], supportedResultTypes=[ResultType(name='Sample', observables=['x', 'y', 'z', 'h', 'i'], minShots=10, maxShots=100000), ResultType(name='Expectation', observables=['x', 'y', 'z', 'h', 'i'], minShots=10, maxShots=100000), ResultType(name='Variance', observables=['x', 'y', 'z', 'h', 'i'], minShots=10, maxShots=100000), ResultType(name='Probability', observables=None, minShots=10, maxShots=100000)], disabledQubitRewiringSupported=True), <DeviceActionType.OPENQASM: 'braket.ir.openqasm.program'>: OpenQASMDeviceActionProperties(version=['1.0'], actionType='braket.ir.openqasm.program', supportedOperations=['cz', 'xy', 'ccnot', 'cnot', 'cphaseshift', 'cphaseshift00', 'cphaseshift01', 'cphaseshift10', 'cswap', 'h', 'i', 'iswap', 'phaseshift', 'pswap', 'rx', 'ry', 'rz', 's', 'si', 'swap', 't', 'ti', 'x', 'y', 'z'], supportedPragmas=['verbatim', 'braket_result_type_sample', 'braket_result_type_expectation', 'braket_result_type_variance', 'braket_result_type_probability'], forbiddenPragmas=['braket_unitary_matrix', 'braket_result_type_state_vector', 'braket_result_type_density_matrix', 'braket_result_type_amplitude'], maximumQubitArrays=1, maximumClassicalArrays=1, forbiddenArrayOperations=['concatenation', 'negativeIndex', 'range', 'rangeWithStep', 'slicing', 'selection'], requiresAllQubitsMeasurement=False, supportPhysicalQubits=True, requiresContiguousQubitIndices=False, supportsPartialVerbatimBox=True, supportsUnassignedMeasurements=True, disabledQubitRewiringSupported=False, supportedResultTypes=[ResultType(name='Sample', observables=['x', 'y', 'z', 'h', 'i'], minShots=10, maxShots=100000), ResultType(name='Expectation', observables=['x', 'y', 'z', 'h', 'i'], minShots=10, maxShots=100000), ResultType(name='Variance', observables=['x', 'y', 'z', 'h', 'i'], minShots=10, maxShots=100000), ResultType(name='Probability', observables=None, minShots=10, maxShots=100000)])}, deviceParameters={'title': 'RigettiDeviceParameters', 'description': 'This defines the parameters common to all the Rigetti devices.\\n\\nAttributes:\\n    paradigmParameters: Parameters that are common to gatemodel paradigm\\n\\nExamples:\\n    >>> import json\\n    >>> input_json = {\\n    ...    \"braketSchemaHeader\": {\\n    ...        \"name\": \"braket.device_schema.rigetti.rigetti_device_parameters\",\\n    ...        \"version\": \"1\",\\n    ...    },\\n    ...    \"paradigmParameters\": {\"braketSchemaHeader\": {\\n    ...        \"name\": \"braket.device_schema.gate_model_parameters\",\\n    ...        \"version\": \"1\",\\n    ...    },\"qubitCount\": 1},\\n    ... }\\n    >>> RigettiDeviceParameters.parse_raw_schema(json.dumps(input_json))', 'type': 'object', 'properties': {'braketSchemaHeader': {'title': 'Braketschemaheader', 'const': {'name': 'braket.device_schema.rigetti.rigetti_device_parameters', 'version': '1'}}, 'paradigmParameters': {'$ref': '#/definitions/GateModelParameters'}}, 'required': ['paradigmParameters'], 'definitions': {'GateModelParameters': {'title': 'GateModelParameters', 'description': 'Defines parameters common to all gate model devices.\\n\\nAttributes:\\n    qubitCount: Number of qubits used by the circuit.\\n    disableQubitRewiring: Whether to run the circuit with the exact qubits chosen,\\n        without any rewiring downstream.\\n        If ``True``, no qubit rewiring is allowed; if ``False``, qubit rewiring is allowed.\\n\\nExamples:\\n    >>> import json\\n    >>> input_json = {\\n    ...    \"braketSchemaHeader\": {\\n    ...        \"name\": \"braket.device_schema.gate_model_parameters\",\\n    ...        \"version\": \"1\",\\n    ...    },\\n    ...    \"qubitCount\": 1,\\n    ...    \"disableQubitRewiring\": True\\n    ... }\\n    >>> GateModelParameters.parse_raw_schema(json.dumps(input_json))', 'type': 'object', 'properties': {'braketSchemaHeader': {'title': 'Braketschemaheader', 'const': {'name': 'braket.device_schema.gate_model_parameters', 'version': '1'}}, 'qubitCount': {'title': 'Qubitcount', 'minimum': 0, 'type': 'integer'}, 'disableQubitRewiring': {'title': 'Disablequbitrewiring', 'default': False, 'type': 'boolean'}}, 'required': ['qubitCount']}}}, braketSchemaHeader=BraketSchemaHeader(name='braket.device_schema.rigetti.rigetti_device_capabilities', version='1'), paradigm=GateModelQpuParadigmProperties(braketSchemaHeader=BraketSchemaHeader(name='braket.device_schema.gate_model_qpu_paradigm_properties', version='1'), connectivity=DeviceConnectivity(fullyConnected=False, connectivityGraph={'0': ['1', '103', '7'], '1': ['0', '16', '2'], '10': ['11', '113', '17'], '100': ['101', '107'], '101': ['100', '102', '116'], '102': ['101', '103', '115'], '103': ['0', '102', '104'], '104': ['103'], '105': ['106'], '106': ['105', '107'], '107': ['100', '106'], '11': ['10', '12', '26'], '110': ['111', '117'], '111': ['110', '112', '126'], '112': ['111', '113', '125'], '113': ['10', '112', '114'], '114': ['113', '115', '17'], '115': ['102', '114', '116'], '116': ['101', '115', '117'], '117': ['110', '116'], '12': ['11', '13', '25'], '120': ['121', '127'], '121': ['120', '122', '136'], '122': ['121', '123', '135'], '123': ['122', '124', '20'], '124': ['123', '125', '27'], '125': ['112', '124', '126'], '126': ['111', '125', '127'], '127': ['120', '126'], '13': ['12', '14'], '130': ['131', '137'], '131': ['130', '132', '146'], '132': ['131', '133', '145'], '133': ['132', '134', '30'], '134': ['133', '135', '37'], '135': ['122', '134', '136'], '136': ['121', '135', '137'], '137': ['130', '136'], '14': ['13', '15'], '140': ['141', '147'], '141': ['140', '142'], '142': ['141', '143'], '143': ['142', '144', '40'], '144': ['143', '145', '47'], '145': ['132', '144', '146'], '146': ['131', '145', '147'], '147': ['140', '146'], '15': ['14', '16', '2'], '16': ['1', '15', '17'], '17': ['10', '16', '114'], '2': ['1', '15'], '20': ['123', '21', '27'], '21': ['20', '22', '36'], '22': ['21', '23', '35'], '23': ['22', '24'], '24': ['23', '25'], '25': ['12', '24', '26'], '26': ['11', '25', '27'], '27': ['20', '26', '124'], '3': ['4'], '30': ['133', '31', '37'], '31': ['30', '32', '46'], '32': ['31', '33', '45'], '33': ['32', '34'], '34': ['33', '35'], '35': ['22', '34', '36'], '36': ['21', '35', '37'], '37': ['30', '36', '134'], '4': ['3', '5'], '40': ['143', '41', '47'], '41': ['40', '42'], '42': ['41', '43'], '43': ['42', '44'], '44': ['43', '45'], '45': ['32', '44', '46'], '46': ['31', '45', '47'], '47': ['40', '46', '144'], '5': ['4', '6'], '6': ['5', '7'], '7': ['0', '6']}), qubitCount=80, nativeGateSet=['rx', 'rz', 'cz', 'cphaseshift', 'xy']), provider=RigettiProviderProperties(braketSchemaHeader=BraketSchemaHeader(name='braket.device_schema.rigetti.rigetti_provider_properties', version='1'), specs={'1Q': {'0': {'T1': 2.4443429874176914e-05, 'T2': 1.627681336532139e-05, 'f1QRB': 0.9985669301541129, 'f1QRB_std_err': 0.0004092835114091019, 'f1Q_simultaneous_RB': 0.9947257307331709, 'f1Q_simultaneous_RB_std_err': 0.00036258512661476133, 'fActiveReset': 0.9905000000000002, 'fRO': 0.9584999999999999}, '1': {'T1': 4.6238056727210264e-05, 'T2': 1.307978168887773e-05, 'f1QRB': 0.9981823659437071, 'f1QRB_std_err': 0.0005329657288556576, 'f1Q_simultaneous_RB': 0.9744306615958926, 'f1Q_simultaneous_RB_std_err': 0.006719836252275432, 'fActiveReset': 0.9789999999999999, 'fRO': 0.864}, '10': {'T1': 1.3810279766879319e-05, 'T2': 1.778128170047494e-05, 'f1QRB': 0.9972871708055486, 'f1QRB_std_err': 0.00026244975727162686, 'f1Q_simultaneous_RB': 0.996585766511325, 'f1Q_simultaneous_RB_std_err': 0.000234353344279784, 'fActiveReset': 0.9789999999999999, 'fRO': 0.974}, '100': {'T1': 2.8617105488848438e-05, 'T2': 3.102868239926918e-05, 'f1QRB': 0.9983267619945417, 'f1QRB_std_err': 0.00013245412597755253, 'f1Q_simultaneous_RB': 0.9968566003084566, 'f1Q_simultaneous_RB_std_err': 0.00022702117349643122, 'fActiveReset': 0.61, 'fRO': 0.565}, '101': {'T1': 3.4423060816690665e-05, 'T2': 8.929960968829597e-06, 'f1QRB': 0.9970137500023071, 'f1QRB_std_err': 0.00018350751877424857, 'f1Q_simultaneous_RB': 0.9979349504038979, 'f1Q_simultaneous_RB_std_err': 0.0002880118092227839, 'fActiveReset': 0.995, 'fRO': 0.9065}, '102': {'T1': 1.2755567680544644e-05, 'T2': 2.0904478010530607e-06, 'f1QRB': 0.9223864336705296, 'f1QRB_std_err': 0.010027655060148325, 'f1Q_simultaneous_RB': 0.9975985868996269, 'f1Q_simultaneous_RB_std_err': 0.00032583515336223216, 'fActiveReset': 0.991, 'fRO': 0.9335}, '103': {'T1': 4.473993042308777e-05, 'T2': 1.4602248280527145e-05, 'f1QRB': 0.952524280690339, 'f1QRB_std_err': 0.03503890765241047, 'f1Q_simultaneous_RB': 0.9978831698791683, 'f1Q_simultaneous_RB_std_err': 0.00031532175238138373, 'fActiveReset': 0.7905, 'fRO': 0.5215}, '104': {'T1': 5.376499549569758e-06, 'T2': 2.7009441484397193e-06, 'f1QRB': 0.9856104605451634, 'f1QRB_std_err': 0.0037192754378516293, 'f1Q_simultaneous_RB': 0.9587884182597822, 'f1Q_simultaneous_RB_std_err': 0.007249311224768822, 'fActiveReset': 0.956, 'fRO': 0.9430000000000001}, '105': {'T1': 3.119837074527787e-05, 'T2': 2.681191463979799e-05, 'f1QRB': 0.9974519072969024, 'f1QRB_std_err': 9.7163491742933e-05, 'f1Q_simultaneous_RB': 0.9981351024758651, 'f1Q_simultaneous_RB_std_err': 0.00020069669766150066, 'fActiveReset': 0.9995, 'fRO': 0.9644999999999999}, '106': {'T1': 2.0926572025015133e-05, 'T2': 2.1434920049107892e-05, 'f1QRB': 0.9987320007114223, 'f1QRB_std_err': 0.0002161079812468806, 'f1Q_simultaneous_RB': 0.9974189422122874, 'f1Q_simultaneous_RB_std_err': 0.00025530047753006586, 'fActiveReset': 0.872, 'fRO': 0.7364999999999999}, '107': {'T1': 1.4146091385391912e-05, 'T2': 1.9214065335547132e-05, 'f1QRB': 0.9974908421927973, 'f1QRB_std_err': 0.0003433316861430358, 'f1Q_simultaneous_RB': 0.9949115012231686, 'f1Q_simultaneous_RB_std_err': 0.00021338447947800507, 'fActiveReset': 0.9925, 'fRO': 0.8965}, '11': {'T1': 5.847074083042969e-05, 'T2': 5.345561140052993e-05, 'f1QRB': 0.991370933457359, 'f1QRB_std_err': 0.0014081734730062975, 'f1Q_simultaneous_RB': 0.9981672284792089, 'f1Q_simultaneous_RB_std_err': 0.00028995712949406643, 'fActiveReset': 0.742, 'fRO': 0.9355}, '110': {'T1': 3.7704110880110164e-05, 'T2': 5.308234776530537e-05, 'f1QRB': 0.9988177700197205, 'f1QRB_std_err': 0.00029078087565488387, 'f1Q_simultaneous_RB': 0.9976866412454477, 'f1Q_simultaneous_RB_std_err': 0.0003129778715633962, 'fActiveReset': 0.996, 'fRO': 0.978}, '111': {'T1': 5.4462006277677943e-05, 'T2': 2.357004949849456e-05, 'f1QRB': 0.7808915294130563, 'f1QRB_std_err': 0.45322728152014735, 'f1Q_simultaneous_RB': 0.9978693685458149, 'f1Q_simultaneous_RB_std_err': 0.0005699624016013089, 'fActiveReset': 0.949, 'fRO': 0.9475}, '112': {'T1': 3.733836622754616e-05, 'T2': 3.949649486926609e-05, 'f1QRB': 0.9980570113248138, 'f1QRB_std_err': 0.00012846903884968446, 'f1Q_simultaneous_RB': 0.9976871234681632, 'f1Q_simultaneous_RB_std_err': 0.0004523540210441708, 'fActiveReset': 0.9985, 'fRO': 0.9835}, '113': {'T1': 7.762531624222468e-05, 'T2': 3.556836553310404e-05, 'f1QRB': 0.9985685357729734, 'f1QRB_std_err': 0.0003845551897913834, 'f1Q_simultaneous_RB': 0.9938196367314195, 'f1Q_simultaneous_RB_std_err': 0.000357578941196831, 'fActiveReset': 0.9995, 'fRO': 0.9485}, '114': {'T1': 1.5530658221907245e-05, 'T2': 2.500816683592615e-05, 'f1QRB': 0.9981222300515986, 'f1QRB_std_err': 0.0001474410774602763, 'f1Q_simultaneous_RB': 0.9956761599654133, 'f1Q_simultaneous_RB_std_err': 0.0007903300851766927, 'fActiveReset': 0.998, 'fRO': 0.9835}, '115': {'T1': 4.4572113990559714e-05, 'T2': 3.51416530234995e-05, 'f1QRB': 0.962085506055663, 'f1QRB_std_err': 0.0046718537459249, 'f1Q_simultaneous_RB': 0.9976112723111585, 'f1Q_simultaneous_RB_std_err': 0.000515755791388542, 'fActiveReset': 0.998, 'fRO': 0.9555}, '116': {'T1': 3.460509294361813e-05, 'T2': 4.05356900197717e-05, 'f1QRB': 0.9987742270418412, 'f1QRB_std_err': 9.50911137246889e-05, 'f1Q_simultaneous_RB': 0.9964539685071973, 'f1Q_simultaneous_RB_std_err': 0.0005476545976625034, 'fActiveReset': 0.9985, 'fRO': 0.9764999999999999}, '117': {'T1': 3.273341484755221e-06, 'T2': 2.7878735178411334e-06, 'f1QRB': 0.961552247006636, 'f1QRB_std_err': 0.004673188459792453, 'f1Q_simultaneous_RB': 0.9975676000638587, 'f1Q_simultaneous_RB_std_err': 0.0004231752336903899, 'fActiveReset': 0.9975, 'fRO': 0.9455}, '12': {'T1': 2.8331445077078854e-05, 'T2': 5.874347115778293e-06, 'f1QRB': 0.9991227486932124, 'f1QRB_std_err': 8.975660334841619e-05, 'f1Q_simultaneous_RB': 0.9973679442882255, 'f1Q_simultaneous_RB_std_err': 6.251919832392282e-05, 'fActiveReset': 0.9985, 'fRO': 0.917}, '120': {'T1': 2.8287999534359898e-05, 'T2': 4.833098302210444e-05, 'f1QRB': 0.9979931685659458, 'f1QRB_std_err': 0.0002528318058781427, 'f1Q_simultaneous_RB': 0.9977355634911775, 'f1Q_simultaneous_RB_std_err': 0.00020176958110723321, 'fActiveReset': 0.9815, 'fRO': 0.947}, '121': {'T1': 3.5286206935047915e-05, 'T2': 4.426498278090763e-05, 'f1QRB': 0.9989741773965328, 'f1QRB_std_err': 9.0048673264869e-05, 'f1Q_simultaneous_RB': 0.996975133633524, 'f1Q_simultaneous_RB_std_err': 0.00035287594451570404, 'fActiveReset': 0.9940000000000001, 'fRO': 0.859}, '122': {'T1': 2.5338779303440973e-05, 'T2': 2.1171327338331087e-05, 'f1QRB': 0.9985841120211902, 'f1QRB_std_err': 7.349310537613475e-05, 'f1Q_simultaneous_RB': 0.9969978233371777, 'f1Q_simultaneous_RB_std_err': 0.0001832600394832927, 'fActiveReset': 0.995, 'fRO': 0.98}, '123': {'T1': 4.056496572979462e-05, 'T2': 4.781729155489977e-05, 'f1QRB': 0.999379923468011, 'f1QRB_std_err': 0.00016206201337674154, 'f1Q_simultaneous_RB': 0.9948923037931725, 'f1Q_simultaneous_RB_std_err': 0.0004789505427279324, 'fActiveReset': 0.996, 'fRO': 0.954}, '124': {'T1': 5.0184282736065455e-05, 'T2': 4.361956897923867e-05, 'f1QRB': 0.998991664466877, 'f1QRB_std_err': 0.00020624429964102278, 'f1Q_simultaneous_RB': 0.995239676026991, 'f1Q_simultaneous_RB_std_err': 0.0003443646554803209, 'fActiveReset': 0.998, 'fRO': 0.974}, '125': {'T1': 2.8160948921218676e-05, 'T2': 3.9332118818277485e-05, 'f1QRB': 0.9994008055237724, 'f1QRB_std_err': 0.000644758971384886, 'f1Q_simultaneous_RB': 0.9942882649072078, 'f1Q_simultaneous_RB_std_err': 0.00045182924261167657, 'fActiveReset': 0.993, 'fRO': 0.9755}, '126': {'T1': 2.0820271480204156e-05, 'T2': 4.622811996444383e-06, 'f1QRB': 0.9981033574342519, 'f1QRB_std_err': 0.00013395046643754937, 'f1Q_simultaneous_RB': 0.9935007368029365, 'f1Q_simultaneous_RB_std_err': 0.0004485234101142523, 'fActiveReset': 0.997, 'fRO': 0.9410000000000001}, '127': {'T1': 8.193410413248614e-06, 'T2': 1.037634677390102e-05, 'f1QRB': 0.9738364450123013, 'f1QRB_std_err': 0.009366824626477116, 'f1Q_simultaneous_RB': 0.9916034188963817, 'f1Q_simultaneous_RB_std_err': 0.0006535491361938779, 'fActiveReset': 0.9890000000000001, 'fRO': 0.956}, '13': {'T1': 7.594355459428215e-05, 'T2': 8.751964729837582e-06, 'f1QRB': 0.995312817103458, 'f1QRB_std_err': 0.00011319337551723124, 'f1Q_simultaneous_RB': 0.9868944606329181, 'f1Q_simultaneous_RB_std_err': 0.0004617905504823275, 'fActiveReset': 0.9935, 'fRO': 0.954}, '130': {'T1': 1.0263410872513035e-05, 'T2': 1.863315187281445e-05, 'f1QRB': 0.9968422133887005, 'f1QRB_std_err': 0.00010895560584175077, 'f1Q_simultaneous_RB': 0.9960161679233266, 'f1Q_simultaneous_RB_std_err': 0.00012687113350332306, 'fActiveReset': 0.9955000000000002, 'fRO': 0.979}, '131': {'T1': 3.958049795116381e-05, 'T2': 6.725922667195993e-05, 'f1QRB': 0.9992499196476688, 'f1QRB_std_err': 0.00025075218085488074, 'f1Q_simultaneous_RB': 0.9969914231251582, 'f1Q_simultaneous_RB_std_err': 0.00041337179705830114, 'fActiveReset': 0.995, 'fRO': 0.937}, '132': {'T1': 2.5192642476135063e-05, 'T2': 7.348486768577934e-06, 'f1QRB': 0.9958825370286079, 'f1QRB_std_err': 0.0001585428425166147, 'f1Q_simultaneous_RB': 0.9970025095608128, 'f1Q_simultaneous_RB_std_err': 0.0001632378275709649, 'fActiveReset': 0.9990000000000001, 'fRO': 0.973}, '133': {'T1': 7.668270920335729e-05, 'T2': 2.3062405274156642e-05, 'f1QRB': 0.999206730664677, 'f1QRB_std_err': 0.00017732498453173362, 'f1Q_simultaneous_RB': 0.998874653235654, 'f1Q_simultaneous_RB_std_err': 0.0004003562430257089, 'fActiveReset': 0.9965, 'fRO': 0.9359999999999999}, '134': {'T1': 3.9044615598005095e-05, 'T2': 3.2927964864407845e-05, 'f1QRB': 0.9994757237619826, 'f1QRB_std_err': 0.00014062281625659028, 'f1Q_simultaneous_RB': 0.9987967045179209, 'f1Q_simultaneous_RB_std_err': 0.00026253001231117174, 'fActiveReset': 0.9995, 'fRO': 0.976}, '135': {'T1': 3.069130157595801e-05, 'T2': 7.76917040349519e-06, 'f1QRB': 0.9460232413099076, 'f1QRB_std_err': 0.002651100207132977, 'f1Q_simultaneous_RB': 0.9697540803330382, 'f1Q_simultaneous_RB_std_err': 0.0033688931352167024, 'fActiveReset': 0.9825, 'fRO': 0.9764999999999999}, '136': {'T1': 2.179818509984166e-05, 'T2': 3.879849254726402e-05, 'f1QRB': 0.9983768322573878, 'f1QRB_std_err': 8.363796137084942e-05, 'f1Q_simultaneous_RB': 0.9962540917934122, 'f1Q_simultaneous_RB_std_err': 0.00031144692402138247, 'fActiveReset': 0.998, 'fRO': 0.969}, '137': {'T1': 4.6948938265733986e-05, 'T2': 1.745392261041157e-05, 'f1QRB': 0.9989788316390569, 'f1QRB_std_err': 0.00011355609427364718, 'f1Q_simultaneous_RB': 0.99757677119092, 'f1Q_simultaneous_RB_std_err': 0.00039137959497238095, 'fActiveReset': 0.998, 'fRO': 0.974}, '14': {'T1': 3.170709701527663e-05, 'T2': 4.2574900887289805e-05, 'f1QRB': 0.9828523284589196, 'f1QRB_std_err': 0.0030240327182633926, 'f1Q_simultaneous_RB': 0.9977932399262464, 'f1Q_simultaneous_RB_std_err': 0.00014489264723090844, 'fActiveReset': 0.9995, 'fRO': 0.9775}, '140': {'T1': 1.3277281958989917e-05, 'T2': 3.4903784156290425e-06, 'f1QRB': 0.9958364339851258, 'f1QRB_std_err': 0.00014673610272204377, 'f1Q_simultaneous_RB': 0.9923289018341372, 'f1Q_simultaneous_RB_std_err': 0.00041180590994314097, 'fActiveReset': 0.998, 'fRO': 0.9864999999999999}, '141': {'T1': 7.046091013007683e-05, 'T2': 6.899656717158692e-05, 'f1QRB': 0.9978061637346046, 'f1QRB_std_err': 0.0004527652923353465, 'f1Q_simultaneous_RB': 0.9969784756708877, 'f1Q_simultaneous_RB_std_err': 0.0001793806617709697, 'fActiveReset': 0.9990000000000001, 'fRO': 0.931}, '142': {'T1': 1.4670047998377456e-05, 'T2': 8.355102471148703e-06, 'f1QRB': 0.9960589009089673, 'f1QRB_std_err': 0.00044847086952288606, 'f1Q_simultaneous_RB': 0.9867724928818249, 'f1Q_simultaneous_RB_std_err': 0.0008319814132665, 'fActiveReset': 0.9795, 'fRO': 0.958}, '143': {'T1': 4.762694310866955e-05, 'T2': 1.9459581517155302e-05, 'f1QRB': 0.9953651783528372, 'f1QRB_std_err': 0.0003691188929983052, 'f1Q_simultaneous_RB': 0.9964815583924591, 'f1Q_simultaneous_RB_std_err': 0.00025371275434336307, 'fActiveReset': 0.9925, 'fRO': 0.9395}, '144': {'T1': 3.9161246450092335e-06, 'T2': 3.7236770420966795e-06, 'f1QRB': 0.9934248182574081, 'f1QRB_std_err': 0.0003778643070026194, 'f1Q_simultaneous_RB': 0.9902401732306596, 'f1Q_simultaneous_RB_std_err': 0.0006055087229376255, 'fActiveReset': 0.992, 'fRO': 0.9684999999999999}, '145': {'T1': 3.6683588496844166e-05, 'T2': 9.0781969356877e-06, 'f1QRB': 0.9972883010896755, 'f1QRB_std_err': 0.00018318701459170512, 'f1Q_simultaneous_RB': 0.9978004708718357, 'f1Q_simultaneous_RB_std_err': 0.0001673280768807429, 'fActiveReset': 0.9995, 'fRO': 0.9644999999999999}, '146': {'T1': 2.0678487514080857e-05, 'T2': 3.941346784319216e-06, 'f1QRB': 0.9936420408338698, 'f1QRB_std_err': 0.0003424517857229046, 'f1Q_simultaneous_RB': 0.9985383344087805, 'f1Q_simultaneous_RB_std_err': 0.0001226034611068394, 'fActiveReset': 0.9995, 'fRO': 0.9655}, '147': {'T1': 2.5667172870003085e-05, 'T2': 2.3001927134903436e-05, 'f1QRB': 0.9941732766863549, 'f1QRB_std_err': 0.0004010534266169523, 'f1Q_simultaneous_RB': 0.9948110878699863, 'f1Q_simultaneous_RB_std_err': 0.0003611169639403563, 'fActiveReset': 0.998, 'fRO': 0.9744999999999999}, '15': {'T1': 5.079019089593295e-05, 'T2': 6.060638036305044e-05, 'f1QRB': 0.9986973311046958, 'f1QRB_std_err': 0.0004863021908146925, 'f1Q_simultaneous_RB': 0.9981168359495662, 'f1Q_simultaneous_RB_std_err': 0.00047528283002477774, 'fActiveReset': 0.9995, 'fRO': 0.9545}, '16': {'T1': 4.051832544571532e-05, 'T2': 6.526058411109613e-05, 'f1QRB': 0.9994735228583047, 'f1QRB_std_err': 0.00018921101815104192, 'f1Q_simultaneous_RB': 0.9974682711919236, 'f1Q_simultaneous_RB_std_err': 0.00012433804635382121, 'fActiveReset': 0.9985, 'fRO': 0.9795}, '17': {'T1': 6.451457477174571e-05, 'T2': 0.00010413299585409515, 'f1QRB': 0.9989696410230016, 'f1QRB_std_err': 0.00029587767198649287, 'f1Q_simultaneous_RB': 0.9984069118816707, 'f1Q_simultaneous_RB_std_err': 0.00028128091744250664, 'fActiveReset': 0.9990000000000001, 'fRO': 0.9319999999999999}, '2': {'T1': 2.2726219709667816e-05, 'T2': 1.8903493236192885e-05, 'f1QRB': 0.9965570461292947, 'f1QRB_std_err': 0.0004890350921266794, 'f1Q_simultaneous_RB': 0.9825542684179775, 'f1Q_simultaneous_RB_std_err': 0.001529742062370106, 'fActiveReset': 0.971, 'fRO': 0.915}, '20': {'T1': 2.244313551802435e-05, 'T2': 1.4384069710837858e-05, 'f1QRB': 0.9048477267364443, 'f1QRB_std_err': 0.02621152329740977, 'f1Q_simultaneous_RB': 0.996429421623729, 'f1Q_simultaneous_RB_std_err': 0.0002541187251552855, 'fActiveReset': 0.9955000000000002, 'fRO': 0.9259999999999999}, '21': {'T1': 5.1197076318176826e-05, 'T2': 5.9900316831119126e-05, 'f1QRB': 0.9930688409216346, 'f1QRB_std_err': 0.00840020339612702, 'f1Q_simultaneous_RB': 0.9960541125935365, 'f1Q_simultaneous_RB_std_err': 0.00027868259903377125, 'fActiveReset': 0.938, 'fRO': 0.88}, '22': {'T1': 1.4767407082949546e-05, 'T2': 4.052238115431591e-06, 'f1QRB': 0.9893882635816784, 'f1QRB_std_err': 0.0008601709521286108, 'f1Q_simultaneous_RB': 0.9612602185445227, 'f1Q_simultaneous_RB_std_err': 0.0035899165489256587, 'fActiveReset': 0.968, 'fRO': 0.957}, '23': {'T1': 9.407002122974184e-05, 'T2': 1.5508175302485142e-05, 'f1QRB': 0.9990895217827006, 'f1QRB_std_err': 0.0003523638665146971, 'f1Q_simultaneous_RB': 0.9976565374528512, 'f1Q_simultaneous_RB_std_err': 0.0005827973445060122, 'fActiveReset': 0.9995, 'fRO': 0.909}, '24': {'T1': 3.2257516054956525e-05, 'T2': 3.611583367214351e-05, 'f1QRB': 0.9981295862815902, 'f1QRB_std_err': 0.0004141458064528873, 'f1Q_simultaneous_RB': 0.9977831231465235, 'f1Q_simultaneous_RB_std_err': 9.00224463295947e-05, 'fActiveReset': 0.9990000000000001, 'fRO': 0.969}, '25': {'T1': 5.873041723791772e-05, 'T2': 6.58221836826551e-05, 'f1QRB': 0.9986122224910698, 'f1QRB_std_err': 0.0005482977326738393, 'f1Q_simultaneous_RB': 0.9963835817570218, 'f1Q_simultaneous_RB_std_err': 0.00023623774145401424, 'fActiveReset': 0.9995, 'fRO': 0.9744999999999999}, '26': {'T1': 1.990518904970706e-05, 'T2': 3.578148868186568e-05, 'f1QRB': 0.9982985149824632, 'f1QRB_std_err': 0.00018323095698506166, 'f1Q_simultaneous_RB': 0.9957184315701249, 'f1Q_simultaneous_RB_std_err': 0.00023881744291585967, 'fActiveReset': 0.9955000000000002, 'fRO': 0.9555}, '27': {'T1': 6.007580792211087e-05, 'T2': 1.6164960025241574e-05, 'f1QRB': 0.9994666831403609, 'f1QRB_std_err': 0.0002951657803055349, 'f1Q_simultaneous_RB': 0.9943515975018002, 'f1Q_simultaneous_RB_std_err': 0.0002806127454068747, 'fActiveReset': 0.997, 'fRO': 0.879}, '3': {'T1': 6.87e-05, 'T2': 3.42e-05, 'f1QRB': 0.9995, 'f1QRB_std_err': 0.001, 'f1Q_simultaneous_RB': 0.9983666279495327, 'f1Q_simultaneous_RB_std_err': 0.000301098039788734, 'fActiveReset': 0.998, 'fRO': 0.9565}, '30': {'T1': 1.9843751779768937e-05, 'T2': 2.043846941843258e-05, 'f1QRB': 0.9980672511324596, 'f1QRB_std_err': 0.00019652280989344712, 'f1Q_simultaneous_RB': 0.9976767511439801, 'f1Q_simultaneous_RB_std_err': 0.00024970174291646, 'fActiveReset': 0.9875, 'fRO': 0.9359999999999999}, '31': {'T1': 4.288379478545323e-05, 'T2': 5.389849383878926e-05, 'f1QRB': 0.9986208281983529, 'f1QRB_std_err': 0.0005331879876766579, 'f1Q_simultaneous_RB': 0.9982924336558391, 'f1Q_simultaneous_RB_std_err': 0.00017682179537443306, 'fActiveReset': 0.996, 'fRO': 0.9355}, '32': {'T1': 2.5114532771208786e-05, 'T2': 3.290747057463296e-05, 'f1QRB': 0.9936781795902043, 'f1QRB_std_err': 0.000592298211885191, 'f1Q_simultaneous_RB': 0.9949130208008671, 'f1Q_simultaneous_RB_std_err': 0.0002946587326993692, 'fActiveReset': 0.9985, 'fRO': 0.965}, '33': {'T1': 1.34282347568071e-05, 'T2': 8.544498686287612e-06, 'f1QRB': 0.9939119711901402, 'f1QRB_std_err': 0.00042150445057843975, 'f1Q_simultaneous_RB': 0.9916516949698972, 'f1Q_simultaneous_RB_std_err': 0.0005572835005057395, 'fActiveReset': 0.9990000000000001, 'fRO': 0.9279999999999999}, '34': {'T1': 4.538334796455601e-05, 'T2': 7.212827381726737e-05, 'f1QRB': 0.9990216324800094, 'f1QRB_std_err': 0.00023976547231512762, 'f1Q_simultaneous_RB': 0.9939014393460323, 'f1Q_simultaneous_RB_std_err': 0.0005254283690568837, 'fActiveReset': 0.9990000000000001, 'fRO': 0.9179999999999999}, '35': {'T1': 5.3019394757880534e-05, 'T2': 3.95215424799364e-05, 'f1QRB': 0.9988960386393323, 'f1QRB_std_err': 0.0004093656504796565, 'f1Q_simultaneous_RB': 0.9974900577514316, 'f1Q_simultaneous_RB_std_err': 0.000212539403851272, 'fActiveReset': 0.9940000000000001, 'fRO': 0.9425}, '36': {'T1': 1.6738558463513797e-05, 'T2': 5.518429183453555e-05, 'f1QRB': 0.9936782027257146, 'f1QRB_std_err': 0.0006060933990219555, 'f1Q_simultaneous_RB': 0.9970859072538825, 'f1Q_simultaneous_RB_std_err': 0.00020410531250827663, 'fActiveReset': 0.9975, 'fRO': 0.9605}, '37': {'T1': 2.0024782645178263e-05, 'T2': 2.1825339634252012e-05, 'f1QRB': 0.9981856144714789, 'f1QRB_std_err': 0.0003192246425017005, 'f1Q_simultaneous_RB': 0.997758235028451, 'f1Q_simultaneous_RB_std_err': 0.00010150470447458415, 'fActiveReset': 0.9945, 'fRO': 0.971}, '4': {'T1': 2.317151208286461e-05, 'T2': 1.2214491921922697e-06, 'f1QRB': 0.9923858720157849, 'f1QRB_std_err': 0.00024439249949140956, 'f1Q_simultaneous_RB': 0.9886734518227889, 'f1Q_simultaneous_RB_std_err': 0.0007013845991675908, 'fActiveReset': 0.997, 'fRO': 0.9185}, '40': {'T1': 3.404616560986895e-05, 'T2': 4.234553566954723e-05, 'f1QRB': 0.998793863435051, 'f1QRB_std_err': 8.464923664565378e-05, 'f1Q_simultaneous_RB': 0.9980576345158094, 'f1Q_simultaneous_RB_std_err': 0.00018661700399920375, 'fActiveReset': 0.9995, 'fRO': 0.9735}, '41': {'T1': 3.842645038476533e-05, 'T2': 2.3564682623302515e-05, 'f1QRB': 0.9991516622963384, 'f1QRB_std_err': 0.00012818205884081887, 'f1Q_simultaneous_RB': 0.9985325881027413, 'f1Q_simultaneous_RB_std_err': 0.00010198981836457869, 'fActiveReset': 0.9995, 'fRO': 0.9535}, '42': {'T1': 1.8035814290495722e-05, 'T2': 2.451148528759567e-05, 'f1QRB': 0.9976369874123826, 'f1QRB_std_err': 0.00017755475392954953, 'f1Q_simultaneous_RB': 0.9982334338761158, 'f1Q_simultaneous_RB_std_err': 0.00011628011031414187, 'fActiveReset': 0.9985, 'fRO': 0.9735}, '43': {'T1': 9.944579061782477e-06, 'T2': 9.538049716596575e-06, 'f1QRB': 0.9964424390848596, 'f1QRB_std_err': 0.0003394521508666461, 'f1Q_simultaneous_RB': 0.9926929400740535, 'f1Q_simultaneous_RB_std_err': 0.0002706467714705317, 'fActiveReset': 0.9940000000000001, 'fRO': 0.9704999999999999}, '44': {'T1': 3.6039891944117386e-06, 'T2': 2.492380722759598e-06, 'f1QRB': 0.991506649544108, 'f1QRB_std_err': 0.0003956601631836801, 'f1Q_simultaneous_RB': 0.9836892341906855, 'f1Q_simultaneous_RB_std_err': 0.001066993511476566, 'fActiveReset': 0.9735, 'fRO': 0.966}, '45': {'T1': 1.629325570129403e-05, 'T2': 3.491240925424511e-05, 'f1QRB': 0.9988101863592861, 'f1QRB_std_err': 0.0002341343328876186, 'f1Q_simultaneous_RB': 0.9612430834873078, 'f1Q_simultaneous_RB_std_err': 0.0038573158929524564, 'fActiveReset': 0.9975, 'fRO': 0.9359999999999999}, '46': {'T1': 2.3027285416921117e-05, 'T2': 2.0856765338954456e-06, 'f1QRB': 0.99668451200255, 'f1QRB_std_err': 0.00010264313436570575, 'f1Q_simultaneous_RB': 0.9579294842694391, 'f1Q_simultaneous_RB_std_err': 0.0039465132307448325, 'fActiveReset': 0.993, 'fRO': 0.89}, '47': {'T1': 6.268741842885284e-05, 'T2': 9.967606252652873e-06, 'f1QRB': 0.9984971657040118, 'f1QRB_std_err': 0.0001362610076405577, 'f1Q_simultaneous_RB': 0.9548010228893223, 'f1Q_simultaneous_RB_std_err': 0.004941845440420527, 'fActiveReset': 0.9855000000000002, 'fRO': 0.8455}, '5': {'T1': 4.382756442899982e-05, 'T2': 7.301797062967751e-05, 'f1QRB': 0.9781148245291562, 'f1QRB_std_err': 0.004848444133672503, 'f1Q_simultaneous_RB': 0.9987810566813858, 'f1Q_simultaneous_RB_std_err': 0.0001760577790830205, 'fActiveReset': 0.9995, 'fRO': 0.9530000000000001}, '6': {'T1': 2.051567553640332e-05, 'T2': 2.9947725309103877e-05, 'f1QRB': 0.9967029995207599, 'f1QRB_std_err': 0.0003552371997835362, 'f1Q_simultaneous_RB': 0.99693051572593, 'f1Q_simultaneous_RB_std_err': 0.0001740066287363346, 'fActiveReset': 0.997, 'fRO': 0.985}, '7': {'T1': 4.066700871208084e-05, 'T2': 1.6899200145612325e-05, 'f1QRB': 0.9977338486663703, 'f1QRB_std_err': 0.00011794671873175128, 'f1Q_simultaneous_RB': 0.9805121129945731, 'f1Q_simultaneous_RB_std_err': 0.0019971333148159956, 'fActiveReset': 0.998, 'fRO': 0.9179999999999999}}, '2Q': {'0-1': {'fCPHASE': 0.9583933038403442, 'fCPHASE_std_err': 0.015042926310085206, 'fCZ': 0.9472836562734658, 'fCZ_std_err': 0.008768522959764838, 'fXY': 0.8359101251757199, 'fXY_std_err': 0.015572707743683047}, '0-103': {'fCPHASE': 0.95, 'fCPHASE_std_err': 0.01, 'fCZ': 0.946918977695981, 'fCZ_std_err': 0.012522110021612716, 'fXY': 0.9893036969656481, 'fXY_std_err': 0.007599178229156968}, '0-7': {'fCPHASE': 0.9549182753333478, 'fCPHASE_std_err': 0.008750514311392087, 'fCZ': 0.943044086257278, 'fCZ_std_err': 0.011238117914843955, 'fXY': 0.9731292280190671, 'fXY_std_err': 0.00431091358257745}, '1-16': {'fCPHASE': 0.8163697180549572, 'fCPHASE_std_err': 0.017274472563380546, 'fCZ': 0.9629815533341438, 'fCZ_std_err': 0.009207269120252454, 'fXY': 0.9787927302096497, 'fXY_std_err': 0.005656219035045886}, '1-2': {'fCPHASE': 0.8164035322749004, 'fCPHASE_std_err': 0.008725761862242746, 'fCZ': 0.8575230949322828, 'fCZ_std_err': 0.007019170789919201}, '10-11': {'fCPHASE': 0.9724823922350452, 'fCPHASE_std_err': 0.005123856949115137, 'fCZ': 0.9832883891844163, 'fCZ_std_err': 0.002128659667644077, 'fXY': 0.9945449756261456, 'fXY_std_err': 0.0034812508395153288}, '10-113': {'fCPHASE': 0.95, 'fCPHASE_std_err': 0.0063378127110447465, 'fCZ': 0.9595432395747578, 'fCZ_std_err': 0.008565304760228931, 'fXY': 0.9528725025304116, 'fXY_std_err': 0.009034204562959456}, '10-17': {'fCPHASE': 0.9799056436278545, 'fCPHASE_std_err': 0.012355559468073535, 'fCZ': 0.990274388951744, 'fCZ_std_err': 0.002071971600802638, 'fXY': 0.9811068784121882, 'fXY_std_err': 0.0036481142690853703}, '100-101': {'fCPHASE': 0.9719677166194687, 'fCPHASE_std_err': 0.008045472759474774, 'fCZ': 0.891746453466294, 'fCZ_std_err': 0.016403883937905404, 'fXY': 0.9656853763076253, 'fXY_std_err': 0.009083140811950337}, '100-107': {'fCPHASE': 0.9659264197651438, 'fCPHASE_std_err': 0.009101668109468098, 'fCZ': 0.9518715882626914, 'fCZ_std_err': 0.010427653226414653, 'fXY': 0.9642293424824742, 'fXY_std_err': 0.011551184099540918}, '101-102': {'fCPHASE': 0.80471490354681, 'fCPHASE_std_err': 0.015642299929648794, 'fCZ': 0.847834624349164, 'fCZ_std_err': 0.013245165253438284, 'fXY': 0.8556153965533378, 'fXY_std_err': 0.01083667632666386}, '101-116': {'fCPHASE': 0.7603946508391788, 'fCPHASE_std_err': 0.023487724825531117, 'fCZ': 0.8254545620487509, 'fCZ_std_err': 0.018682001665989035, 'fXY': 0.9672105354252422, 'fXY_std_err': 0.004801311088531379}, '102-103': {'fCPHASE': 0.8453911443128499, 'fCPHASE_std_err': 0.016583552789478342, 'fCZ': 0.8666034621358678, 'fCZ_std_err': 0.015791653444451437, 'fXY': 0.9408588664561686, 'fXY_std_err': 0.008046366959390856}, '102-115': {'fCPHASE': 0.8565602182132452, 'fCPHASE_std_err': 0.010151922194918082, 'fCZ': 0.9747285172607641, 'fCZ_std_err': 0.00741608266676504, 'fXY': 0.8233451989655401, 'fXY_std_err': 0.013185676244728401}, '103-104': {'fCPHASE': 0.8324453254170314, 'fCPHASE_std_err': 0.013160222428297856, 'fCZ': 0.8637156852066739, 'fCZ_std_err': 0.008980779556118762, 'fXY': 0.8482845619353335, 'fXY_std_err': 0.007803060965296354}, '105-106': {'fCPHASE': 0.8702508298147484, 'fCPHASE_std_err': 0.006913451247141438, 'fCZ': 0.8614745795894413, 'fCZ_std_err': 0.008602705362993646, 'fXY': 0.9471609281105067, 'fXY_std_err': 0.010731213807065315}, '106-107': {'fCPHASE': 0.8942761927319239, 'fCPHASE_std_err': 0.0044742824664591, 'fCZ': 0.9325690064017098, 'fCZ_std_err': 0.01104241945410484}, '11-12': {'fCPHASE': 0.8441230156336039, 'fCPHASE_std_err': 0.010406541331527566, 'fCZ': 0.8345305274718722, 'fCZ_std_err': 0.012030466396027693, 'fXY': 0.8212458695022256, 'fXY_std_err': 0.00917199601606817}, '11-26': {'fCPHASE': 0.9422025288168421, 'fCPHASE_std_err': 0.009114295644418268, 'fCZ': 0.9149291069993015, 'fCZ_std_err': 0.015875677157587465, 'fXY': 0.9680709018160593, 'fXY_std_err': 0.006106945050857265}, '110-111': {'fCPHASE': 0.9734258326192001, 'fCPHASE_std_err': 0.007037646485686008, 'fCZ': 0.9772320351297022, 'fCZ_std_err': 0.004257407907304173, 'fXY': 0.9715044439776648, 'fXY_std_err': 0.0044640054771051384}, '110-117': {'fCPHASE': 0.9550883548160516, 'fCPHASE_std_err': 0.007261392724829726, 'fCZ': 0.9649106089900295, 'fCZ_std_err': 0.005591309015713388, 'fXY': 0.9663412322348968, 'fXY_std_err': 0.006426432294688966}, '111-112': {'fCPHASE': 0.970358061538862, 'fCPHASE_std_err': 0.005579208936508501, 'fCZ': 0.9793315087437213, 'fCZ_std_err': 0.0030951024894492183, 'fXY': 0.9688778165498352, 'fXY_std_err': 0.005679322123500626}, '111-126': {'fCPHASE': 0.8765364830038755, 'fCPHASE_std_err': 0.0065650738728521, 'fCZ': 0.8820731049822796, 'fCZ_std_err': 0.005903682173628113, 'fXY': 0.7853529190525262, 'fXY_std_err': 0.009730882206579106}, '112-113': {'fCPHASE': 0.968434930228524, 'fCPHASE_std_err': 0.00768077799473981, 'fCZ': 0.9821337427428599, 'fCZ_std_err': 0.003738959350915003, 'fXY': 0.9496372113570125, 'fXY_std_err': 0.006601663110083824}, '112-125': {'fCPHASE': 0.971705340737057, 'fCPHASE_std_err': 0.00644219228454466, 'fCZ': 0.9595876256056347, 'fCZ_std_err': 0.007034065655642145, 'fXY': 0.9442508298055023, 'fXY_std_err': 0.006879734298211962}, '113-114': {'fCPHASE': 0.9679068900061459, 'fCPHASE_std_err': 0.0067122541113384246, 'fCZ': 0.8974492102239279, 'fCZ_std_err': 0.008664810253894454, 'fXY': 0.9839918494715758, 'fXY_std_err': 0.0036858251563829008}, '114-115': {'fCPHASE': 0.9847155914128944, 'fCPHASE_std_err': 0.003881982953080676, 'fCZ': 0.9818600153484272, 'fCZ_std_err': 0.0037222398316696407, 'fXY': 0.9793344502252725, 'fXY_std_err': 0.005931080917861963}, '115-116': {'fCPHASE': 0.733971376978875, 'fCPHASE_std_err': 0.02317395381433058, 'fCZ': 0.879824879516696, 'fCZ_std_err': 0.009269646842626239, 'fXY': 0.8616561049924253, 'fXY_std_err': 0.005036133326341615}, '116-117': {'fCPHASE': 0.900993858216272, 'fCPHASE_std_err': 0.012914897442126216, 'fCZ': 0.8886567980229462, 'fCZ_std_err': 0.00838481108756284, 'fXY': 0.960778104184619, 'fXY_std_err': 0.010923726896063553}, '12-13': {'fCPHASE': 0.8214478000931791, 'fCPHASE_std_err': 0.010843641937707926, 'fCZ': 0.8680349679333247, 'fCZ_std_err': 0.006409754423928066, 'fXY': 0.8572952724174876, 'fXY_std_err': 0.005386673462282734}, '12-25': {'fCPHASE': 0.8112204189207756, 'fCPHASE_std_err': 0.011528364404090974, 'fCZ': 0.8444195819201031, 'fCZ_std_err': 0.007691368097441503, 'fXY': 0.8876464925172768, 'fXY_std_err': 0.005044784052257367}, '120-121': {'fCPHASE': 0.9764248913293829, 'fCPHASE_std_err': 0.004479619083574167, 'fCZ': 0.9813828049112939, 'fCZ_std_err': 0.0035511792109281536, 'fXY': 0.9718821079236978, 'fXY_std_err': 0.004180776197269548}, '120-127': {'fCPHASE': 0.8625436026511011, 'fCPHASE_std_err': 0.006396418245830076, 'fCZ': 0.861712278939294, 'fCZ_std_err': 0.01075290966353935, 'fXY': 0.9565438854679666, 'fXY_std_err': 0.0068909366304394995}, '121-122': {'fCPHASE': 0.9618591940741719, 'fCPHASE_std_err': 0.006256705027461795, 'fCZ': 0.9470069299515448, 'fCZ_std_err': 0.009330518213321448, 'fXY': 0.9744403289915031, 'fXY_std_err': 0.004797550337351981}, '121-136': {'fCPHASE': 0.8095219173282744, 'fCPHASE_std_err': 0.011773867257856459, 'fCZ': 0.7851274748279087, 'fCZ_std_err': 0.01837306535419311, 'fXY': 0.950603998836876, 'fXY_std_err': 0.009254222378102885}, '122-123': {'fCPHASE': 0.8868354326942651, 'fCPHASE_std_err': 0.006515535672099426, 'fCZ': 0.9026241700720079, 'fCZ_std_err': 0.004847654695570293, 'fXY': 0.9782903834704713, 'fXY_std_err': 0.005226319830909835}, '122-135': {'fXY': 0.8058318185452279, 'fXY_std_err': 0.013727503324673826}, '123-124': {'fCPHASE': 0.8222703456498759, 'fCPHASE_std_err': 0.010735882442832105, 'fCZ': 0.8792066985483461, 'fCZ_std_err': 0.005782664354457436, 'fXY': 0.8182577710721182, 'fXY_std_err': 0.010818637783097131}, '124-125': {'fCPHASE': 0.8440137845315191, 'fCPHASE_std_err': 0.009709644825109097, 'fCZ': 0.8351716429713931, 'fCZ_std_err': 0.008795771648922179, 'fXY': 0.9002713065936893, 'fXY_std_err': 0.004541970420296812}, '125-126': {'fXY': 0.9036707433719914, 'fXY_std_err': 0.004501815876270782}, '126-127': {'fCPHASE': 0.8712283992394696, 'fCPHASE_std_err': 0.00568360496860707, 'fCZ': 0.833299740794256, 'fCZ_std_err': 0.00875373397479395, 'fXY': 0.8614185709082587, 'fXY_std_err': 0.005577296007724655}, '13-14': {'fCPHASE': 0.8175456264475087, 'fCPHASE_std_err': 0.013026644946939708, 'fCZ': 0.9087652579212847, 'fCZ_std_err': 0.0041375578008631345, 'fXY': 0.9490523199274474, 'fXY_std_err': 0.006925605036933718}, '130-131': {'fCPHASE': 0.8970245248076651, 'fCPHASE_std_err': 0.004157273812867721, 'fCZ': 0.9653019393677343, 'fCZ_std_err': 0.009414709228342645, 'fXY': 0.9807160492287317, 'fXY_std_err': 0.0031124662304802}, '130-137': {'fCPHASE': 0.9583527268076526, 'fCPHASE_std_err': 0.006403226694718738, 'fCZ': 0.9587445022823343, 'fCZ_std_err': 0.008693390088424431, 'fXY': 0.9635865990519896, 'fXY_std_err': 0.006636296458483465}, '131-132': {'fCPHASE': 0.9572494585771605, 'fCPHASE_std_err': 0.008362961171054487, 'fCZ': 0.9816307738851361, 'fCZ_std_err': 0.004120508050420724, 'fXY': 0.8279173552713942, 'fXY_std_err': 0.009668073160884498}, '131-146': {'fCPHASE': 0.9713201278445441, 'fCPHASE_std_err': 0.004435760282245191, 'fCZ': 0.9739650608945191, 'fCZ_std_err': 0.00573411955589749, 'fXY': 0.9745344620037742, 'fXY_std_err': 0.006135738188376856}, '132-133': {'fCPHASE': 0.9583955405496977, 'fCPHASE_std_err': 0.011770891519488857, 'fCZ': 0.9529089575341725, 'fCZ_std_err': 0.00894277430533369, 'fXY': 0.9793317958671679, 'fXY_std_err': 0.0038674982939670335}, '132-145': {'fCPHASE': 0.9353709425735706, 'fCPHASE_std_err': 0.013474690426914192, 'fCZ': 0.9506899793454551, 'fCZ_std_err': 0.010254111417715695, 'fXY': 0.9636981760336281, 'fXY_std_err': 0.005446758688938342}, '133-134': {'fXY': 0.9679082289706409, 'fXY_std_err': 0.0039300499245632}, '134-135': {'fCPHASE': 0.7863605127504727, 'fCPHASE_std_err': 0.009653381826925109, 'fCZ': 0.8555231542000485, 'fCZ_std_err': 0.004723916025036573, 'fXY': 0.8168416257916787, 'fXY_std_err': 0.013914186660890736}, '135-136': {'fXY': 0.8815388964599713, 'fXY_std_err': 0.004158191112691893}, '136-137': {'fCPHASE': 0.9116673232129776, 'fCPHASE_std_err': 0.004778376218998928, 'fCZ': 0.8376484186214951, 'fCZ_std_err': 0.010277374254184075, 'fXY': 0.8962085931730179, 'fXY_std_err': 0.005227258127286045}, '14-15': {'fCPHASE': 0.8895227269790834, 'fCPHASE_std_err': 0.006580653336250877, 'fCZ': 0.8024197437747672, 'fCZ_std_err': 0.019914944230983608, 'fXY': 0.7567184911169494, 'fXY_std_err': 0.010421698865400873}, '140-141': {'fCPHASE': 0.8977537565610555, 'fCPHASE_std_err': 0.004871656840241684, 'fCZ': 0.8805210219832589, 'fCZ_std_err': 0.006797520963337636, 'fXY': 0.8357414431804794, 'fXY_std_err': 0.01091018767723926}, '140-147': {'fCPHASE': 0.874661970971315, 'fCPHASE_std_err': 0.006743619662435552, 'fCZ': 0.8863298326196365, 'fCZ_std_err': 0.005550875807135416}, '141-142': {'fCPHASE': 0.8457847047379188, 'fCPHASE_std_err': 0.010327679133511753, 'fCZ': 0.966080574748153, 'fCZ_std_err': 0.005063845191174655, 'fXY': 0.8792543937231005, 'fXY_std_err': 0.0065777175407372756}, '142-143': {'fCPHASE': 0.8814569384026311, 'fCPHASE_std_err': 0.006629707558716723, 'fCZ': 0.9416817023771951, 'fCZ_std_err': 0.007619051996261041, 'fXY': 0.8760890148242632, 'fXY_std_err': 0.007705708641422951}, '143-144': {'fCPHASE': 0.8008019725742059, 'fCPHASE_std_err': 0.011610171749148803, 'fCZ': 0.7891063426963023, 'fCZ_std_err': 0.011745350440936123, 'fXY': 0.8701243451329457, 'fXY_std_err': 0.007582131185392236}, '144-145': {'fCPHASE': 0.8529065871793517, 'fCPHASE_std_err': 0.008384174136394336, 'fCZ': 0.7969002817329788, 'fCZ_std_err': 0.016132351649880687, 'fXY': 0.9820725468120858, 'fXY_std_err': 0.006186115510450737}, '145-146': {'fCPHASE': 0.7615320576824842, 'fCPHASE_std_err': 0.017435816020833432, 'fCZ': 0.8201642083439841, 'fCZ_std_err': 0.014831899702523837, 'fXY': 0.9696509504916029, 'fXY_std_err': 0.004105220566104218}, '146-147': {'fCPHASE': 0.8929293738072106, 'fCPHASE_std_err': 0.0069856021346204325, 'fCZ': 0.9859342550536462, 'fCZ_std_err': 0.0033150133009955713, 'fXY': 0.9796047463477574, 'fXY_std_err': 0.004653281924736432}, '15-16': {'fCPHASE': 0.9688315352526196, 'fCPHASE_std_err': 0.005329586010841924, 'fCZ': 0.9937380719853535, 'fCZ_std_err': 0.002440800753882009, 'fXY': 0.9690682380300786, 'fXY_std_err': 0.005819517618015605}, '16-17': {'fCPHASE': 0.9785469367418707, 'fCPHASE_std_err': 0.0033086468723496788, 'fCZ': 0.9861645028341567, 'fCZ_std_err': 0.003247127378520897, 'fXY': 0.977445922394153, 'fXY_std_err': 0.004099364223095811}, '17-114': {'fCPHASE': 0.9507532011701469, 'fCPHASE_std_err': 0.007555067167253288, 'fCZ': 0.9856262468454353, 'fCZ_std_err': 0.0030767762557650474, 'fXY': 0.9749597555931752, 'fXY_std_err': 0.0037296056950493063}, '2-15': {'fCPHASE': 0.7967466539862131, 'fCPHASE_std_err': 0.012019573009975214, 'fCZ': 0.8389006544378801, 'fCZ_std_err': 0.012107225606671261}, '20-123': {'fCPHASE': 0.8280912655339742, 'fCPHASE_std_err': 0.010315505504588705, 'fCZ': 0.8377873398242728, 'fCZ_std_err': 0.007767458222359075, 'fXY': 0.6702508576066893, 'fXY_std_err': 0.014348004197243107}, '20-21': {'fCPHASE': 0.8298620460935198, 'fCPHASE_std_err': 0.009339967361416285, 'fCZ': 0.8484945205110977, 'fCZ_std_err': 0.008809572615760134, 'fXY': 0.8570074954324193, 'fXY_std_err': 0.0077400577028379994}, '20-27': {'fCPHASE': 0.8542834921484506, 'fCPHASE_std_err': 0.009069184021280055, 'fCZ': 0.8347607332885056, 'fCZ_std_err': 0.011296956231815158, 'fXY': 0.7979849996456173, 'fXY_std_err': 0.01188246921067419}, '21-22': {'fCPHASE': 0.9817790517361165, 'fCPHASE_std_err': 0.004844554177042309, 'fCZ': 0.9527315288409727, 'fCZ_std_err': 0.005756692292812027, 'fXY': 0.9468520343065768, 'fXY_std_err': 0.00726158887329297}, '21-36': {'fCPHASE': 0.9514806632358905, 'fCPHASE_std_err': 0.00946271002345692, 'fCZ': 0.9735170559301602, 'fCZ_std_err': 0.003959022633648131, 'fXY': 0.9766857005152181, 'fXY_std_err': 0.0038935315884631454}, '22-23': {'fCPHASE': 0.8706844644501228, 'fCPHASE_std_err': 0.04219556282960515, 'fCZ': 0.919206397418893, 'fCZ_std_err': 0.03566971966910499, 'fXY': 0.9702204528664775, 'fXY_std_err': 0.010507498716235398}, '22-35': {'fCPHASE': 0.9568577732066204, 'fCPHASE_std_err': 0.007426992399305537, 'fCZ': 0.942933564745978, 'fCZ_std_err': 0.00839523785520088, 'fXY': 0.9645120261984473, 'fXY_std_err': 0.007643636010198511}, '23-24': {'fCPHASE': 0.8970617977878257, 'fCPHASE_std_err': 0.01619639756726278, 'fCZ': 0.9423190290054125, 'fCZ_std_err': 0.015683012591904143, 'fXY': 0.9783399163090081, 'fXY_std_err': 0.005701174536824315}, '24-25': {'fCPHASE': 0.9681261643829356, 'fCPHASE_std_err': 0.006754040260936555, 'fCZ': 0.9749431619357628, 'fCZ_std_err': 0.0036369870152669066, 'fXY': 0.9760204727543834, 'fXY_std_err': 0.003041203722004648}, '25-26': {'fCPHASE': 0.9541786046269535, 'fCPHASE_std_err': 0.007179892523581719, 'fCZ': 0.9182185697266548, 'fCZ_std_err': 0.01099169733418064, 'fXY': 0.9806848875200427, 'fXY_std_err': 0.011287928913780885}, '26-27': {'fCPHASE': 0.8915079634311145, 'fCPHASE_std_err': 0.004608591081020077, 'fCZ': 0.9360514764617284, 'fCZ_std_err': 0.013091729802934375, 'fXY': 0.9535108096621687, 'fXY_std_err': 0.006935932352680168}, '27-124': {'fCPHASE': 0.8757360184923922, 'fCPHASE_std_err': 0.005479897140138242, 'fCZ': 0.8896328274161124, 'fCZ_std_err': 0.004899614532199628, 'fXY': 0.8218871657617535, 'fXY_std_err': 0.007437641182048386}, '3-4': {'fXY': 0.9148453767086774, 'fXY_std_err': 0.017215268978339887}, '30-133': {'fCPHASE': 0.9645825569221544, 'fCPHASE_std_err': 0.005605543110988955, 'fCZ': 0.9626264705064698, 'fCZ_std_err': 0.0079322426669824, 'fXY': 0.9827836971578017, 'fXY_std_err': 0.008995678873265365}, '30-31': {'fCPHASE': 0.825542375528139, 'fCPHASE_std_err': 0.024158748632228152, 'fCZ': 0.9307794155111304, 'fCZ_std_err': 0.005348995275759267, 'fXY': 0.9859741977525327, 'fXY_std_err': 0.0027020696558946217}, '30-37': {'fCPHASE': 0.9651212842723477, 'fCPHASE_std_err': 0.009482736484709228, 'fCZ': 0.9763559365801772, 'fCZ_std_err': 0.004209212093099992, 'fXY': 0.9864961588716514, 'fXY_std_err': 0.002932117087299518}, '31-32': {'fCPHASE': 0.9744669990646281, 'fCPHASE_std_err': 0.0049703792620084215, 'fCZ': 0.9592753270619814, 'fCZ_std_err': 0.006004935815680008, 'fXY': 0.9715309174084028, 'fXY_std_err': 0.004655798130759738}, '31-46': {'fCPHASE': 0.7787140790644635, 'fCPHASE_std_err': 0.012068718485085051, 'fCZ': 0.8462671732972268, 'fCZ_std_err': 0.007479045256017345, 'fXY': 0.8185936619352894, 'fXY_std_err': 0.011208316193299584}, '32-33': {'fCPHASE': 0.9608899397055051, 'fCPHASE_std_err': 0.008496853137521443, 'fCZ': 0.9544028273913662, 'fCZ_std_err': 0.006358779416004833, 'fXY': 0.7268526405099823, 'fXY_std_err': 0.023428649175891637}, '32-45': {'fCPHASE': 0.9520011429475277, 'fCPHASE_std_err': 0.006302408341005008, 'fCZ': 0.9285018998895557, 'fCZ_std_err': 0.01241103285206008, 'fXY': 0.9884495350319511, 'fXY_std_err': 0.004106511334688963}, '33-34': {'fCPHASE': 0.9686798298244352, 'fCPHASE_std_err': 0.004520760883291327, 'fCZ': 0.9507716068046907, 'fCZ_std_err': 0.009676710006606559, 'fXY': 0.9759385334470242, 'fXY_std_err': 0.0043800790992347335}, '34-35': {'fCPHASE': 0.9749433920004189, 'fCPHASE_std_err': 0.005973011926541644, 'fCZ': 0.9745142482594438, 'fCZ_std_err': 0.0034331215495315105, 'fXY': 0.9780311657616152, 'fXY_std_err': 0.004936018741187797}, '35-36': {'fCPHASE': 0.9644436634831925, 'fCPHASE_std_err': 0.006499230538688565, 'fCZ': 0.9434375025129758, 'fCZ_std_err': 0.008480815446882704, 'fXY': 0.9776723115318251, 'fXY_std_err': 0.0035828891232359095}, '36-37': {'fCPHASE': 0.95450379733627, 'fCPHASE_std_err': 0.008423285907342497, 'fCZ': 0.9647136224167935, 'fCZ_std_err': 0.007680723843422607, 'fXY': 0.9721487507553792, 'fXY_std_err': 0.003409693469064949}, '37-134': {'fCPHASE': 0.7612589700863901, 'fCPHASE_std_err': 0.015622646541581315, 'fCZ': 0.9666786981854781, 'fCZ_std_err': 0.007244300677586673, 'fXY': 0.9444228340911952, 'fXY_std_err': 0.010166789719775143}, '4-5': {'fCPHASE': 0.798250334614798, 'fCPHASE_std_err': 0.010723290963876319, 'fCZ': 0.7619194054582438, 'fCZ_std_err': 0.01261867773469941, 'fXY': 0.8487515828183727, 'fXY_std_err': 0.0074852423311502995}, '40-143': {'fCPHASE': 0.9644540114684008, 'fCPHASE_std_err': 0.005393000537428056, 'fCZ': 0.913090735208168, 'fCZ_std_err': 0.011057815840649243, 'fXY': 0.9607390716139967, 'fXY_std_err': 0.009020669885278354}, '40-41': {'fCPHASE': 0.9502370751990683, 'fCPHASE_std_err': 0.008607797988398816, 'fCZ': 0.9525215065409662, 'fCZ_std_err': 0.01018328532012378, 'fXY': 0.9612287642770946, 'fXY_std_err': 0.005555338659182392}, '40-47': {'fCPHASE': 0.8051838109267727, 'fCPHASE_std_err': 0.011756778569704964, 'fCZ': 0.9586156126329108, 'fCZ_std_err': 0.010621696137490637, 'fXY': 0.9543898049311135, 'fXY_std_err': 0.009695735691505907}, '41-42': {'fCPHASE': 0.9086026999412704, 'fCPHASE_std_err': 0.004147374634563498, 'fCZ': 0.844921738460285, 'fCZ_std_err': 0.017381702968945097, 'fXY': 0.9566580695887358, 'fXY_std_err': 0.006880153892746856}, '42-43': {'fCPHASE': 0.9736583587885668, 'fCPHASE_std_err': 0.009800199100375313, 'fCZ': 0.9555560020288927, 'fCZ_std_err': 0.008583188178421517, 'fXY': 0.9519803834552056, 'fXY_std_err': 0.00769046914407691}, '43-44': {'fCPHASE': 0.8866951397480747, 'fCPHASE_std_err': 0.004957624797378192, 'fCZ': 0.8722109852660531, 'fCZ_std_err': 0.005765623751108411, 'fXY': 0.8986306854776412, 'fXY_std_err': 0.00467775362249242}, '44-45': {'fCPHASE': 0.8422070470198817, 'fCPHASE_std_err': 0.010621991090045291, 'fCZ': 0.8596798361069048, 'fCZ_std_err': 0.008564505893214582, 'fXY': 0.7583926749041755, 'fXY_std_err': 0.011773472063400498}, '45-46': {'fXY': 0.794680068966511, 'fXY_std_err': 0.011453199917000516}, '46-47': {'fCPHASE': 0.7697263076960558, 'fCPHASE_std_err': 0.015095804877357049, 'fCZ': 0.8444967997149558, 'fCZ_std_err': 0.008659281483589147}, '47-144': {'fCPHASE': 0.8431650039385653, 'fCPHASE_std_err': 0.010964846658017557, 'fCZ': 0.9462884547966756, 'fCZ_std_err': 0.012310859327148928, 'fXY': 0.8889275336432683, 'fXY_std_err': 0.008734958514710662}, '5-6': {'fCPHASE': 0.9818279684772552, 'fCPHASE_std_err': 0.0031229949050996433, 'fCZ': 0.9893602267310484, 'fCZ_std_err': 0.0031384102360715923, 'fXY': 0.9921022659441721, 'fXY_std_err': 0.001934300004849335}, '6-7': {'fCPHASE': 0.9553951407311514, 'fCPHASE_std_err': 0.011583145104515464, 'fCZ': 0.9002817833304921, 'fCZ_std_err': 0.007274276086026675, 'fXY': 0.9487974610360219, 'fXY_std_err': 0.008456890245284128}}}))"
      ]
     },
     "execution_count": 4,
     "metadata": {},
     "output_type": "execute_result"
    }
   ],
   "source": [
    "from braket.aws import AwsDevice, AwsQuantumTask\n",
    "# set up device\n",
    "rigetti = AwsDevice(\"arn:aws:braket:us-west-1::device/qpu/rigetti/Aspen-M-1\")\n",
    "rigetti.properties"
   ]
  },
  {
   "cell_type": "code",
   "execution_count": null,
   "metadata": {},
   "outputs": [],
   "source": [
    "# run circuit \n",
    "rigetti_task = rigetti.run(YOUR_CIRCUIT, shots=1000)\n",
    "\n",
    "# get id and status of submitted task\n",
    "rigetti_task_id = rigetti_task.id\n",
    "rigetti_status = rigetti_task.state()\n",
    "# print('ID of task:', rigetti_task_id)\n",
    "print('Status of task:', rigetti_status)"
   ]
  },
  {
   "cell_type": "markdown",
   "metadata": {},
   "source": [
    "Let's verify that your quantum job was submitted!"
   ]
  },
  {
   "cell_type": "code",
   "execution_count": null,
   "metadata": {},
   "outputs": [],
   "source": [
    "# print status\n",
    "!qbraid credits\n",
    "status = rigetti_task.state()\n",
    "print('Status of (reconstructed) task:', status)"
   ]
  },
  {
   "cell_type": "markdown",
   "metadata": {},
   "source": [
    "## Verify your solution\n",
    "Using our autograder, input the solution you and your teammates have come up with.\n",
    "Your solution should be a list of integers beginning with the initial node to traverse the graph and ending with the same node to complete the \"cycle\". "
   ]
  },
  {
   "cell_type": "code",
   "execution_count": 7,
   "metadata": {},
   "outputs": [
    {
     "name": "stdout",
     "output_type": "stream",
     "text": [
      "Success: path is a Hamiltonian cycle\n"
     ]
    },
    {
     "data": {
      "text/plain": [
       "True"
      ]
     },
     "execution_count": 7,
     "metadata": {},
     "output_type": "execute_result"
    }
   ],
   "source": [
    "# feed your solution to the auto-grader in the following format:\n",
    "from auto_grader import is_hamiltonian_cycle\n",
    "path = [5,6,1,7,4,2,0,3,5]\n",
    "is_hamiltonian_cycle(graph,path)"
   ]
  },
  {
   "cell_type": "markdown",
   "metadata": {},
   "source": [
    "## References\n",
    "Grover, L. K. A fast quantum mechanical algorithm for database search. Proceedings of the 28th Annual ACM Symposium on Theory of Computation,212–219 (1996).\n",
    "\n",
    "Mahasinghe, Anuradha & Hua, Richard & Dinneen, Michael & Goyal, Rajni. (2019). Solving the Hamiltonian Cycle Problem using a Quantum Computer. 1-9. 10.1145/3290688.3290703. "
   ]
  }
 ],
 "metadata": {
  "interpreter": {
   "hash": "58b72576b6658bd6ccd68b866a6387eb3eb2eb4149b077f5a55bf8fd5b90c11e"
  },
  "kernelspec": {
   "display_name": "Python 3 [Braket]",
   "language": "python",
   "name": "python3_aws_braket_kwx6dl"
  },
  "language_info": {
   "codemirror_mode": {
    "name": "ipython",
    "version": 3
   },
   "file_extension": ".py",
   "mimetype": "text/x-python",
   "name": "python",
   "nbconvert_exporter": "python",
   "pygments_lexer": "ipython3",
   "version": "3.9.7"
  }
 },
 "nbformat": 4,
 "nbformat_minor": 4
}
