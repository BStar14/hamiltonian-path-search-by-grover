{
 "cells": [
  {
   "cell_type": "markdown",
   "metadata": {},
   "source": [
    "# Grover's Algorithm qBraid Challenge\n",
    "\n",
    "In this challenge you and your team are tasked to code Grover's Algorithm to find a valid Hamiltonian cycle in a graph with 5 vertices. A Hamiltonian cycle or circuit is a closed loop on a graph where the edges visits each node exactly once and travels back to the first node. You'll have to figure out how to setup a proper phase oracle which searches through the different paths and returns the unique Hamiltonian cycles in the circuit.\n",
    "\n",
    "Before you get started make sure that:\n",
    "\n",
    "- You've enabled your qBraid Amazon Braket account. `qbraid enable account aws_braket`\n",
    "- Activated the Braket environment and are using the Braket Python 3 kernel (on the top right you should see **Python 3 [Braket]**)\n",
    "- *Please copy this file and rename it <team_name>\\_grover.ipynb*- we'd like to avoid merge conflicts with other submissions!"
   ]
  },
  {
   "cell_type": "markdown",
   "metadata": {},
   "source": [
    "## Submission Checklist\n",
    "- Make sure to include a readme!\n",
    "- Make sure you've run or queued your solution on a real quantum computer (Rigetti M-1 perferred)\n",
    "- Double check that your solution works with the autograder!\n",
    "\n",
    "## Judging Criteria\n",
    "- Your code must include a README.md which describes your implementation and includes how to run your solution.\n",
    "- Your code should be documented and easy to understand!\n",
    "- There are plenty of implementations on the web to guide you in better understanding Grover's search. Feel free to use them as guidance, but do code your solutions with as few out of box solutions \n",
    "    ie don't `from some_package import Grover`\n",
    "- Your code must run a job on real hardware or SV1 simulator using the qBraid Amazon Braket Account.\n"
   ]
  },
  {
   "cell_type": "markdown",
   "metadata": {},
   "source": [
    "## Challenge description\n",
    "- The graph is undirected and constrained to 5 nodes and 8 vertices. This implies that you should get more than one possible Hamiltonian cycle. You will just need to verify one of them.\n",
    "- There are no self loops\n",
    "- It does not have to be the shortest path.\n",
    "- You are free to choose any appropriate starting node.\n",
    "\n",
    "Your results should be a list of integers which indicate the nodes which are traversed in the path which your Grover's Algorithm has found.\n",
    "\n",
    "To use with the auto grader make sure that you provide it a list of integers:\n",
    "[ initial_node, second_node, ... intial_node]\n",
    "\n",
    "ex: [1,3,4,0,2,1]\n",
    "\n",
    "Possible extensions:\n",
    "- Generalize the oracle to handle smaller graphs where it verifies if there indeed exists a Hamiltonian cycle.\n",
    "- Run on different Amazon Braket devices and check your results!\n",
    "- Apply this algorithm to a cool real world scenario and discuss how it can be applied in the README.md.\n",
    "- Anything else you and your team come up with!\n",
    "\n"
   ]
  },
  {
   "cell_type": "markdown",
   "metadata": {},
   "source": [
    "### The graph\n",
    "The graph is an undirected graph with 5 nodes and 8 edges.\n",
    "You'll have to consider how to encode the edges as well as construct the correct oracle for the Grover's algorithm.\n",
    "\n",
    "You're more than welcome to reference the Braket [**Grover's Algorithm tutorial**](../../amazon_braket_examples/advanced_circuits_algorithms/Grover/Grover.ipynb) as well as any other resources you find useful.\n"
   ]
  },
  {
   "cell_type": "code",
   "execution_count": 1,
   "metadata": {},
   "outputs": [],
   "source": [
    "import networkx as nx\n",
    "\n",
    "# AWS imports: Import Braket SDK modules\n",
    "from braket.circuits import Circuit, Gate, Instruction, circuit, Observable\n",
    "from braket.devices import LocalSimulator\n",
    "from braket.aws import AwsDevice, AwsQuantumTask"
   ]
  },
  {
   "cell_type": "code",
   "execution_count": 13,
   "metadata": {},
   "outputs": [],
   "source": [
    "graph = nx.Graph()\n",
    "graph.add_nodes_from([0,1,2,3])\n",
    "graph.add_edges_from([(0, 1), (0,2), (2,3), (1,3)])"
   ]
  },
  {
   "cell_type": "markdown",
   "metadata": {},
   "source": [
    "After creating the random graph to get you started, we recreate it and save it as an object for you to work with."
   ]
  },
  {
   "cell_type": "code",
   "execution_count": 14,
   "metadata": {},
   "outputs": [
    {
     "name": "stdout",
     "output_type": "stream",
     "text": [
      "Graph with 4 nodes and 4 edges\n",
      "[(0, 1), (0, 2), (1, 3), (2, 3)]\n"
     ]
    },
    {
     "data": {
      "image/png": "[encoded data removed]",
      "text/plain": [
       "<Figure size 432x288 with 1 Axes>"
      ]
     },
     "metadata": {},
     "output_type": "display_data"
    }
   ],
   "source": [
    "print(graph)\n",
    "print(graph.edges)\n",
    "nx.draw_networkx(graph)"
   ]
  },
  {
   "cell_type": "markdown",
   "metadata": {},
   "source": [
    "## Run on a quantum device\n",
    "We'd recommend double checking your implementation on a local simulator before running it on the Aspen M-1.\n"
   ]
  },
  {
   "cell_type": "code",
   "execution_count": 4,
   "metadata": {},
   "outputs": [],
   "source": [
    "from braket.aws import AwsDevice, AwsQuantumTask\n",
    "# set up device\n",
    "rigetti = AwsDevice(\"arn:aws:braket:us-west-1::device/qpu/rigetti/Aspen-M-1\")\n",
    "#rigetti.properties"
   ]
  },
  {
   "cell_type": "code",
   "execution_count": 5,
   "metadata": {},
   "outputs": [],
   "source": [
    "# YOUR CODE HERE\n",
    "import math\n",
    "from qiskit import QuantumCircuit"
   ]
  },
  {
   "cell_type": "code",
   "execution_count": 21,
   "metadata": {},
   "outputs": [
    {
     "name": "stdout",
     "output_type": "stream",
     "text": [
      "[(0, 1), (0, 2), (1, 3), (2, 3)]\n"
     ]
    }
   ],
   "source": [
    "edges = []\n",
    "for e in graph.edges:\n",
    "    edges.append(e)\n",
    "print(edges)"
   ]
  },
  {
   "cell_type": "code",
   "execution_count": null,
   "metadata": {},
   "outputs": [],
   "source": [
    "#Helper Functions...\n",
    "#You may change this freely...\n",
    "def ccz(targets=[0, 1, 2]):\n",
    "    \"\"\"\n",
    "    implementation of three-qubit gate CCZ\n",
    "    \"\"\"\n",
    "    # define three-qubit CCZ gate\n",
    "    ccz_gate = np.array([[1.0, 0.0, 0.0, 0.0, 0.0, 0.0, 0.0, 0.0],\n",
    "                         [0.0, 1.0, 0.0, 0.0, 0.0, 0.0, 0.0, 0.0],\n",
    "                         [0.0, 0.0, 1.0, 0.0, 0.0, 0.0, 0.0, 0.0],\n",
    "                         [0.0, 0.0, 0.0, 1.0, 0.0, 0.0, 0.0, 0.0],\n",
    "                         [0.0, 0.0, 0.0, 0.0, 1.0, 0.0, 0.0, 0.0],\n",
    "                         [0.0, 0.0, 0.0, 0.0, 0.0, 1.0, 0.0, 0.0],\n",
    "                         [0.0, 0.0, 0.0, 0.0, 0.0, 0.0, 1.0, 0.0],\n",
    "                         [0.0, 0.0, 0.0, 0.0, 0.0, 0.0, 0.0, -1.0]],\n",
    "                       dtype=complex)\n",
    "    \n",
    "    # instantiate circuit object\n",
    "    circ = Circuit()\n",
    "    \n",
    "    # add CCZ gate\n",
    "    circ.unitary(matrix=ccz_gate, targets=targets)\n",
    "    \n",
    "    return circ\n",
    "\n",
    "\n",
    "# All possible items and their corresponding oracles\n",
    "# define oracle dictionary using this CCZ gate\n",
    "oracle_sim = {\"000\": Circuit().x([0,1,2]).ccz(targets=[0, 1, 2]).x([0,1,2]),\n",
    "              \"001\": Circuit().x([0,1]).ccz(targets=[0, 1, 2]).x([0,1]),\n",
    "              \"010\": Circuit().x([0,2]).ccz(targets=[0, 1, 2]).x([0,2]),\n",
    "              \"011\": Circuit().x([0]).ccz(targets=[0, 1, 2]).x([0]),\n",
    "              \"100\": Circuit().x([1,2]).ccz(targets=[0, 1, 2]).x([1,2]),\n",
    "              \"101\": Circuit().x([1]).ccz(targets=[0, 1, 2]).x([1]),\n",
    "              \"110\": Circuit().x([2]).ccz(targets=[0, 1, 2]).x([2]),\n",
    "              \"111\": Circuit().ccz(targets=[0, 1, 2])\n",
    "          }\n",
    "\n",
    "\n",
    "# helper function for initialization\n",
    "def initialize(n_qubits=3):\n",
    "    \"\"\"\n",
    "    function to apply hadamard to all qubits\n",
    "    \"\"\"\n",
    "    # Initialize with superposition\n",
    "    circ = Circuit();\n",
    "    circ.h(np.arange(n_qubits))\n",
    "    #print(circ)\n",
    "    return circ\n",
    "\n",
    "\n",
    "# helper function for phase oracle\n",
    "def oracle():\n",
    "    \"\"\"\n",
    "    function to apply oracle for given target item\n",
    "    \"\"\"\n",
    "    # instantiate circuit object\n",
    "    circ = Circuit()\n",
    "    \n",
    "    # add oracle\n",
    "    #circ.add_circuit()\n",
    "    \n",
    "    return circ\n",
    "\n",
    "\n",
    "# helper function for amplification\n",
    "def amplify(n_qubits=3):\n",
    "    \"\"\"\n",
    "    function for amplitude amplification\n",
    "    \"\"\"\n",
    "    # instantiate circuit object\n",
    "    circ = Circuit()\n",
    "    \n",
    "    # Amplification\n",
    "    circ.h(np.arange(n_qubits))\n",
    "    circ.add_circuit(oracle_sim['000'])\n",
    "    circ.h(np.arange(n_qubits))\n",
    "    \n",
    "    return circ\n",
    "\n",
    "\n",
    "# helper function for grover algorithm\n",
    "def grover(n_qubits=3, n_reps=1):\n",
    "    \"\"\"\n",
    "    function to put together individual modules of Grover algorithm\n",
    "    \"\"\"\n",
    "    # initialize\n",
    "    grover_circ = initialize(n_qubits)\n",
    "    # oracle and amplify\n",
    "    for ii in range(n_reps):\n",
    "        # get oracle\n",
    "        or_circ = oracle()\n",
    "        grover_circ.add(or_circ)\n",
    "        # amplify\n",
    "        amplification = amplify()\n",
    "        grover_circ.add(amplification)\n",
    "    \n",
    "    return grover_circ\n",
    "        "
   ]
  },
  {
   "cell_type": "code",
   "execution_count": 23,
   "metadata": {},
   "outputs": [
    {
     "data": {
      "text/html": [
       "<pre style=\"word-wrap: normal;white-space: pre;background: #fff0;line-height: 1.1;font-family: &quot;Courier New&quot;,Courier,monospace\">      \n",
       " q_0: \n",
       "      \n",
       " q_1: \n",
       "      \n",
       " q_2: \n",
       "      \n",
       " q_3: \n",
       "      \n",
       " q_4: \n",
       "      \n",
       " q_5: \n",
       "      \n",
       " q_6: \n",
       "      \n",
       " q_7: \n",
       "      \n",
       " q_8: \n",
       "      \n",
       " q_9: \n",
       "      \n",
       "q_10: \n",
       "      \n",
       "q_11: \n",
       "      \n",
       "q_12: \n",
       "      \n",
       "q_13: \n",
       "      \n",
       "q_14: \n",
       "      </pre>"
      ],
      "text/plain": [
       "      \n",
       " q_0: \n",
       "      \n",
       " q_1: \n",
       "      \n",
       " q_2: \n",
       "      \n",
       " q_3: \n",
       "      \n",
       " q_4: \n",
       "      \n",
       " q_5: \n",
       "      \n",
       " q_6: \n",
       "      \n",
       " q_7: \n",
       "      \n",
       " q_8: \n",
       "      \n",
       " q_9: \n",
       "      \n",
       "q_10: \n",
       "      \n",
       "q_11: \n",
       "      \n",
       "q_12: \n",
       "      \n",
       "q_13: \n",
       "      \n",
       "q_14: \n",
       "      "
      ]
     },
     "execution_count": 23,
     "metadata": {},
     "output_type": "execute_result"
    }
   ],
   "source": [
    "n = len(graph)+1 # number of vertices in the graph + 1\n",
    "m = math.ceil(math.log2(n)) # number of representing qubits for each vertex\n",
    "\n",
    "N = m*n # number of total qubits\n",
    "\n",
    "#Assume G = 1\n",
    "OUR_CIRCUIT = grover(n_qubits = N, n_reps = math.ceil(math.pi/4*math.sqrt(2**N/1)))\n",
    "\n",
    "OUR_CIRCUIT.draw()"
   ]
  },
  {
   "cell_type": "code",
   "execution_count": null,
   "metadata": {},
   "outputs": [],
   "source": [
    "# run circuit \n",
    "rigetti_task = rigetti.run(OUR_CIRCUIT, shots=1000)\n",
    "\n",
    "# get id and status of submitted task\n",
    "rigetti_task_id = rigetti_task.id\n",
    "rigetti_status = rigetti_task.state()\n",
    "# print('ID of task:', rigetti_task_id)\n",
    "print('Status of task:', rigetti_status)"
   ]
  },
  {
   "cell_type": "markdown",
   "metadata": {},
   "source": [
    "Let's verify that your quantum job was submitted!"
   ]
  },
  {
   "cell_type": "code",
   "execution_count": null,
   "metadata": {},
   "outputs": [],
   "source": [
    "# print status\n",
    "!qbraid credits\n",
    "status = rigetti_task.state()\n",
    "print('Status of (reconstructed) task:', status)"
   ]
  },
  {
   "cell_type": "markdown",
   "metadata": {},
   "source": [
    "## Verify your solution\n",
    "Using our autograder, input the solution you and your teammates have come up with.\n",
    "Your solution should be a list of integers beginning with the initial node to traverse the graph and ending with the same node to complete the \"cycle\". "
   ]
  },
  {
   "cell_type": "code",
   "execution_count": null,
   "metadata": {},
   "outputs": [],
   "source": [
    "# feed your solution to the auto-grader in the following format:\n",
    "from auto_grader import is_hamiltonian_cycle\n",
    "path = [5,6,1,7,4,2,0,3,5]\n",
    "is_hamiltonian_cycle(graph,path)"
   ]
  },
  {
   "cell_type": "markdown",
   "metadata": {},
   "source": [
    "## References\n",
    "Grover, L. K. A fast quantum mechanical algorithm for database search. Proceedings of the 28th Annual ACM Symposium on Theory of Computation,212–219 (1996).\n",
    "\n",
    "Mahasinghe, Anuradha & Hua, Richard & Dinneen, Michael & Goyal, Rajni. (2019). Solving the Hamiltonian Cycle Problem using a Quantum Computer. 1-9. 10.1145/3290688.3290703. "
   ]
  }
 ],
 "metadata": {
  "interpreter": {
   "hash": "58b72576b6658bd6ccd68b866a6387eb3eb2eb4149b077f5a55bf8fd5b90c11e"
  },
  "kernelspec": {
   "display_name": "Python 3 [Braket]",
   "language": "python",
   "name": "python3_aws_braket_kwx6dl"
  },
  "language_info": {
   "codemirror_mode": {
    "name": "ipython",
    "version": 3
   },
   "file_extension": ".py",
   "mimetype": "text/x-python",
   "name": "python",
   "nbconvert_exporter": "python",
   "pygments_lexer": "ipython3",
   "version": "3.9.7"
  }
 },
 "nbformat": 4,
 "nbformat_minor": 4
}
