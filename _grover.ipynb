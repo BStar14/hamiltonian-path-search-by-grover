{
 "cells": [
  {
   "cell_type": "markdown",
   "metadata": {},
   "source": [
    "# Grover's Algorithm qBraid Challenge\n",
    "\n",
    "In this challenge you and your team are tasked to code Grover's Algorithm to find a valid Hamiltonian cycle in a graph with 5 vertices. A Hamiltonian cycle or circuit is a closed loop on a graph where the edges visits each node exactly once and travels back to the first node. You'll have to figure out how to setup a proper phase oracle which searches through the different paths and returns the unique Hamiltonian cycles in the circuit.\n",
    "\n",
    "Before you get started make sure that:\n",
    "\n",
    "- You've enabled your qBraid Amazon Braket account. `qbraid enable account aws_braket`\n",
    "- Activated the Braket environment and are using the Braket Python 3 kernel (on the top right you should see **Python 3 [Braket]**)\n",
    "- *Please copy this file and rename it <team_name>\\_grover.ipynb*- we'd like to avoid merge conflicts with other submissions!"
   ]
  },
  {
   "cell_type": "markdown",
   "metadata": {},
   "source": [
    "## Submission Checklist\n",
    "- Make sure to include a readme!\n",
    "- Make sure you've run or queued your solution on a real quantum computer (Rigetti M-1 perferred)\n",
    "- Double check that your solution works with the autograder!\n",
    "\n",
    "## Judging Criteria\n",
    "- Your code must include a README.md which describes your implementation and includes how to run your solution.\n",
    "- Your code should be documented and easy to understand!\n",
    "- There are plenty of implementations on the web to guide you in better understanding Grover's search. Feel free to use them as guidance, but do code your solutions with as few out of box solutions \n",
    "    ie don't `from some_package import Grover`\n",
    "- Your code must run a job on real hardware or SV1 simulator using the qBraid Amazon Braket Account.\n"
   ]
  },
  {
   "cell_type": "markdown",
   "metadata": {},
   "source": [
    "## Challenge description\n",
    "- The graph is undirected and constrained to 5 nodes and 8 vertices. This implies that you should get more than one possible Hamiltonian cycle. You will just need to verify one of them.\n",
    "- There are no self loops\n",
    "- It does not have to be the shortest path.\n",
    "- You are free to choose any appropriate starting node.\n",
    "\n",
    "Your results should be a list of integers which indicate the nodes which are traversed in the path which your Grover's Algorithm has found.\n",
    "\n",
    "To use with the auto grader make sure that you provide it a list of integers:\n",
    "[ initial_node, second_node, ... intial_node]\n",
    "\n",
    "ex: [1,3,4,0,2,1]\n",
    "\n",
    "Possible extensions:\n",
    "- Generalize the oracle to handle smaller graphs where it verifies if there indeed exists a Hamiltonian cycle.\n",
    "- Run on different Amazon Braket devices and check your results!\n",
    "- Apply this algorithm to a cool real world scenario and discuss how it can be applied in the README.md.\n",
    "- Anything else you and your team come up with!\n",
    "\n"
   ]
  },
  {
   "cell_type": "markdown",
   "metadata": {},
   "source": [
    "### The graph\n",
    "The graph is an undirected graph with 5 nodes and 8 edges.\n",
    "You'll have to consider how to encode the edges as well as construct the correct oracle for the Grover's algorithm.\n",
    "\n",
    "You're more than welcome to reference the Braket [**Grover's Algorithm tutorial**](../../amazon_braket_examples/advanced_circuits_algorithms/Grover/Grover.ipynb) as well as any other resources you find useful.\n"
   ]
  },
  {
   "cell_type": "code",
   "execution_count": 8,
   "metadata": {},
   "outputs": [],
   "source": [
    "import numpy as np\n",
    "import networkx as nx\n",
    "\n",
    "# AWS imports: Import Braket SDK modules\n",
    "from braket.circuits import Circuit, Gate, Instruction, circuit, Observable\n",
    "from braket.devices import LocalSimulator\n",
    "from braket.aws import AwsDevice, AwsQuantumTask"
   ]
  },
  {
   "cell_type": "code",
   "execution_count": 2,
   "metadata": {},
   "outputs": [],
   "source": [
    "graph = nx.Graph()\n",
    "graph.add_nodes_from([0,1,2,3,4])\n",
    "graph.add_edges_from([(0, 4), (0, 3), (0, 2), (1, 2), (1, 4), (1, 3), (2, 4), (3, 4)])"
   ]
  },
  {
   "cell_type": "markdown",
   "metadata": {},
   "source": [
    "After creating the random graph to get you started, we recreate it and save it as an object for you to work with."
   ]
  },
  {
   "cell_type": "code",
   "execution_count": 3,
   "metadata": {},
   "outputs": [
    {
     "name": "stdout",
     "output_type": "stream",
     "text": [
      "Graph with 5 nodes and 8 edges\n",
      "[(0, 4), (0, 3), (0, 2), (1, 2), (1, 4), (1, 3), (2, 4), (3, 4)]\n"
     ]
    },
    {
     "data": {
      "image/png": "[encoded data removed]",
      "text/plain": [
       "<Figure size 432x288 with 1 Axes>"
      ]
     },
     "metadata": {},
     "output_type": "display_data"
    }
   ],
   "source": [
    "print(graph)\n",
    "print(graph.edges)\n",
    "nx.draw_networkx(graph)"
   ]
  },
  {
   "cell_type": "markdown",
   "metadata": {},
   "source": [
    "## Run on a quantum device\n",
    "We'd recommend double checking your implementation on a local simulator before running it on the Aspen M-1.\n"
   ]
  },
  {
   "cell_type": "code",
   "execution_count": 4,
   "metadata": {
    "collapsed": true,
    "jupyter": {
     "outputs_hidden": true
    },
    "tags": []
   },
   "outputs": [
    {
     "data": {
      "text/plain": [
       "RigettiDeviceCapabilities(service=DeviceServiceProperties(braketSchemaHeader=BraketSchemaHeader(name='braket.device_schema.device_service_properties', version='1'), executionWindows=[DeviceExecutionWindow(executionDay=<ExecutionDay.EVERYDAY: 'Everyday'>, windowStartHour=datetime.time(15, 0), windowEndHour=datetime.time(20, 0))], shotsRange=(10, 100000), deviceCost=DeviceCost(price=0.00035, unit='shot'), deviceDocumentation=DeviceDocumentation(imageUrl='http://d1.awsstatic.com/logos/Rigetti_logo_rgb_teal.0cbe3c0653e755ab97c04ec56f3611f53e2a780c.png', summary='Universal gate-model QPU based on superconducting qubits', externalDocumentationUrl='https://qcs.rigetti.com/qpus/'), deviceLocation='California, USA', updatedAt=datetime.datetime(2022, 4, 10, 9, 3, 38, tzinfo=datetime.timezone.utc)), action={<DeviceActionType.JAQCD: 'braket.ir.jaqcd.program'>: JaqcdDeviceActionProperties(version=['1.0', '1.1'], actionType='braket.ir.jaqcd.program', supportedOperations=['cz', 'xy', 'ccnot', 'cnot', 'cphaseshift', 'cphaseshift00', 'cphaseshift01', 'cphaseshift10', 'cswap', 'h', 'i', 'iswap', 'phaseshift', 'pswap', 'rx', 'ry', 'rz', 's', 'si', 'swap', 't', 'ti', 'x', 'y', 'z', 'start_verbatim_box', 'end_verbatim_box'], supportedResultTypes=[ResultType(name='Sample', observables=['x', 'y', 'z', 'h', 'i'], minShots=10, maxShots=100000), ResultType(name='Expectation', observables=['x', 'y', 'z', 'h', 'i'], minShots=10, maxShots=100000), ResultType(name='Variance', observables=['x', 'y', 'z', 'h', 'i'], minShots=10, maxShots=100000), ResultType(name='Probability', observables=None, minShots=10, maxShots=100000)], disabledQubitRewiringSupported=True), <DeviceActionType.OPENQASM: 'braket.ir.openqasm.program'>: OpenQASMDeviceActionProperties(version=['1.0'], actionType='braket.ir.openqasm.program', supportedOperations=['cz', 'xy', 'ccnot', 'cnot', 'cphaseshift', 'cphaseshift00', 'cphaseshift01', 'cphaseshift10', 'cswap', 'h', 'i', 'iswap', 'phaseshift', 'pswap', 'rx', 'ry', 'rz', 's', 'si', 'swap', 't', 'ti', 'x', 'y', 'z'], supportedPragmas=['verbatim', 'braket_result_type_sample', 'braket_result_type_expectation', 'braket_result_type_variance', 'braket_result_type_probability'], forbiddenPragmas=['braket_unitary_matrix', 'braket_result_type_state_vector', 'braket_result_type_density_matrix', 'braket_result_type_amplitude'], maximumQubitArrays=1, maximumClassicalArrays=1, forbiddenArrayOperations=['concatenation', 'negativeIndex', 'range', 'rangeWithStep', 'slicing', 'selection'], requiresAllQubitsMeasurement=False, supportPhysicalQubits=True, requiresContiguousQubitIndices=False, supportsPartialVerbatimBox=True, supportsUnassignedMeasurements=True, disabledQubitRewiringSupported=False, supportedResultTypes=[ResultType(name='Sample', observables=['x', 'y', 'z', 'h', 'i'], minShots=10, maxShots=100000), ResultType(name='Expectation', observables=['x', 'y', 'z', 'h', 'i'], minShots=10, maxShots=100000), ResultType(name='Variance', observables=['x', 'y', 'z', 'h', 'i'], minShots=10, maxShots=100000), ResultType(name='Probability', observables=None, minShots=10, maxShots=100000)])}, deviceParameters={'title': 'RigettiDeviceParameters', 'description': 'This defines the parameters common to all the Rigetti devices.\\n\\nAttributes:\\n    paradigmParameters: Parameters that are common to gatemodel paradigm\\n\\nExamples:\\n    >>> import json\\n    >>> input_json = {\\n    ...    \"braketSchemaHeader\": {\\n    ...        \"name\": \"braket.device_schema.rigetti.rigetti_device_parameters\",\\n    ...        \"version\": \"1\",\\n    ...    },\\n    ...    \"paradigmParameters\": {\"braketSchemaHeader\": {\\n    ...        \"name\": \"braket.device_schema.gate_model_parameters\",\\n    ...        \"version\": \"1\",\\n    ...    },\"qubitCount\": 1},\\n    ... }\\n    >>> RigettiDeviceParameters.parse_raw_schema(json.dumps(input_json))', 'type': 'object', 'properties': {'braketSchemaHeader': {'title': 'Braketschemaheader', 'const': {'name': 'braket.device_schema.rigetti.rigetti_device_parameters', 'version': '1'}}, 'paradigmParameters': {'$ref': '#/definitions/GateModelParameters'}}, 'required': ['paradigmParameters'], 'definitions': {'GateModelParameters': {'title': 'GateModelParameters', 'description': 'Defines parameters common to all gate model devices.\\n\\nAttributes:\\n    qubitCount: Number of qubits used by the circuit.\\n    disableQubitRewiring: Whether to run the circuit with the exact qubits chosen,\\n        without any rewiring downstream.\\n        If ``True``, no qubit rewiring is allowed; if ``False``, qubit rewiring is allowed.\\n\\nExamples:\\n    >>> import json\\n    >>> input_json = {\\n    ...    \"braketSchemaHeader\": {\\n    ...        \"name\": \"braket.device_schema.gate_model_parameters\",\\n    ...        \"version\": \"1\",\\n    ...    },\\n    ...    \"qubitCount\": 1,\\n    ...    \"disableQubitRewiring\": True\\n    ... }\\n    >>> GateModelParameters.parse_raw_schema(json.dumps(input_json))', 'type': 'object', 'properties': {'braketSchemaHeader': {'title': 'Braketschemaheader', 'const': {'name': 'braket.device_schema.gate_model_parameters', 'version': '1'}}, 'qubitCount': {'title': 'Qubitcount', 'minimum': 0, 'type': 'integer'}, 'disableQubitRewiring': {'title': 'Disablequbitrewiring', 'default': False, 'type': 'boolean'}}, 'required': ['qubitCount']}}}, braketSchemaHeader=BraketSchemaHeader(name='braket.device_schema.rigetti.rigetti_device_capabilities', version='1'), paradigm=GateModelQpuParadigmProperties(braketSchemaHeader=BraketSchemaHeader(name='braket.device_schema.gate_model_qpu_paradigm_properties', version='1'), connectivity=DeviceConnectivity(fullyConnected=False, connectivityGraph={'0': ['1', '103', '7'], '1': ['0', '16', '2'], '10': ['11', '113', '17'], '100': ['101', '107'], '101': ['100', '102', '116'], '102': ['101', '103', '115'], '103': ['0', '102', '104'], '104': ['103'], '105': ['106'], '106': ['105', '107'], '107': ['100', '106'], '11': ['10', '12', '26'], '110': ['111', '117'], '111': ['110', '112', '126'], '112': ['111', '113', '125'], '113': ['10', '112', '114'], '114': ['113', '115', '17'], '115': ['102', '114', '116'], '116': ['101', '115', '117'], '117': ['110', '116'], '12': ['11', '13', '25'], '120': ['121', '127'], '121': ['120', '122', '136'], '122': ['121', '123', '135'], '123': ['122', '124', '20'], '124': ['123', '125', '27'], '125': ['112', '124', '126'], '126': ['111', '125', '127'], '127': ['120', '126'], '13': ['12', '14'], '130': ['131', '137'], '131': ['130', '132', '146'], '132': ['131', '133', '145'], '133': ['132', '134', '30'], '134': ['133', '135', '37'], '135': ['122', '134', '136'], '136': ['121', '135', '137'], '137': ['130', '136'], '14': ['13', '15'], '140': ['141', '147'], '141': ['140', '142'], '142': ['141', '143'], '143': ['142', '144', '40'], '144': ['143', '145', '47'], '145': ['132', '144', '146'], '146': ['131', '145', '147'], '147': ['140', '146'], '15': ['14', '16', '2'], '16': ['1', '15', '17'], '17': ['10', '16', '114'], '2': ['1', '15'], '20': ['123', '21', '27'], '21': ['20', '22', '36'], '22': ['21', '23', '35'], '23': ['22', '24'], '24': ['23', '25'], '25': ['12', '24', '26'], '26': ['11', '25', '27'], '27': ['20', '26', '124'], '3': ['4'], '30': ['133', '31', '37'], '31': ['30', '32', '46'], '32': ['31', '33', '45'], '33': ['32', '34'], '34': ['33', '35'], '35': ['22', '34', '36'], '36': ['21', '35', '37'], '37': ['30', '36', '134'], '4': ['3', '5'], '40': ['143', '41', '47'], '41': ['40', '42'], '42': ['41', '43'], '43': ['42', '44'], '44': ['43', '45'], '45': ['32', '44', '46'], '46': ['31', '45', '47'], '47': ['40', '46', '144'], '5': ['4', '6'], '6': ['5', '7'], '7': ['0', '6']}), qubitCount=80, nativeGateSet=['rx', 'rz', 'cz', 'cphaseshift', 'xy']), provider=RigettiProviderProperties(braketSchemaHeader=BraketSchemaHeader(name='braket.device_schema.rigetti.rigetti_provider_properties', version='1'), specs={'1Q': {'0': {'T1': 2.4443429874176914e-05, 'T2': 1.627681336532139e-05, 'f1QRB': 0.9985669301541129, 'f1QRB_std_err': 0.0004092835114091019, 'f1Q_simultaneous_RB': 0.9979376278263037, 'f1Q_simultaneous_RB_std_err': 0.00015758486320809412, 'fActiveReset': 0.995, 'fRO': 0.9764999999999999}, '1': {'T1': 4.6238056727210264e-05, 'T2': 1.307978168887773e-05, 'f1QRB': 0.9981823659437071, 'f1QRB_std_err': 0.0005329657288556576, 'f1Q_simultaneous_RB': 0.982944756833112, 'f1Q_simultaneous_RB_std_err': 0.0027460819727269277, 'fActiveReset': 0.931, 'fRO': 0.8475}, '10': {'T1': 1.3810279766879319e-05, 'T2': 1.778128170047494e-05, 'f1QRB': 0.9972871708055486, 'f1QRB_std_err': 0.00026244975727162686, 'f1Q_simultaneous_RB': 0.9965609015870571, 'f1Q_simultaneous_RB_std_err': 0.0002253648350146552, 'fActiveReset': 0.983, 'fRO': 0.974}, '100': {'T1': 2.8617105488848438e-05, 'T2': 3.102868239926918e-05, 'f1QRB': 0.9983267619945417, 'f1QRB_std_err': 0.00013245412597755253, 'f1Q_simultaneous_RB': 0.996345193774323, 'f1Q_simultaneous_RB_std_err': 0.0007922731014790258, 'fActiveReset': 0.6165, 'fRO': 0.6045}, '101': {'T1': 3.4423060816690665e-05, 'T2': 8.929960968829597e-06, 'f1QRB': 0.9970137500023071, 'f1QRB_std_err': 0.00018350751877424857, 'f1Q_simultaneous_RB': 0.9981560338751734, 'f1Q_simultaneous_RB_std_err': 0.00013346027703633385, 'fActiveReset': 0.9940000000000001, 'fRO': 0.9219999999999999}, '102': {'T1': 1.2755567680544644e-05, 'T2': 2.0904478010530607e-06, 'f1QRB': 0.9223864336705296, 'f1QRB_std_err': 0.010027655060148325, 'f1Q_simultaneous_RB': 0.9970258146882268, 'f1Q_simultaneous_RB_std_err': 0.00028086484905577276, 'fActiveReset': 0.987, 'fRO': 0.9359999999999999}, '103': {'T1': 4.473993042308777e-05, 'T2': 1.4602248280527145e-05, 'f1QRB': 0.952524280690339, 'f1QRB_std_err': 0.03503890765241047, 'f1Q_simultaneous_RB': 0.9978424347920971, 'f1Q_simultaneous_RB_std_err': 0.00039111432086752306, 'fActiveReset': 0.6884999999999999, 'fRO': 0.5635}, '104': {'T1': 5.376499549569758e-06, 'T2': 2.7009441484397193e-06, 'f1QRB': 0.9856104605451634, 'f1QRB_std_err': 0.0037192754378516293, 'f1Q_simultaneous_RB': 0.9455954192179622, 'f1Q_simultaneous_RB_std_err': 0.009740630691725585, 'fActiveReset': 0.9645, 'fRO': 0.9495}, '105': {'T1': 3.119837074527787e-05, 'T2': 2.681191463979799e-05, 'f1QRB': 0.9974519072969024, 'f1QRB_std_err': 9.7163491742933e-05, 'f1Q_simultaneous_RB': 0.9980767455439864, 'f1Q_simultaneous_RB_std_err': 0.00021143304560246494, 'fActiveReset': 0.9995, 'fRO': 0.9624999999999999}, '106': {'T1': 2.0926572025015133e-05, 'T2': 2.1434920049107892e-05, 'f1QRB': 0.9987320007114223, 'f1QRB_std_err': 0.0002161079812468806, 'f1Q_simultaneous_RB': 0.997756719352096, 'f1Q_simultaneous_RB_std_err': 0.0002635266600689074, 'fActiveReset': 0.902, 'fRO': 0.7224999999999999}, '107': {'T1': 1.4146091385391912e-05, 'T2': 1.9214065335547132e-05, 'f1QRB': 0.9974908421927973, 'f1QRB_std_err': 0.0003433316861430358, 'f1Q_simultaneous_RB': 0.9945893166177459, 'f1Q_simultaneous_RB_std_err': 0.00018708848436890273, 'fActiveReset': 0.985, 'fRO': 0.9450000000000001}, '11': {'T1': 5.847074083042969e-05, 'T2': 5.345561140052993e-05, 'f1QRB': 0.991370933457359, 'f1QRB_std_err': 0.0014081734730062975, 'f1Q_simultaneous_RB': 0.997979079461982, 'f1Q_simultaneous_RB_std_err': 0.0003482761267324526, 'fActiveReset': 0.996, 'fRO': 0.927}, '110': {'T1': 3.7704110880110164e-05, 'T2': 5.308234776530537e-05, 'f1QRB': 0.9988177700197205, 'f1QRB_std_err': 0.00029078087565488387, 'f1Q_simultaneous_RB': 0.9957741243413537, 'f1Q_simultaneous_RB_std_err': 0.00027619286026783963, 'fActiveReset': 0.996, 'fRO': 0.9675}, '111': {'T1': 5.4462006277677943e-05, 'T2': 2.357004949849456e-05, 'f1QRB': 0.7808915294130563, 'f1QRB_std_err': 0.45322728152014735, 'f1Q_simultaneous_RB': 0.9971846658516852, 'f1Q_simultaneous_RB_std_err': 0.0004648826038494301, 'fActiveReset': 0.9695, 'fRO': 0.9590000000000001}, '112': {'T1': 3.733836622754616e-05, 'T2': 3.949649486926609e-05, 'f1QRB': 0.9980570113248138, 'f1QRB_std_err': 0.00012846903884968446, 'f1Q_simultaneous_RB': 0.9977497634058929, 'f1Q_simultaneous_RB_std_err': 0.00040909832359649264, 'fActiveReset': 0.9990000000000001, 'fRO': 0.973}, '113': {'T1': 7.762531624222468e-05, 'T2': 3.556836553310404e-05, 'f1QRB': 0.9985685357729734, 'f1QRB_std_err': 0.0003845551897913834, 'f1Q_simultaneous_RB': 0.9924353759861407, 'f1Q_simultaneous_RB_std_err': 0.000615238622472794, 'fActiveReset': 0.9995, 'fRO': 0.96}, '114': {'T1': 1.5530658221907245e-05, 'T2': 2.500816683592615e-05, 'f1QRB': 0.9981222300515986, 'f1QRB_std_err': 0.0001474410774602763, 'f1Q_simultaneous_RB': 0.9947175742558483, 'f1Q_simultaneous_RB_std_err': 0.0009996238530505966, 'fActiveReset': 0.9985, 'fRO': 0.984}, '115': {'T1': 4.4572113990559714e-05, 'T2': 3.51416530234995e-05, 'f1QRB': 0.962085506055663, 'f1QRB_std_err': 0.0046718537459249, 'f1Q_simultaneous_RB': 0.9980933689928494, 'f1Q_simultaneous_RB_std_err': 0.0005971846360042759, 'fActiveReset': 0.9995, 'fRO': 0.9655}, '116': {'T1': 3.460509294361813e-05, 'T2': 4.05356900197717e-05, 'f1QRB': 0.9987742270418412, 'f1QRB_std_err': 9.50911137246889e-05, 'f1Q_simultaneous_RB': 0.9970943603148374, 'f1Q_simultaneous_RB_std_err': 0.0006032319828568123, 'fActiveReset': 0.9990000000000001, 'fRO': 0.985}, '117': {'T1': 3.273341484755221e-06, 'T2': 2.7878735178411334e-06, 'f1QRB': 0.961552247006636, 'f1QRB_std_err': 0.004673188459792453, 'f1Q_simultaneous_RB': 0.9970139935458516, 'f1Q_simultaneous_RB_std_err': 0.0003346923994036581, 'fActiveReset': 0.991, 'fRO': 0.97}, '12': {'T1': 2.8331445077078854e-05, 'T2': 5.874347115778293e-06, 'f1QRB': 0.9991227486932124, 'f1QRB_std_err': 8.975660334841619e-05, 'f1Q_simultaneous_RB': 0.9971653972151742, 'f1Q_simultaneous_RB_std_err': 9.023533891746722e-05, 'fActiveReset': 0.9995, 'fRO': 0.9045}, '120': {'T1': 2.8287999534359898e-05, 'T2': 4.833098302210444e-05, 'f1QRB': 0.9979931685659458, 'f1QRB_std_err': 0.0002528318058781427, 'f1Q_simultaneous_RB': 0.9978229132429561, 'f1Q_simultaneous_RB_std_err': 0.00012133989566128968, 'fActiveReset': 0.977, 'fRO': 0.9345}, '121': {'T1': 3.5286206935047915e-05, 'T2': 4.426498278090763e-05, 'f1QRB': 0.9989741773965328, 'f1QRB_std_err': 9.0048673264869e-05, 'f1Q_simultaneous_RB': 0.9970308777704469, 'f1Q_simultaneous_RB_std_err': 0.0002809329650115826, 'fActiveReset': 0.9945, 'fRO': 0.834}, '122': {'T1': 2.5338779303440973e-05, 'T2': 2.1171327338331087e-05, 'f1QRB': 0.9985841120211902, 'f1QRB_std_err': 7.349310537613475e-05, 'f1Q_simultaneous_RB': 0.9965041753370726, 'f1Q_simultaneous_RB_std_err': 0.00016420841484552737, 'fActiveReset': 0.9965, 'fRO': 0.976}, '123': {'T1': 4.056496572979462e-05, 'T2': 4.781729155489977e-05, 'f1QRB': 0.999379923468011, 'f1QRB_std_err': 0.00016206201337674154, 'f1Q_simultaneous_RB': 0.9968813969083363, 'f1Q_simultaneous_RB_std_err': 0.0002587023352156656, 'fActiveReset': 0.9965, 'fRO': 0.8855}, '124': {'T1': 5.0184282736065455e-05, 'T2': 4.361956897923867e-05, 'f1QRB': 0.998991664466877, 'f1QRB_std_err': 0.00020624429964102278, 'f1Q_simultaneous_RB': 0.9979968703255974, 'f1Q_simultaneous_RB_std_err': 0.00015237032752131655, 'fActiveReset': 0.997, 'fRO': 0.977}, '125': {'T1': 2.8160948921218676e-05, 'T2': 3.9332118818277485e-05, 'f1QRB': 0.9994008055237724, 'f1QRB_std_err': 0.000644758971384886, 'f1Q_simultaneous_RB': 0.9940817408174959, 'f1Q_simultaneous_RB_std_err': 0.0006567788145813464, 'fActiveReset': 0.9995, 'fRO': 0.975}, '126': {'T1': 2.0820271480204156e-05, 'T2': 4.622811996444383e-06, 'f1QRB': 0.9981033574342519, 'f1QRB_std_err': 0.00013395046643754937, 'f1Q_simultaneous_RB': 0.9959446953276003, 'f1Q_simultaneous_RB_std_err': 0.0002448507653043077, 'fActiveReset': 0.9990000000000001, 'fRO': 0.9135}, '127': {'T1': 8.193410413248614e-06, 'T2': 1.037634677390102e-05, 'f1QRB': 0.9738364450123013, 'f1QRB_std_err': 0.009366824626477116, 'f1Q_simultaneous_RB': 0.9919809704547262, 'f1Q_simultaneous_RB_std_err': 0.0007035871763407403, 'fActiveReset': 0.97, 'fRO': 0.8654999999999999}, '13': {'T1': 7.594355459428215e-05, 'T2': 8.751964729837582e-06, 'f1QRB': 0.995312817103458, 'f1QRB_std_err': 0.00011319337551723124, 'f1Q_simultaneous_RB': 0.9871491146285113, 'f1Q_simultaneous_RB_std_err': 0.0005778175028532949, 'fActiveReset': 0.9925, 'fRO': 0.925}, '130': {'T1': 1.0263410872513035e-05, 'T2': 1.863315187281445e-05, 'f1QRB': 0.9968422133887005, 'f1QRB_std_err': 0.00010895560584175077, 'f1Q_simultaneous_RB': 0.9957309663165532, 'f1Q_simultaneous_RB_std_err': 0.00018434362116315117, 'fActiveReset': 0.998, 'fRO': 0.9835}, '131': {'T1': 3.958049795116381e-05, 'T2': 6.725922667195993e-05, 'f1QRB': 0.9992499196476688, 'f1QRB_std_err': 0.00025075218085488074, 'f1Q_simultaneous_RB': 0.9985867082766552, 'f1Q_simultaneous_RB_std_err': 0.0002959918440513195, 'fActiveReset': 0.9995, 'fRO': 0.9325}, '132': {'T1': 2.5192642476135063e-05, 'T2': 7.348486768577934e-06, 'f1QRB': 0.9958825370286079, 'f1QRB_std_err': 0.0001585428425166147, 'f1Q_simultaneous_RB': 0.9978048316274086, 'f1Q_simultaneous_RB_std_err': 5.1883617052214064e-05, 'fActiveReset': 0.9995, 'fRO': 0.9755}, '133': {'T1': 7.668270920335729e-05, 'T2': 2.3062405274156642e-05, 'f1QRB': 0.999206730664677, 'f1QRB_std_err': 0.00017732498453173362, 'f1Q_simultaneous_RB': 0.9987477195825162, 'f1Q_simultaneous_RB_std_err': 0.00016913454268593147, 'fActiveReset': 0.995, 'fRO': 0.976}, '134': {'T1': 3.9044615598005095e-05, 'T2': 3.2927964864407845e-05, 'f1QRB': 0.9994757237619826, 'f1QRB_std_err': 0.00014062281625659028, 'f1Q_simultaneous_RB': 0.9987451502754263, 'f1Q_simultaneous_RB_std_err': 0.0003082058227988309, 'fActiveReset': 0.9995, 'fRO': 0.9784999999999999}, '135': {'T1': 3.069130157595801e-05, 'T2': 7.76917040349519e-06, 'f1QRB': 0.9460232413099076, 'f1QRB_std_err': 0.002651100207132977, 'f1Q_simultaneous_RB': 0.970479290802023, 'f1Q_simultaneous_RB_std_err': 0.0010518334859189948, 'fActiveReset': 0.9895, 'fRO': 0.98}, '136': {'T1': 2.179818509984166e-05, 'T2': 3.879849254726402e-05, 'f1QRB': 0.9983768322573878, 'f1QRB_std_err': 8.363796137084942e-05, 'f1Q_simultaneous_RB': 0.9966486243822872, 'f1Q_simultaneous_RB_std_err': 0.00046929628983944467, 'fActiveReset': 0.9990000000000001, 'fRO': 0.967}, '137': {'T1': 4.6948938265733986e-05, 'T2': 1.745392261041157e-05, 'f1QRB': 0.9989788316390569, 'f1QRB_std_err': 0.00011355609427364718, 'f1Q_simultaneous_RB': 0.9974305749983372, 'f1Q_simultaneous_RB_std_err': 0.0004589125991619029, 'fActiveReset': 0.998, 'fRO': 0.981}, '14': {'T1': 3.170709701527663e-05, 'T2': 4.2574900887289805e-05, 'f1QRB': 0.9828523284589196, 'f1QRB_std_err': 0.0030240327182633926, 'f1Q_simultaneous_RB': 0.9980350938365234, 'f1Q_simultaneous_RB_std_err': 0.00013885027973064548, 'fActiveReset': 0.9995, 'fRO': 0.97}, '140': {'T1': 1.3277281958989917e-05, 'T2': 3.4903784156290425e-06, 'f1QRB': 0.9958364339851258, 'f1QRB_std_err': 0.00014673610272204377, 'f1Q_simultaneous_RB': 0.9899281206725639, 'f1Q_simultaneous_RB_std_err': 0.0004586291348072705, 'fActiveReset': 0.998, 'fRO': 0.986}, '141': {'T1': 7.046091013007683e-05, 'T2': 6.899656717158692e-05, 'f1QRB': 0.9978061637346046, 'f1QRB_std_err': 0.0004527652923353465, 'f1Q_simultaneous_RB': 0.9964069816751145, 'f1Q_simultaneous_RB_std_err': 0.000254242945466691, 'fActiveReset': 0.9955000000000002, 'fRO': 0.944}, '142': {'T1': 1.4670047998377456e-05, 'T2': 8.355102471148703e-06, 'f1QRB': 0.9960589009089673, 'f1QRB_std_err': 0.00044847086952288606, 'f1Q_simultaneous_RB': 0.9906752675675419, 'f1Q_simultaneous_RB_std_err': 0.0008769363332100061, 'fActiveReset': 0.996, 'fRO': 0.961}, '143': {'T1': 4.762694310866955e-05, 'T2': 1.9459581517155302e-05, 'f1QRB': 0.9953651783528372, 'f1QRB_std_err': 0.0003691188929983052, 'f1Q_simultaneous_RB': 0.9962778605814797, 'f1Q_simultaneous_RB_std_err': 0.00016518038638448936, 'fActiveReset': 0.9905000000000002, 'fRO': 0.94}, '144': {'T1': 3.9161246450092335e-06, 'T2': 3.7236770420966795e-06, 'f1QRB': 0.9934248182574081, 'f1QRB_std_err': 0.0003778643070026194, 'f1Q_simultaneous_RB': 0.9888144189018335, 'f1Q_simultaneous_RB_std_err': 0.0006836879079194066, 'fActiveReset': 0.9940000000000001, 'fRO': 0.9624999999999999}, '145': {'T1': 3.6683588496844166e-05, 'T2': 9.0781969356877e-06, 'f1QRB': 0.9972883010896755, 'f1QRB_std_err': 0.00018318701459170512, 'f1Q_simultaneous_RB': 0.997391927771908, 'f1Q_simultaneous_RB_std_err': 0.00012500454400513698, 'fActiveReset': 0.998, 'fRO': 0.968}, '146': {'T1': 2.0678487514080857e-05, 'T2': 3.941346784319216e-06, 'f1QRB': 0.9936420408338698, 'f1QRB_std_err': 0.0003424517857229046, 'f1Q_simultaneous_RB': 0.998398436268745, 'f1Q_simultaneous_RB_std_err': 8.721410523571775e-05, 'fActiveReset': 0.9995, 'fRO': 0.968}, '147': {'T1': 2.5667172870003085e-05, 'T2': 2.3001927134903436e-05, 'f1QRB': 0.9941732766863549, 'f1QRB_std_err': 0.0004010534266169523, 'f1Q_simultaneous_RB': 0.9941128268964277, 'f1Q_simultaneous_RB_std_err': 0.00021112632122978345, 'fActiveReset': 0.9990000000000001, 'fRO': 0.9410000000000001}, '15': {'T1': 5.079019089593295e-05, 'T2': 6.060638036305044e-05, 'f1QRB': 0.9986973311046958, 'f1QRB_std_err': 0.0004863021908146925, 'f1Q_simultaneous_RB': 0.9981321281633271, 'f1Q_simultaneous_RB_std_err': 0.0004451946454944927, 'fActiveReset': 0.9995, 'fRO': 0.966}, '16': {'T1': 4.051832544571532e-05, 'T2': 6.526058411109613e-05, 'f1QRB': 0.9994735228583047, 'f1QRB_std_err': 0.00018921101815104192, 'f1Q_simultaneous_RB': 0.9982200654816396, 'f1Q_simultaneous_RB_std_err': 0.0001719928662998707, 'fActiveReset': 0.9965, 'fRO': 0.9755}, '17': {'T1': 6.451457477174571e-05, 'T2': 0.00010413299585409515, 'f1QRB': 0.9989696410230016, 'f1QRB_std_err': 0.00029587767198649287, 'f1Q_simultaneous_RB': 0.9982966605146127, 'f1Q_simultaneous_RB_std_err': 0.0002693212954035399, 'fActiveReset': 0.9975, 'fRO': 0.9470000000000001}, '2': {'T1': 2.2726219709667816e-05, 'T2': 1.8903493236192885e-05, 'f1QRB': 0.9965570461292947, 'f1QRB_std_err': 0.0004890350921266794, 'f1Q_simultaneous_RB': 0.9697652230921419, 'f1Q_simultaneous_RB_std_err': 0.0023962363872815523, 'fActiveReset': 0.97, 'fRO': 0.9155}, '20': {'T1': 2.244313551802435e-05, 'T2': 1.4384069710837858e-05, 'f1QRB': 0.9048477267364443, 'f1QRB_std_err': 0.02621152329740977, 'f1Q_simultaneous_RB': 0.9970371163298473, 'f1Q_simultaneous_RB_std_err': 0.00018393238185343804, 'fActiveReset': 0.9955000000000002, 'fRO': 0.9359999999999999}, '21': {'T1': 5.1197076318176826e-05, 'T2': 5.9900316831119126e-05, 'f1QRB': 0.9930688409216346, 'f1QRB_std_err': 0.00840020339612702, 'f1Q_simultaneous_RB': 0.9967585665327168, 'f1Q_simultaneous_RB_std_err': 0.0003596620680558329, 'fActiveReset': 0.8439999999999999, 'fRO': 0.905}, '22': {'T1': 1.4767407082949546e-05, 'T2': 4.052238115431591e-06, 'f1QRB': 0.9893882635816784, 'f1QRB_std_err': 0.0008601709521286108, 'f1Q_simultaneous_RB': 0.9521191997778203, 'f1Q_simultaneous_RB_std_err': 0.003331529052262649, 'fActiveReset': 0.9384999999999999, 'fRO': 0.956}, '23': {'T1': 9.407002122974184e-05, 'T2': 1.5508175302485142e-05, 'f1QRB': 0.9990895217827006, 'f1QRB_std_err': 0.0003523638665146971, 'f1Q_simultaneous_RB': 0.9977495651704144, 'f1Q_simultaneous_RB_std_err': 0.00025526085143465026, 'fActiveReset': 0.9995, 'fRO': 0.931}, '24': {'T1': 3.2257516054956525e-05, 'T2': 3.611583367214351e-05, 'f1QRB': 0.9981295862815902, 'f1QRB_std_err': 0.0004141458064528873, 'f1Q_simultaneous_RB': 0.9976230851299317, 'f1Q_simultaneous_RB_std_err': 0.0001761047368275178, 'fActiveReset': 0.9995, 'fRO': 0.964}, '25': {'T1': 5.873041723791772e-05, 'T2': 6.58221836826551e-05, 'f1QRB': 0.9986122224910698, 'f1QRB_std_err': 0.0005482977326738393, 'f1Q_simultaneous_RB': 0.9971463075640047, 'f1Q_simultaneous_RB_std_err': 0.00024523311501087157, 'fActiveReset': 0.9995, 'fRO': 0.9755}, '26': {'T1': 1.990518904970706e-05, 'T2': 3.578148868186568e-05, 'f1QRB': 0.9982985149824632, 'f1QRB_std_err': 0.00018323095698506166, 'f1Q_simultaneous_RB': 0.9957054128179398, 'f1Q_simultaneous_RB_std_err': 0.0002564580160056596, 'fActiveReset': 0.9955000000000002, 'fRO': 0.9555}, '27': {'T1': 6.007580792211087e-05, 'T2': 1.6164960025241574e-05, 'f1QRB': 0.9994666831403609, 'f1QRB_std_err': 0.0002951657803055349, 'f1Q_simultaneous_RB': 0.9951255330771083, 'f1Q_simultaneous_RB_std_err': 0.0001953265728883304, 'fActiveReset': 0.9995, 'fRO': 0.903}, '3': {'T1': 6.87e-05, 'T2': 3.42e-05, 'f1QRB': 0.9995, 'f1QRB_std_err': 0.001, 'f1Q_simultaneous_RB': 0.9991480524341705, 'f1Q_simultaneous_RB_std_err': 0.00021123764412467834, 'fActiveReset': 0.9935, 'fRO': 0.935}, '30': {'T1': 1.9843751779768937e-05, 'T2': 2.043846941843258e-05, 'f1QRB': 0.9980672511324596, 'f1QRB_std_err': 0.00019652280989344712, 'f1Q_simultaneous_RB': 0.9977200662947499, 'f1Q_simultaneous_RB_std_err': 0.00019336727579976416, 'fActiveReset': 0.991, 'fRO': 0.9430000000000001}, '31': {'T1': 4.288379478545323e-05, 'T2': 5.389849383878926e-05, 'f1QRB': 0.9986208281983529, 'f1QRB_std_err': 0.0005331879876766579, 'f1Q_simultaneous_RB': 1.0, 'f1Q_simultaneous_RB_std_err': 4.934805169625622e-05, 'fActiveReset': 0.9975, 'fRO': 0.9325}, '32': {'T1': 2.5114532771208786e-05, 'T2': 3.290747057463296e-05, 'f1QRB': 0.9936781795902043, 'f1QRB_std_err': 0.000592298211885191, 'f1Q_simultaneous_RB': 0.9952635505773402, 'f1Q_simultaneous_RB_std_err': 0.00043579843586068396, 'fActiveReset': 0.9990000000000001, 'fRO': 0.963}, '33': {'T1': 1.34282347568071e-05, 'T2': 8.544498686287612e-06, 'f1QRB': 0.9939119711901402, 'f1QRB_std_err': 0.00042150445057843975, 'f1Q_simultaneous_RB': 0.9904888836798196, 'f1Q_simultaneous_RB_std_err': 0.0008169297297174987, 'fActiveReset': 0.9990000000000001, 'fRO': 0.9119999999999999}, '34': {'T1': 4.538334796455601e-05, 'T2': 7.212827381726737e-05, 'f1QRB': 0.9990216324800094, 'f1QRB_std_err': 0.00023976547231512762, 'f1Q_simultaneous_RB': 0.9967980162096579, 'f1Q_simultaneous_RB_std_err': 0.00017612588413035827, 'fActiveReset': 0.9995, 'fRO': 0.9179999999999999}, '35': {'T1': 5.3019394757880534e-05, 'T2': 3.95215424799364e-05, 'f1QRB': 0.9988960386393323, 'f1QRB_std_err': 0.0004093656504796565, 'f1Q_simultaneous_RB': 0.9966399708256692, 'f1Q_simultaneous_RB_std_err': 0.0003118699077534154, 'fActiveReset': 0.9990000000000001, 'fRO': 0.9510000000000001}, '36': {'T1': 1.6738558463513797e-05, 'T2': 5.518429183453555e-05, 'f1QRB': 0.9936782027257146, 'f1QRB_std_err': 0.0006060933990219555, 'f1Q_simultaneous_RB': 0.9974998108604065, 'f1Q_simultaneous_RB_std_err': 0.00012092897709327789, 'fActiveReset': 0.9940000000000001, 'fRO': 0.959}, '37': {'T1': 2.0024782645178263e-05, 'T2': 2.1825339634252012e-05, 'f1QRB': 0.9981856144714789, 'f1QRB_std_err': 0.0003192246425017005, 'f1Q_simultaneous_RB': 0.9973833800828541, 'f1Q_simultaneous_RB_std_err': 0.0002383488980030288, 'fActiveReset': 0.9885, 'fRO': 0.9544999999999999}, '4': {'T1': 2.317151208286461e-05, 'T2': 1.2214491921922697e-06, 'f1QRB': 0.9923858720157849, 'f1QRB_std_err': 0.00024439249949140956, 'f1Q_simultaneous_RB': 0.9899645426116395, 'f1Q_simultaneous_RB_std_err': 0.0006838880778706278, 'fActiveReset': 0.9965, 'fRO': 0.9075}, '40': {'T1': 3.404616560986895e-05, 'T2': 4.234553566954723e-05, 'f1QRB': 0.998793863435051, 'f1QRB_std_err': 8.464923664565378e-05, 'f1Q_simultaneous_RB': 0.9977374125705127, 'f1Q_simultaneous_RB_std_err': 0.00010226719863495357, 'fActiveReset': 0.998, 'fRO': 0.964}, '41': {'T1': 3.842645038476533e-05, 'T2': 2.3564682623302515e-05, 'f1QRB': 0.9991516622963384, 'f1QRB_std_err': 0.00012818205884081887, 'f1Q_simultaneous_RB': 0.9988168519317522, 'f1Q_simultaneous_RB_std_err': 7.16929312789714e-05, 'fActiveReset': 0.9995, 'fRO': 0.946}, '42': {'T1': 1.8035814290495722e-05, 'T2': 2.451148528759567e-05, 'f1QRB': 0.9976369874123826, 'f1QRB_std_err': 0.00017755475392954953, 'f1Q_simultaneous_RB': 0.9982257805151954, 'f1Q_simultaneous_RB_std_err': 0.0001302440589841347, 'fActiveReset': 0.9990000000000001, 'fRO': 0.981}, '43': {'T1': 9.944579061782477e-06, 'T2': 9.538049716596575e-06, 'f1QRB': 0.9964424390848596, 'f1QRB_std_err': 0.0003394521508666461, 'f1Q_simultaneous_RB': 0.9926549438728077, 'f1Q_simultaneous_RB_std_err': 0.00025443520475269994, 'fActiveReset': 0.9940000000000001, 'fRO': 0.962}, '44': {'T1': 3.6039891944117386e-06, 'T2': 2.492380722759598e-06, 'f1QRB': 0.991506649544108, 'f1QRB_std_err': 0.0003956601631836801, 'f1Q_simultaneous_RB': 0.9823462591071054, 'f1Q_simultaneous_RB_std_err': 0.0013232092529995008, 'fActiveReset': 0.9745, 'fRO': 0.962}, '45': {'T1': 1.629325570129403e-05, 'T2': 3.491240925424511e-05, 'f1QRB': 0.9988101863592861, 'f1QRB_std_err': 0.0002341343328876186, 'f1Q_simultaneous_RB': 0.9567552222121666, 'f1Q_simultaneous_RB_std_err': 0.005672129556563076, 'fActiveReset': 0.9985, 'fRO': 0.9279999999999999}, '46': {'T1': 2.3027285416921117e-05, 'T2': 2.0856765338954456e-06, 'f1QRB': 0.99668451200255, 'f1QRB_std_err': 0.00010264313436570575, 'f1Q_simultaneous_RB': 0.9567446733700438, 'f1Q_simultaneous_RB_std_err': 0.005708307016956949, 'fActiveReset': 0.9935, 'fRO': 0.9065}, '47': {'T1': 6.268741842885284e-05, 'T2': 9.967606252652873e-06, 'f1QRB': 0.9984971657040118, 'f1QRB_std_err': 0.0001362610076405577, 'f1Q_simultaneous_RB': 0.9559701993498015, 'f1Q_simultaneous_RB_std_err': 0.007953918076121677, 'fActiveReset': 0.972, 'fRO': 0.849}, '5': {'T1': 4.382756442899982e-05, 'T2': 7.301797062967751e-05, 'f1QRB': 0.9781148245291562, 'f1QRB_std_err': 0.004848444133672503, 'f1Q_simultaneous_RB': 0.9986675094012485, 'f1Q_simultaneous_RB_std_err': 0.0001461659069661219, 'fActiveReset': 0.9995, 'fRO': 0.9550000000000001}, '6': {'T1': 2.051567553640332e-05, 'T2': 2.9947725309103877e-05, 'f1QRB': 0.9967029995207599, 'f1QRB_std_err': 0.0003552371997835362, 'f1Q_simultaneous_RB': 0.996951552961632, 'f1Q_simultaneous_RB_std_err': 0.0002496493040597415, 'fActiveReset': 0.9975, 'fRO': 0.9795}, '7': {'T1': 4.066700871208084e-05, 'T2': 1.6899200145612325e-05, 'f1QRB': 0.9977338486663703, 'f1QRB_std_err': 0.00011794671873175128, 'f1Q_simultaneous_RB': 0.9832299202809913, 'f1Q_simultaneous_RB_std_err': 0.002566979155200639, 'fActiveReset': 0.995, 'fRO': 0.95}}, '2Q': {'0-1': {'fCPHASE': 0.9583933038403442, 'fCPHASE_std_err': 0.015042926310085206, 'fCZ': 0.9471434782355981, 'fCZ_std_err': 0.013711936860648886, 'fXY': 0.8391945581817937, 'fXY_std_err': 0.02004248271510114}, '0-103': {'fCPHASE': 0.95, 'fCPHASE_std_err': 0.01, 'fCZ': 0.9952477393457504, 'fCZ_std_err': 0.015278169530163999, 'fXY': 0.9196835367524477, 'fXY_std_err': 0.03277821593859993}, '0-7': {'fCPHASE': 0.9549182753333478, 'fCPHASE_std_err': 0.008750514311392087, 'fCZ': 0.943305733247569, 'fCZ_std_err': 0.009437317601666405, 'fXY': 0.9808300728142898, 'fXY_std_err': 0.0033052128330821077}, '1-16': {'fCPHASE': 0.8163697180549572, 'fCPHASE_std_err': 0.017274472563380546, 'fCZ': 0.956036214259256, 'fCZ_std_err': 0.007580629176707667, 'fXY': 0.9865671556923519, 'fXY_std_err': 0.0041957311899948405}, '1-2': {'fCPHASE': 0.8307177848842305, 'fCPHASE_std_err': 0.005918318280945649, 'fCZ': 0.8145516169557524, 'fCZ_std_err': 0.012559528237137359}, '10-11': {'fCPHASE': 0.9835027007153869, 'fCPHASE_std_err': 0.00246859475631052, 'fCZ': 0.9865807688884264, 'fCZ_std_err': 0.0030099191405298952, 'fXY': 0.9935079453998189, 'fXY_std_err': 0.002098234543463885}, '10-113': {'fCPHASE': 0.95, 'fCPHASE_std_err': 0.0063378127110447465, 'fCZ': 0.9682389335155939, 'fCZ_std_err': 0.007650280383030023, 'fXY': 0.97036933388663, 'fXY_std_err': 0.008451352698672185}, '10-17': {'fCPHASE': 0.9799056436278545, 'fCPHASE_std_err': 0.012355559468073535, 'fCZ': 0.9678112113742059, 'fCZ_std_err': 0.006362077113605659, 'fXY': 0.9849635422843984, 'fXY_std_err': 0.0035175001637789884}, '100-101': {'fCPHASE': 0.9719677166194687, 'fCPHASE_std_err': 0.008045472759474774, 'fCZ': 0.8810703352622161, 'fCZ_std_err': 0.02281910102081513, 'fXY': 0.9821804425075976, 'fXY_std_err': 0.009646813826143701}, '100-107': {'fCPHASE': 0.9659264197651438, 'fCPHASE_std_err': 0.009101668109468098, 'fCZ': 0.9304795042632682, 'fCZ_std_err': 0.01204688613979697, 'fXY': 0.9691195543618055, 'fXY_std_err': 0.010141409935239754}, '101-102': {'fCPHASE': 0.8325981141447469, 'fCPHASE_std_err': 0.014174328182566307, 'fCZ': 0.8499935109334316, 'fCZ_std_err': 0.014651242567809085, 'fXY': 0.8370044987316665, 'fXY_std_err': 0.013144946715655567}, '101-116': {'fCPHASE': 0.7797232948849636, 'fCPHASE_std_err': 0.015260167745932179, 'fCZ': 0.8084348474932993, 'fCZ_std_err': 0.01939009875038679, 'fXY': 0.9781064668463586, 'fXY_std_err': 0.004346307782725532}, '102-103': {'fCPHASE': 0.8855983785332819, 'fCPHASE_std_err': 0.07852043120893525, 'fCZ': 0.8548011068579539, 'fCZ_std_err': 0.015094033687682034, 'fXY': 0.9398395892179736, 'fXY_std_err': 0.009567680612484664}, '102-115': {'fCPHASE': 0.8638776494230828, 'fCPHASE_std_err': 0.010228159052112096, 'fCZ': 0.9646609789447499, 'fCZ_std_err': 0.006901571475889264, 'fXY': 0.8120419335331842, 'fXY_std_err': 0.016011182798939663}, '103-104': {'fCPHASE': 0.8360378851772775, 'fCPHASE_std_err': 0.012417179853115287, 'fCZ': 0.85570474857116, 'fCZ_std_err': 0.010623583287522068, 'fXY': 0.858970290292016, 'fXY_std_err': 0.0066050736021614}, '105-106': {'fCPHASE': 0.842513708827139, 'fCPHASE_std_err': 0.009177371081291288, 'fCZ': 0.8541926223514774, 'fCZ_std_err': 0.010633618273467104, 'fXY': 0.9048198253712033, 'fXY_std_err': 0.003581405331993141}, '106-107': {'fCPHASE': 0.9114181128989497, 'fCPHASE_std_err': 0.004051964943684736, 'fCZ': 0.9497567410594514, 'fCZ_std_err': 0.0098468053946599}, '11-12': {'fCPHASE': 0.8441230156336039, 'fCPHASE_std_err': 0.010406541331527566, 'fCZ': 0.8314099484827835, 'fCZ_std_err': 0.011541686181288044, 'fXY': 0.8205589668133577, 'fXY_std_err': 0.009702172712002922}, '11-26': {'fCPHASE': 0.9422025288168421, 'fCPHASE_std_err': 0.009114295644418268, 'fCZ': 0.9369164469905519, 'fCZ_std_err': 0.01616435271394912, 'fXY': 0.9651225103756333, 'fXY_std_err': 0.0061904408635210266}, '110-111': {'fCPHASE': 0.9734258326192001, 'fCPHASE_std_err': 0.007037646485686008, 'fCZ': 0.9887439788761189, 'fCZ_std_err': 0.0028587001101929694, 'fXY': 0.9812106945729776, 'fXY_std_err': 0.0036503276266501555}, '110-117': {'fCPHASE': 0.9550883548160516, 'fCPHASE_std_err': 0.007261392724829726, 'fCZ': 0.9763079978187595, 'fCZ_std_err': 0.004332900778848241, 'fXY': 0.9701373251443068, 'fXY_std_err': 0.006051853392425025}, '111-112': {'fCPHASE': 0.970358061538862, 'fCPHASE_std_err': 0.005579208936508501, 'fCZ': 0.9743083085248476, 'fCZ_std_err': 0.0032368695827458115, 'fXY': 0.9697407217836549, 'fXY_std_err': 0.004980231887549612}, '111-126': {'fCPHASE': 0.8765364830038755, 'fCPHASE_std_err': 0.0065650738728521, 'fCZ': 0.8696931096549068, 'fCZ_std_err': 0.007156713024305938, 'fXY': 0.7502118530506448, 'fXY_std_err': 0.012784195473242256}, '112-113': {'fCPHASE': 0.968434930228524, 'fCPHASE_std_err': 0.00768077799473981, 'fCZ': 0.9854545290611312, 'fCZ_std_err': 0.0029309465069321016, 'fXY': 0.9591580371598704, 'fXY_std_err': 0.008003149040828737}, '112-125': {'fCPHASE': 0.971705340737057, 'fCPHASE_std_err': 0.00644219228454466, 'fCZ': 0.9627485502537719, 'fCZ_std_err': 0.005906574431820047, 'fXY': 0.9424175196418538, 'fXY_std_err': 0.0072724925369583825}, '113-114': {'fCPHASE': 0.9802060824522735, 'fCPHASE_std_err': 0.004247271008611909, 'fCZ': 0.802594412445331, 'fCZ_std_err': 0.028907652769240476, 'fXY': 0.9857050100890234, 'fXY_std_err': 0.003442238392248183}, '114-115': {'fCPHASE': 0.9847155914128944, 'fCPHASE_std_err': 0.003881982953080676, 'fCZ': 0.9767104091937223, 'fCZ_std_err': 0.009818295052086456, 'fXY': 0.9783323341626936, 'fXY_std_err': 0.005855910342915546}, '115-116': {'fCPHASE': 0.7965827457792523, 'fCPHASE_std_err': 0.020402836830317992, 'fCZ': 0.8649962433306329, 'fCZ_std_err': 0.011403509826448418, 'fXY': 0.8631516601270235, 'fXY_std_err': 0.006161401927078063}, '116-117': {'fCPHASE': 0.900993858216272, 'fCPHASE_std_err': 0.012914897442126216, 'fCZ': 0.9247461824160494, 'fCZ_std_err': 0.013432951735974634, 'fXY': 0.97079257187811, 'fXY_std_err': 0.013014339870073794}, '12-13': {'fCPHASE': 0.8022167858526372, 'fCPHASE_std_err': 0.009008766045824452, 'fCZ': 0.8816538721631617, 'fCZ_std_err': 0.006543542159776728, 'fXY': 0.8578635302568636, 'fXY_std_err': 0.006077314121434823}, '12-25': {'fCPHASE': 0.8112204189207756, 'fCPHASE_std_err': 0.011528364404090974, 'fCZ': 0.8380041155216418, 'fCZ_std_err': 0.008861646917778746, 'fXY': 0.8774764583636774, 'fXY_std_err': 0.00507127670060488}, '120-121': {'fCPHASE': 0.9764248913293829, 'fCPHASE_std_err': 0.004479619083574167, 'fCZ': 0.9829255680612858, 'fCZ_std_err': 0.0030016565287472553, 'fXY': 0.9695664367941932, 'fXY_std_err': 0.004271309827719109}, '120-127': {'fCPHASE': 0.9146306525959773, 'fCPHASE_std_err': 0.0036006174888081706, 'fCZ': 0.8479302701480332, 'fCZ_std_err': 0.012825186979324044, 'fXY': 0.9629324797781961, 'fXY_std_err': 0.006631373235274518}, '121-122': {'fCPHASE': 0.9618591940741719, 'fCPHASE_std_err': 0.006256705027461795, 'fCZ': 0.9468238275325787, 'fCZ_std_err': 0.010419348505903996, 'fXY': 0.965468977163078, 'fXY_std_err': 0.00488473975716233}, '121-136': {'fCPHASE': 0.867630548606552, 'fCPHASE_std_err': 0.011214227721685465, 'fCZ': 0.7930661373059784, 'fCZ_std_err': 0.01461958045284515, 'fXY': 0.957312427304536, 'fXY_std_err': 0.008082148315279971}, '122-123': {'fCPHASE': 0.8868354326942651, 'fCPHASE_std_err': 0.006515535672099426, 'fCZ': 0.904340089569008, 'fCZ_std_err': 0.004693286088303025, 'fXY': 0.9633237118836746, 'fXY_std_err': 0.006085109709419442}, '122-135': {'fXY': 0.8094513673627959, 'fXY_std_err': 0.014659739559732479}, '123-124': {'fCPHASE': 0.8222703456498759, 'fCPHASE_std_err': 0.010735882442832105, 'fCZ': 0.8809959665338691, 'fCZ_std_err': 0.005989026990160557, 'fXY': 0.8163236844930766, 'fXY_std_err': 0.009403017636117741}, '124-125': {'fCPHASE': 0.8440137845315191, 'fCPHASE_std_err': 0.009709644825109097, 'fCZ': 0.8625077790814679, 'fCZ_std_err': 0.008653497479429104, 'fXY': 0.8969118564266836, 'fXY_std_err': 0.004410000922029214}, '125-126': {'fXY': 0.8905694086696831, 'fXY_std_err': 0.004770495006223326}, '126-127': {'fCPHASE': 0.8544712760933578, 'fCPHASE_std_err': 0.007663089682854704, 'fCZ': 0.8162949614695546, 'fCZ_std_err': 0.010867845599130212, 'fXY': 0.8782590459006846, 'fXY_std_err': 0.0059944708862232935}, '13-14': {'fCPHASE': 0.8175456264475087, 'fCPHASE_std_err': 0.013026644946939708, 'fCZ': 0.8924611828701957, 'fCZ_std_err': 0.006555037431922844, 'fXY': 0.9428424875389401, 'fXY_std_err': 0.007499887138283387}, '130-131': {'fCPHASE': 0.8970245248076651, 'fCPHASE_std_err': 0.004157273812867721, 'fCZ': 0.9787569115072468, 'fCZ_std_err': 0.007089810683695147, 'fXY': 0.9846661222085215, 'fXY_std_err': 0.0034006036193286525}, '130-137': {'fCPHASE': 0.9583527268076526, 'fCPHASE_std_err': 0.006403226694718738, 'fCZ': 0.9591805045849565, 'fCZ_std_err': 0.00789798223209285, 'fXY': 0.9584568788225211, 'fXY_std_err': 0.005889687630753842}, '131-132': {'fCPHASE': 0.9688672268309046, 'fCPHASE_std_err': 0.005553174361500659, 'fCZ': 0.9774918137059647, 'fCZ_std_err': 0.004245830265924149, 'fXY': 0.8364576553644819, 'fXY_std_err': 0.01003021900721693}, '131-146': {'fCPHASE': 0.9626981754378376, 'fCPHASE_std_err': 0.009495412461582187, 'fCZ': 0.9522825481931299, 'fCZ_std_err': 0.006668097440804279, 'fXY': 0.9065695642338778, 'fXY_std_err': 0.004326239406216267}, '132-133': {'fCPHASE': 0.9583955405496977, 'fCPHASE_std_err': 0.011770891519488857, 'fCZ': 0.9575446677213981, 'fCZ_std_err': 0.006869625724888218, 'fXY': 0.9726659383742493, 'fXY_std_err': 0.003737429996518217}, '132-145': {'fCPHASE': 0.9353709425735706, 'fCPHASE_std_err': 0.013474690426914192, 'fCZ': 0.9552457413021833, 'fCZ_std_err': 0.009802164787523378, 'fXY': 0.971033557334587, 'fXY_std_err': 0.005360462476616779}, '133-134': {'fXY': 0.9638734076506603, 'fXY_std_err': 0.004330948434230471}, '134-135': {'fCPHASE': 0.7863605127504727, 'fCPHASE_std_err': 0.009653381826925109, 'fCZ': 0.875736032454109, 'fCZ_std_err': 0.005321915410956851, 'fXY': 0.8232549023290283, 'fXY_std_err': 0.013323588379025659}, '135-136': {'fXY': 0.8842853824923737, 'fXY_std_err': 0.0035284600466892416}, '136-137': {'fCPHASE': 0.9116673232129776, 'fCPHASE_std_err': 0.004778376218998928, 'fCZ': 0.8817191793293891, 'fCZ_std_err': 0.006112959062694049, 'fXY': 0.9055585387549159, 'fXY_std_err': 0.005096815920852068}, '14-15': {'fCPHASE': 0.8895227269790834, 'fCPHASE_std_err': 0.006580653336250877, 'fCZ': 0.8713151919444162, 'fCZ_std_err': 0.01932863291029358, 'fXY': 0.8485703669760691, 'fXY_std_err': 0.007400841399780657}, '140-141': {'fCPHASE': 0.8886083783815651, 'fCPHASE_std_err': 0.005631619651270726, 'fCZ': 0.8647367699214886, 'fCZ_std_err': 0.00832214795462051, 'fXY': 0.8799887702502055, 'fXY_std_err': 0.005580106116774942}, '140-147': {'fCPHASE': 0.874661970971315, 'fCPHASE_std_err': 0.006743619662435552, 'fCZ': 0.8988588684818911, 'fCZ_std_err': 0.004995588372585918}, '141-142': {'fCPHASE': 0.8457847047379188, 'fCPHASE_std_err': 0.010327679133511753, 'fCZ': 0.973829760571837, 'fCZ_std_err': 0.005170410684254457, 'fXY': 0.8846044458416863, 'fXY_std_err': 0.007422851390354273}, '142-143': {'fCPHASE': 0.8822736750782341, 'fCPHASE_std_err': 0.005588700461751803, 'fCZ': 0.9517193995963017, 'fCZ_std_err': 0.007592610907443067, 'fXY': 0.8872411640528148, 'fXY_std_err': 0.007543049364134918}, '143-144': {'fCPHASE': 0.7938590796113965, 'fCPHASE_std_err': 0.012259752175567781, 'fCZ': 0.8200038266475801, 'fCZ_std_err': 0.010524683426171013, 'fXY': 0.946127764143908, 'fXY_std_err': 0.010792641271150398}, '144-145': {'fCPHASE': 0.9474326895429279, 'fCPHASE_std_err': 0.008945148058460703, 'fCZ': 0.809199249774846, 'fCZ_std_err': 0.01908754491436418, 'fXY': 0.981963629421804, 'fXY_std_err': 0.004640202638508106}, '145-146': {'fCPHASE': 0.8079605407586734, 'fCPHASE_std_err': 0.014410960759786186, 'fCZ': 0.8167275088956258, 'fCZ_std_err': 0.014055304697598523, 'fXY': 0.9677658891831694, 'fXY_std_err': 0.0037498912855685814}, '146-147': {'fCPHASE': 0.8929293738072106, 'fCPHASE_std_err': 0.0069856021346204325, 'fCZ': 0.9758039144927977, 'fCZ_std_err': 0.0035725543798289265, 'fXY': 0.9730989036277129, 'fXY_std_err': 0.004618316707039006}, '15-16': {'fCPHASE': 0.9688315352526196, 'fCPHASE_std_err': 0.005329586010841924, 'fCZ': 0.9917242160285763, 'fCZ_std_err': 0.002621305737640459, 'fXY': 0.9628893574458366, 'fXY_std_err': 0.006343051737787456}, '16-17': {'fCPHASE': 0.9785469367418707, 'fCPHASE_std_err': 0.0033086468723496788, 'fCZ': 0.98010854010005, 'fCZ_std_err': 0.004203129377627754, 'fXY': 0.9717644198445942, 'fXY_std_err': 0.0051535787835553905}, '17-114': {'fCPHASE': 0.9507532011701469, 'fCPHASE_std_err': 0.007555067167253288, 'fCZ': 0.9913234030357992, 'fCZ_std_err': 0.003133564134047737, 'fXY': 0.9806343052155703, 'fXY_std_err': 0.003242171920121689}, '2-15': {'fCPHASE': 0.8952588441270113, 'fCPHASE_std_err': 0.0045094235533077445, 'fCZ': 0.8006923928429969, 'fCZ_std_err': 0.012252018056617409}, '20-123': {'fCPHASE': 0.8280912655339742, 'fCPHASE_std_err': 0.010315505504588705, 'fCZ': 0.8486634608306778, 'fCZ_std_err': 0.009181724520784798, 'fXY': 0.7290959851222532, 'fXY_std_err': 0.017196576356025364}, '20-21': {'fCPHASE': 0.8298620460935198, 'fCPHASE_std_err': 0.009339967361416285, 'fCZ': 0.8447924403341951, 'fCZ_std_err': 0.008651517766589227, 'fXY': 0.8603427527234578, 'fXY_std_err': 0.007962351824244514}, '20-27': {'fCPHASE': 0.8153722351834515, 'fCPHASE_std_err': 0.01418492210765391, 'fCZ': 0.7860924567360265, 'fCZ_std_err': 0.01475333361406861, 'fXY': 0.8209002514792043, 'fXY_std_err': 0.01061669525295684}, '21-22': {'fCPHASE': 0.9817790517361165, 'fCPHASE_std_err': 0.004844554177042309, 'fCZ': 0.9637637556221843, 'fCZ_std_err': 0.006172617452131488, 'fXY': 0.9748727136193289, 'fXY_std_err': 0.005488609118612521}, '21-36': {'fCPHASE': 0.9514806632358905, 'fCPHASE_std_err': 0.00946271002345692, 'fCZ': 0.9785400515452342, 'fCZ_std_err': 0.004375072063161976, 'fXY': 0.9759372056612975, 'fXY_std_err': 0.0057543561790810134}, '22-23': {'fCPHASE': 0.7542946510862218, 'fCPHASE_std_err': 0.018278636128065955, 'fCZ': 0.9540091096602583, 'fCZ_std_err': 0.008227856166632056, 'fXY': 0.9824459157250637, 'fXY_std_err': 0.007911173182973207}, '22-35': {'fCPHASE': 0.9719863272657382, 'fCPHASE_std_err': 0.006439632888123722, 'fCZ': 0.9553952914012023, 'fCZ_std_err': 0.007034527005610381, 'fXY': 0.9756279588029105, 'fXY_std_err': 0.00703639909957754}, '23-24': {'fCPHASE': 0.8970617977878257, 'fCPHASE_std_err': 0.01619639756726278, 'fCZ': 0.9681737237157775, 'fCZ_std_err': 0.003918823239217163, 'fXY': 0.9851616338252789, 'fXY_std_err': 0.004996090198324883}, '24-25': {'fCPHASE': 0.9681261643829356, 'fCPHASE_std_err': 0.006754040260936555, 'fCZ': 0.9771682420840497, 'fCZ_std_err': 0.003106198297112196, 'fXY': 0.9725553581767852, 'fXY_std_err': 0.0036044276554504564}, '25-26': {'fCPHASE': 0.9541786046269535, 'fCPHASE_std_err': 0.007179892523581719, 'fCZ': 0.9229068968495003, 'fCZ_std_err': 0.010844073826655204, 'fXY': 0.9959170737752555, 'fXY_std_err': 0.008201088636631729}, '26-27': {'fCPHASE': 0.8915079634311145, 'fCPHASE_std_err': 0.004608591081020077, 'fCZ': 0.936742285375078, 'fCZ_std_err': 0.011404655566613716, 'fXY': 0.9560001309334554, 'fXY_std_err': 0.007799818990011887}, '27-124': {'fCPHASE': 0.8604033572131978, 'fCPHASE_std_err': 0.006038211996207938, 'fCZ': 0.8954302814880636, 'fCZ_std_err': 0.004872273129042716, 'fXY': 0.8055409336447746, 'fXY_std_err': 0.01018876260432603}, '3-4': {'fXY': 0.9534783497725389, 'fXY_std_err': 0.01270766788415064}, '30-133': {'fCPHASE': 0.9645825569221544, 'fCPHASE_std_err': 0.005605543110988955, 'fCZ': 0.9675361658192183, 'fCZ_std_err': 0.006343586705944605, 'fXY': 0.9518762839795748, 'fXY_std_err': 0.012425646726953486}, '30-31': {'fCPHASE': 0.825542375528139, 'fCPHASE_std_err': 0.024158748632228152, 'fCZ': 1.0, 'fCZ_std_err': 0.010170706350083446, 'fXY': 0.9898586232978183, 'fXY_std_err': 0.002670078519393089}, '30-37': {'fCPHASE': 0.9651212842723477, 'fCPHASE_std_err': 0.009482736484709228, 'fCZ': 0.9847750621370857, 'fCZ_std_err': 0.002658912929551606, 'fXY': 0.9861071132692121, 'fXY_std_err': 0.0027403551930901483}, '31-32': {'fCPHASE': 0.9744669990646281, 'fCPHASE_std_err': 0.0049703792620084215, 'fCZ': 0.956905550502854, 'fCZ_std_err': 0.007129267990016627, 'fXY': 0.968565904655339, 'fXY_std_err': 0.004805020926739476}, '31-46': {'fCPHASE': 0.7781956843629839, 'fCPHASE_std_err': 0.011088794108357008, 'fCZ': 0.8607455460248004, 'fCZ_std_err': 0.00644045639072593, 'fXY': 0.8262515694343948, 'fXY_std_err': 0.011122545987536385}, '32-33': {'fCPHASE': 0.9608899397055051, 'fCPHASE_std_err': 0.008496853137521443, 'fCZ': 0.9537731871762951, 'fCZ_std_err': 0.01182684557286117, 'fXY': 0.7148740136712826, 'fXY_std_err': 0.021094308419476765}, '32-45': {'fCPHASE': 0.9520011429475277, 'fCPHASE_std_err': 0.006302408341005008, 'fCZ': 0.94350764237815, 'fCZ_std_err': 0.009898496289764294, 'fXY': 0.9803863463212192, 'fXY_std_err': 0.0038568134234400666}, '33-34': {'fCPHASE': 0.9686798298244352, 'fCPHASE_std_err': 0.004520760883291327, 'fCZ': 0.9442922722091827, 'fCZ_std_err': 0.019072012264382078, 'fXY': 0.9627497639059628, 'fXY_std_err': 0.00871149284113275}, '34-35': {'fCPHASE': 0.9749433920004189, 'fCPHASE_std_err': 0.005973011926541644, 'fCZ': 0.9776542097414048, 'fCZ_std_err': 0.002987256048249466, 'fXY': 0.9696410339535422, 'fXY_std_err': 0.004533530139433493}, '35-36': {'fCPHASE': 0.9644436634831925, 'fCPHASE_std_err': 0.006499230538688565, 'fCZ': 0.9660281585122967, 'fCZ_std_err': 0.007013805369517243, 'fXY': 0.9791896818374515, 'fXY_std_err': 0.0033821405035719385}, '36-37': {'fCPHASE': 0.95450379733627, 'fCPHASE_std_err': 0.008423285907342497, 'fCZ': 0.9673601166271737, 'fCZ_std_err': 0.006668643990264228, 'fXY': 0.9796519597106381, 'fXY_std_err': 0.0037176519365249103}, '37-134': {'fCPHASE': 0.7612589700863901, 'fCPHASE_std_err': 0.015622646541581315, 'fCZ': 0.9410496449751427, 'fCZ_std_err': 0.012242372518082627, 'fXY': 0.963481734649305, 'fXY_std_err': 0.00804890066883126}, '4-5': {'fCPHASE': 0.798250334614798, 'fCPHASE_std_err': 0.010723290963876319, 'fCZ': 0.7794427268834754, 'fCZ_std_err': 0.010460701840770265, 'fXY': 0.8838775176697886, 'fXY_std_err': 0.006710386674804796}, '40-143': {'fCPHASE': 0.9644540114684008, 'fCPHASE_std_err': 0.005393000537428056, 'fCZ': 0.936597053187031, 'fCZ_std_err': 0.009731042726624232, 'fXY': 0.9518610631427659, 'fXY_std_err': 0.0080852528968532}, '40-41': {'fCPHASE': 0.967170849252884, 'fCPHASE_std_err': 0.004861781548764847, 'fCZ': 0.9562065900511583, 'fCZ_std_err': 0.008623558028157003, 'fXY': 0.9818043855890208, 'fXY_std_err': 0.003188735122038133}, '40-47': {'fCPHASE': 0.8051838109267727, 'fCPHASE_std_err': 0.011756778569704964, 'fCZ': 0.9401119045558838, 'fCZ_std_err': 0.01059137565072453, 'fXY': 0.9480716834377594, 'fXY_std_err': 0.008405555947973941}, '41-42': {'fCPHASE': 0.9086026999412704, 'fCPHASE_std_err': 0.004147374634563498, 'fCZ': 0.8917701957499308, 'fCZ_std_err': 0.006427231201717443, 'fXY': 0.9733432353043292, 'fXY_std_err': 0.006656528087151662}, '42-43': {'fCPHASE': 0.9350439792265189, 'fCPHASE_std_err': 0.011444278077259274, 'fCZ': 0.9492008253109364, 'fCZ_std_err': 0.008021853051227405, 'fXY': 0.9544609337563286, 'fXY_std_err': 0.0070351302190313665}, '43-44': {'fCPHASE': 0.8696144945060528, 'fCPHASE_std_err': 0.005591289679353776, 'fCZ': 0.8976260313080553, 'fCZ_std_err': 0.004997692309800186, 'fXY': 0.8914554201123224, 'fXY_std_err': 0.004411949722979887}, '44-45': {'fCPHASE': 0.8312007209796688, 'fCPHASE_std_err': 0.010653750196332053, 'fCZ': 0.8614757685797885, 'fCZ_std_err': 0.009237597710728825, 'fXY': 0.7846547738987124, 'fXY_std_err': 0.010810748992234782}, '45-46': {'fXY': 0.8100618666972992, 'fXY_std_err': 0.010876760550560683}, '46-47': {'fCPHASE': 0.6254768388462869, 'fCPHASE_std_err': 0.03926689791915512, 'fCZ': 0.8227402837762338, 'fCZ_std_err': 0.010764659590868546}, '47-144': {'fCPHASE': 0.8993741738159302, 'fCPHASE_std_err': 0.005617675214916776, 'fCZ': 0.9171100123395164, 'fCZ_std_err': 0.015419213784019125, 'fXY': 0.9433666349074108, 'fXY_std_err': 0.01101725788142626}, '5-6': {'fCPHASE': 0.9802823788982785, 'fCPHASE_std_err': 0.0029625666796838316, 'fCZ': 0.9909984556596624, 'fCZ_std_err': 0.0029238319914165105, 'fXY': 0.9868268345835038, 'fXY_std_err': 0.0024975397999579306}, '6-7': {'fCPHASE': 0.9116381176273856, 'fCPHASE_std_err': 0.01552566471623338, 'fCZ': 0.8930831583075594, 'fCZ_std_err': 0.010152440706922299, 'fXY': 0.9637951861241999, 'fXY_std_err': 0.005578032636240382}}}))"
      ]
     },
     "execution_count": 4,
     "metadata": {},
     "output_type": "execute_result"
    }
   ],
   "source": [
    "from braket.aws import AwsDevice, AwsQuantumTask\n",
    "# set up device\n",
    "rigetti = AwsDevice(\"arn:aws:braket:us-west-1::device/qpu/rigetti/Aspen-M-1\")\n",
    "rigetti.properties"
   ]
  },
  {
   "cell_type": "code",
   "execution_count": 9,
   "metadata": {},
   "outputs": [],
   "source": [
    "# Helper function to build C-C-Z gate\n",
    "@circuit.subroutine(register=True)\n",
    "def ccz(targets=[0, 1, 2]):\n",
    "    \"\"\"\n",
    "    implementation of three-qubit gate CCZ\n",
    "    \"\"\"\n",
    "    # define three-qubit CCZ gate\n",
    "    ccz_gate = np.array([[1.0, 0.0, 0.0, 0.0, 0.0, 0.0, 0.0, 0.0],\n",
    "                         [0.0, 1.0, 0.0, 0.0, 0.0, 0.0, 0.0, 0.0],\n",
    "                         [0.0, 0.0, 1.0, 0.0, 0.0, 0.0, 0.0, 0.0],\n",
    "                         [0.0, 0.0, 0.0, 1.0, 0.0, 0.0, 0.0, 0.0],\n",
    "                         [0.0, 0.0, 0.0, 0.0, 1.0, 0.0, 0.0, 0.0],\n",
    "                         [0.0, 0.0, 0.0, 0.0, 0.0, 1.0, 0.0, 0.0],\n",
    "                         [0.0, 0.0, 0.0, 0.0, 0.0, 0.0, 1.0, 0.0],\n",
    "                         [0.0, 0.0, 0.0, 0.0, 0.0, 0.0, 0.0, -1.0]],\n",
    "                       dtype=complex)\n",
    "    \n",
    "    # instantiate circuit object\n",
    "    circ = Circuit()\n",
    "    \n",
    "    # add CCZ gate\n",
    "    circ.unitary(matrix=ccz_gate, targets=targets)\n",
    "    \n",
    "    return circ\n",
    "\n",
    "\n",
    "# All possible items and their corresponding oracles\n",
    "# define oracle dictionary using this CCZ gate\n",
    "oracle_sim = {\"000\": Circuit().x([0,1,2]).ccz(targets=[0, 1, 2]).x([0,1,2]),\n",
    "              \"001\": Circuit().x([0,1]).ccz(targets=[0, 1, 2]).x([0,1]),\n",
    "              \"010\": Circuit().x([0,2]).ccz(targets=[0, 1, 2]).x([0,2]),\n",
    "              \"011\": Circuit().x([0]).ccz(targets=[0, 1, 2]).x([0]),\n",
    "              \"100\": Circuit().x([1,2]).ccz(targets=[0, 1, 2]).x([1,2]),\n",
    "              \"101\": Circuit().x([1]).ccz(targets=[0, 1, 2]).x([1]),\n",
    "              \"110\": Circuit().x([2]).ccz(targets=[0, 1, 2]).x([2]),\n",
    "              \"111\": Circuit().ccz(targets=[0, 1, 2])\n",
    "          }\n",
    "\n",
    "\n",
    "# helper function for initialization\n",
    "def initialize(n_qubits=3):\n",
    "    \"\"\"\n",
    "    function to apply hadamard to all qubits\n",
    "    \"\"\"\n",
    "    # Initialize with superposition\n",
    "    circ = Circuit();\n",
    "    circ.h(np.arange(n_qubits))\n",
    "    #print(circ)\n",
    "    return circ\n",
    "\n",
    "\n",
    "# helper function for phase oracle\n",
    "def oracle(item):\n",
    "    \"\"\"\n",
    "    function to apply oracle for given target item\n",
    "    \"\"\"\n",
    "    # instantiate circuit object\n",
    "    circ = Circuit()\n",
    "    \n",
    "    # add oracle\n",
    "    circ.add_circuit(oracle_sim[item])\n",
    "    \n",
    "    return circ\n",
    "\n",
    "\n",
    "# helper function for amplification\n",
    "def amplify(n_qubits=3):\n",
    "    \"\"\"\n",
    "    function for amplitude amplification\n",
    "    \"\"\"\n",
    "    # instantiate circuit object\n",
    "    circ = Circuit()\n",
    "    \n",
    "    # Amplification\n",
    "    circ.h(np.arange(n_qubits))\n",
    "    circ.add_circuit(oracle_sim['000'])\n",
    "    circ.h(np.arange(n_qubits))\n",
    "    \n",
    "    return circ\n",
    "\n",
    "\n",
    "# helper function for grover algorithm\n",
    "def grover(item, n_qubits=3, n_reps=1):\n",
    "    \"\"\"\n",
    "    function to put together individual modules of Grover algorithm\n",
    "    \"\"\"\n",
    "    # initialize\n",
    "    grover_circ = initialize()\n",
    "    # oracle and amplify\n",
    "    for ii in range(n_reps):\n",
    "        # get oracle\n",
    "        or_circ = oracle(item)\n",
    "        grover_circ.add(or_circ)\n",
    "        # amplify\n",
    "        amplification = amplify()\n",
    "        grover_circ.add(amplification)\n",
    "    \n",
    "    return grover_circ\n",
    "        "
   ]
  },
  {
   "cell_type": "code",
   "execution_count": 40,
   "metadata": {},
   "outputs": [],
   "source": [
    "# Helper function to build C-C-Z gate\n",
    "@circuit.subroutine(register=True)\n",
    "def ccz(targets=[0, 1, 2]):\n",
    "    \"\"\"\n",
    "    implementation of three-qubit gate CCZ\n",
    "    \"\"\"\n",
    "    # define three-qubit CCZ gate\n",
    "    ccz_gate = np.array([[1.0, 0.0, 0.0, 0.0, 0.0, 0.0, 0.0, 0.0],\n",
    "                         [0.0, 1.0, 0.0, 0.0, 0.0, 0.0, 0.0, 0.0],\n",
    "                         [0.0, 0.0, 1.0, 0.0, 0.0, 0.0, 0.0, 0.0],\n",
    "                         [0.0, 0.0, 0.0, 1.0, 0.0, 0.0, 0.0, 0.0],\n",
    "                         [0.0, 0.0, 0.0, 0.0, 1.0, 0.0, 0.0, 0.0],\n",
    "                         [0.0, 0.0, 0.0, 0.0, 0.0, 1.0, 0.0, 0.0],\n",
    "                         [0.0, 0.0, 0.0, 0.0, 0.0, 0.0, 1.0, 0.0],\n",
    "                         [0.0, 0.0, 0.0, 0.0, 0.0, 0.0, 0.0, -1.0]],\n",
    "                       dtype=complex)\n",
    "    \n",
    "    # instantiate circuit object\n",
    "    circ = Circuit()\n",
    "    \n",
    "    # add CCZ gate\n",
    "    circ.unitary(matrix=ccz_gate, targets=targets)\n",
    "    \n",
    "    return circ\n",
    "\n",
    "\n",
    "# helper function for initialization\n",
    "def initialize(n_qubits=3):\n",
    "    \"\"\"\n",
    "    function to apply hadamard to all qubits\n",
    "    \"\"\"\n",
    "    # Initialize with superposition\n",
    "    circ = Circuit();\n",
    "    circ.h(np.arange(n_qubits))\n",
    "    #print(circ)\n",
    "    return circ\n",
    "\n",
    "\n",
    "# helper function for phase oracle\n",
    "def oracle(item):\n",
    "    \"\"\"\n",
    "    function to apply oracle for given target item\n",
    "    \"\"\"\n",
    "    # instantiate circuit object\n",
    "    circ = Circuit()\n",
    "    \n",
    "    for i in range(3):\n",
    "        circ.cx(i*2, i+2) # (0,2), (2,4), (4,6)\n",
    "        circ.cx(i+2, i+8) # (2, 8), (3, 9), (4, 10)\n",
    "        circ.cx(i*2+1, (i+1)*2+1) # (1,3), (3,5), (5,7)\n",
    "    \n",
    "    circ.x(8)\n",
    "    circ.x(9)\n",
    "    circ.x(10)\n",
    "    \n",
    "    circ.ccz(8, 9, 10)\n",
    "    \n",
    "    # add oracle\n",
    "    circ.add_circuit(oracle_sim[item])\n",
    "    \n",
    "    return circ\n",
    "\n",
    "\n",
    "# All possible items and their corresponding oracles\n",
    "# define oracle dictionary using this CCZ gate\n",
    "oracle_sim = {\"000\": Circuit().x([0,1,2]).ccz(targets=[0, 1, 2]).x([0,1,2]),\n",
    "              \"001\": Circuit().x([0,1]).ccz(targets=[0, 1, 2]).x([0,1]),\n",
    "              \"010\": Circuit().x([0,2]).ccz(targets=[0, 1, 2]).x([0,2]),\n",
    "              \"011\": Circuit().x([0]).ccz(targets=[0, 1, 2]).x([0]),\n",
    "              \"100\": Circuit().x([1,2]).ccz(targets=[0, 1, 2]).x([1,2]),\n",
    "              \"101\": Circuit().x([1]).ccz(targets=[0, 1, 2]).x([1]),\n",
    "              \"110\": Circuit().x([2]).ccz(targets=[0, 1, 2]).x([2]),\n",
    "              \"111\": Circuit().ccz(targets=[0, 1, 2])\n",
    "          }\n",
    "\n",
    "\n",
    "# helper function for amplification\n",
    "def amplify(n_qubits=3):\n",
    "    \"\"\"\n",
    "    function for amplitude amplification\n",
    "    \"\"\"\n",
    "    # instantiate circuit object\n",
    "    circ = Circuit()\n",
    "    \n",
    "    # Amplification\n",
    "    circ.h(range(n_qubits))\n",
    "    if n_qubits == 1:\n",
    "        circ.z(0)\n",
    "    elif n_qubits == 2:\n",
    "        circ.x([0,1]).cz(0,1).x([0,1])\n",
    "    elif n_qubits == 3:\n",
    "        circ.x([0,1,2]).ccz([0,1,2]).x([0,1,2])\n",
    "    else:\n",
    "        circ.x(range(n_qubits))\n",
    "        circ.ccnot(0,1,n_qubits)\n",
    "        for i in range(n_qubits-4):\n",
    "            circ.ccnot(i+2, n_qubits+i, n_qubits+i+1)\n",
    "        circ.ccz([n_qubits-2, n_qubits-1, 2*n_qubits-4])\n",
    "        for i in reversed(range(n_qubits-4)):\n",
    "            circ.ccnot(i+2, n_qubits+i, n_qubits+i+1)\n",
    "        circ.ccnot(0,1,n_qubits)\n",
    "        circ.x(range(n_qubits))\n",
    "    circ.h(range(n_qubits))\n",
    "    \n",
    "    return circ\n",
    "\n",
    "\n",
    "# helper function for grover algorithm\n",
    "def grover(item, n_qubits=3, n_reps=1):\n",
    "    \"\"\"\n",
    "    function to put together individual modules of Grover algorithm\n",
    "    \"\"\"\n",
    "    # initialize\n",
    "    grover_circ = initialize()\n",
    "    # oracle and amplify\n",
    "    for ii in range(n_reps):\n",
    "        # get oracle\n",
    "        or_circ = oracle(item)\n",
    "        grover_circ.add(or_circ)\n",
    "        # amplify\n",
    "        amplification = amplify()\n",
    "        grover_circ.add(amplification)\n",
    "    \n",
    "    return grover_circ"
   ]
  },
  {
   "cell_type": "code",
   "execution_count": 42,
   "metadata": {},
   "outputs": [
    {
     "name": "stdout",
     "output_type": "stream",
     "text": [
      "T  : |0|1|2|\n",
      "            \n",
      "q0 : -H-Z-H-\n",
      "\n",
      "T  : |0|1|2|\n"
     ]
    }
   ],
   "source": [
    "print(amplify(2))"
   ]
  },
  {
   "cell_type": "code",
   "execution_count": null,
   "metadata": {},
   "outputs": [],
   "source": [
    "n = len(graph)+1 # number of vertices in the graph + 1\n",
    "m = math.ceil(math.log2(n)) # number of representing qubits for each vertex\n",
    "\n",
    "N = m*n # number of total qubits\n",
    "\n",
    "#Assume G = 1\n",
    "OUR_CIRCUIT = grover(n_qubits = N, n_reps = math.ceil(math.pi/4*math.sqrt(2**N/1)))\n",
    "\n",
    "OUR_CIRCUIT.draw()"
   ]
  },
  {
   "cell_type": "code",
   "execution_count": null,
   "metadata": {},
   "outputs": [],
   "source": [
    "# run circuit \n",
    "rigetti_task = rigetti.run(YOUR_CIRCUIT, shots=1000)\n",
    "\n",
    "# get id and status of submitted task\n",
    "rigetti_task_id = rigetti_task.id\n",
    "rigetti_status = rigetti_task.state()\n",
    "# print('ID of task:', rigetti_task_id)\n",
    "print('Status of task:', rigetti_status)"
   ]
  },
  {
   "cell_type": "markdown",
   "metadata": {},
   "source": [
    "Let's verify that your quantum job was submitted!"
   ]
  },
  {
   "cell_type": "code",
   "execution_count": null,
   "metadata": {},
   "outputs": [],
   "source": [
    "# print status\n",
    "!qbraid credits\n",
    "status = rigetti_task.state()\n",
    "print('Status of (reconstructed) task:', status)"
   ]
  },
  {
   "cell_type": "markdown",
   "metadata": {},
   "source": [
    "## Verify your solution\n",
    "Using our autograder, input the solution you and your teammates have come up with.\n",
    "Your solution should be a list of integers beginning with the initial node to traverse the graph and ending with the same node to complete the \"cycle\". "
   ]
  },
  {
   "cell_type": "code",
   "execution_count": 7,
   "metadata": {},
   "outputs": [
    {
     "name": "stdout",
     "output_type": "stream",
     "text": [
      "Success: path is a Hamiltonian cycle\n"
     ]
    },
    {
     "data": {
      "text/plain": [
       "True"
      ]
     },
     "execution_count": 7,
     "metadata": {},
     "output_type": "execute_result"
    }
   ],
   "source": [
    "# feed your solution to the auto-grader in the following format:\n",
    "from auto_grader import is_hamiltonian_cycle\n",
    "path = [5,6,1,7,4,2,0,3,5]\n",
    "is_hamiltonian_cycle(graph,path)"
   ]
  },
  {
   "cell_type": "markdown",
   "metadata": {},
   "source": [
    "## References\n",
    "Grover, L. K. A fast quantum mechanical algorithm for database search. Proceedings of the 28th Annual ACM Symposium on Theory of Computation,212–219 (1996).\n",
    "\n",
    "Mahasinghe, Anuradha & Hua, Richard & Dinneen, Michael & Goyal, Rajni. (2019). Solving the Hamiltonian Cycle Problem using a Quantum Computer. 1-9. 10.1145/3290688.3290703. "
   ]
  }
 ],
 "metadata": {
  "interpreter": {
   "hash": "58b72576b6658bd6ccd68b866a6387eb3eb2eb4149b077f5a55bf8fd5b90c11e"
  },
  "kernelspec": {
   "display_name": "Python 3 [qBraid-SDK]",
   "language": "python",
   "name": "python3_qbraid_sdk_9j9sjy"
  },
  "language_info": {
   "codemirror_mode": {
    "name": "ipython",
    "version": 3
   },
   "file_extension": ".py",
   "mimetype": "text/x-python",
   "name": "python",
   "nbconvert_exporter": "python",
   "pygments_lexer": "ipython3",
   "version": "3.9.7"
  }
 },
 "nbformat": 4,
 "nbformat_minor": 4
}
