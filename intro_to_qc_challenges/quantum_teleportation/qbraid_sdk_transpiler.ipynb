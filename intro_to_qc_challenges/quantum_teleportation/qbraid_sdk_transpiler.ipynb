{
 "cells": [
  {
   "cell_type": "markdown",
   "id": "98528633",
   "metadata": {},
   "source": [
    "# qBraid-SDK Transpiler Demo"
   ]
  },
  {
   "cell_type": "code",
   "execution_count": 1,
   "id": "331a496f",
   "metadata": {},
   "outputs": [],
   "source": [
    "import numpy as np\n",
    "from time import time\n",
    "\n",
    "from qbraid import circuit_wrapper, SUPPORTED_PROGRAM_TYPES\n",
    "from qbraid.interface import to_unitary, circuits_allclose, draw\n",
    "\n",
    "start_notebook = time()"
   ]
  },
  {
   "cell_type": "markdown",
   "id": "f8360d49",
   "metadata": {},
   "source": [
    "The qbraid transpiler supports the following frontend modules / quantum program types:"
   ]
  },
  {
   "cell_type": "code",
   "execution_count": 2,
   "id": "0c41ae38",
   "metadata": {},
   "outputs": [
    {
     "data": {
      "text/plain": [
       "{'cirq': 'Circuit',\n",
       " 'pyquil': 'Program',\n",
       " 'qiskit': 'QuantumCircuit',\n",
       " 'braket': 'Circuit',\n",
       " 'pennylane': 'QuantumTape'}"
      ]
     },
     "execution_count": 2,
     "metadata": {},
     "output_type": "execute_result"
    }
   ],
   "source": [
    "SUPPORTED_PROGRAM_TYPES"
   ]
  },
  {
   "cell_type": "markdown",
   "id": "55ca860d",
   "metadata": {},
   "source": [
    "## Intro to `qbraid.circuit_wrapper` with Bell circuit example"
   ]
  },
  {
   "cell_type": "markdown",
   "id": "5c2ee7fa",
   "metadata": {},
   "source": [
    "Load test data containing a bell circuit function for each supported program type, along with the unitary matrix that each circuit represents / implements."
   ]
  },
  {
   "cell_type": "markdown",
   "id": "317de61c",
   "metadata": {},
   "source": [
    "Randomly choose a source and target package"
   ]
  },
  {
   "cell_type": "code",
   "execution_count": 4,
   "id": "b98f4738",
   "metadata": {},
   "outputs": [
    {
     "name": "stdout",
     "output_type": "stream",
     "text": [
      "qiskit --> pyquil\n"
     ]
    }
   ],
   "source": [
    "pkgs = list(SUPPORTED_PROGRAM_TYPES.keys())\n",
    "source = pkgs.pop(np.random.randint(len(pkgs)))\n",
    "target = pkgs.pop(np.random.randint(len(pkgs) - 1))\n",
    "print(f\"{source} --> {target}\")"
   ]
  },
  {
   "cell_type": "markdown",
   "id": "ac83d0b6",
   "metadata": {},
   "source": [
    "## Now, a non-trivial example"
   ]
  },
  {
   "cell_type": "code",
   "execution_count": 9,
   "id": "d06d2c1a",
   "metadata": {},
   "outputs": [],
   "source": [
    "from qiskit import QuantumCircuit"
   ]
  },
  {
   "cell_type": "code",
   "execution_count": 10,
   "id": "da3079f7",
   "metadata": {},
   "outputs": [],
   "source": [
    "def test_circuit():\n",
    "    circuit = QuantumCircuit(4)\n",
    "\n",
    "    circuit.h([0, 1, 2, 3])\n",
    "    circuit.x([0, 1])\n",
    "    circuit.y(2)\n",
    "    circuit.z(3)\n",
    "    circuit.s(0)\n",
    "    circuit.sdg(1)\n",
    "    circuit.t(2)\n",
    "    circuit.tdg(3)\n",
    "    circuit.rx(np.pi / 4, 0)\n",
    "    circuit.ry(np.pi / 2, 1)\n",
    "    circuit.rz(3 * np.pi / 4, 2)\n",
    "    circuit.p(np.pi / 8, 3)\n",
    "    circuit.sx(0)\n",
    "    circuit.sxdg(1)\n",
    "    circuit.iswap(2, 3)\n",
    "    circuit.swap([0, 1], [2, 3])\n",
    "    circuit.cx(0, 1)\n",
    "    circuit.cp(np.pi / 4, 2, 3)\n",
    "\n",
    "    return circuit"
   ]
  },
  {
   "cell_type": "markdown",
   "id": "a55cf255",
   "metadata": {},
   "source": [
    "We'll start with a 4-qubit qiskit circuit that uses 15 unique gates"
   ]
  },
  {
   "cell_type": "code",
   "execution_count": 11,
   "id": "8710a671",
   "metadata": {},
   "outputs": [
    {
     "name": "stdout",
     "output_type": "stream",
     "text": [
      "<class 'qiskit.circuit.quantumcircuit.QuantumCircuit'>\n",
      "\n"
     ]
    },
    {
     "data": {
      "text/html": [
       "<pre style=\"word-wrap: normal;white-space: pre;background: #fff0;line-height: 1.1;font-family: &quot;Courier New&quot;,Courier,monospace\">     ┌───┐┌───┐ ┌───┐ ┌─────────┐   ┌────┐                 \n",
       "q_0: ┤ H ├┤ X ├─┤ S ├─┤ Rx(π/4) ├───┤ √X ├───X────────■────\n",
       "     ├───┤├───┤┌┴───┴┐├─────────┤  ┌┴────┴┐  │      ┌─┴─┐  \n",
       "q_1: ┤ H ├┤ X ├┤ Sdg ├┤ Ry(π/2) ├──┤ √Xdg ├──┼──X───┤ X ├──\n",
       "     ├───┤├───┤└┬───┬┘├─────────┴┐┌┴──────┴┐ │  │   └───┘  \n",
       "q_2: ┤ H ├┤ Y ├─┤ T ├─┤ Rz(3π/4) ├┤0       ├─X──┼──■───────\n",
       "     ├───┤├───┤┌┴───┴┐└┬────────┬┘│  Iswap │    │  │P(π/4) \n",
       "q_3: ┤ H ├┤ Z ├┤ Tdg ├─┤ P(π/8) ├─┤1       ├────X──■───────\n",
       "     └───┘└───┘└─────┘ └────────┘ └────────┘               </pre>"
      ],
      "text/plain": [
       "     ┌───┐┌───┐ ┌───┐ ┌─────────┐   ┌────┐                 \n",
       "q_0: ┤ H ├┤ X ├─┤ S ├─┤ Rx(π/4) ├───┤ √X ├───X────────■────\n",
       "     ├───┤├───┤┌┴───┴┐├─────────┤  ┌┴────┴┐  │      ┌─┴─┐  \n",
       "q_1: ┤ H ├┤ X ├┤ Sdg ├┤ Ry(π/2) ├──┤ √Xdg ├──┼──X───┤ X ├──\n",
       "     ├───┤├───┤└┬───┬┘├─────────┴┐┌┴──────┴┐ │  │   └───┘  \n",
       "q_2: ┤ H ├┤ Y ├─┤ T ├─┤ Rz(3π/4) ├┤0       ├─X──┼──■───────\n",
       "     ├───┤├───┤┌┴───┴┐└┬────────┬┘│  Iswap │    │  │P(π/4) \n",
       "q_3: ┤ H ├┤ Z ├┤ Tdg ├─┤ P(π/8) ├─┤1       ├────X──■───────\n",
       "     └───┘└───┘└─────┘ └────────┘ └────────┘               "
      ]
     },
     "execution_count": 11,
     "metadata": {},
     "output_type": "execute_result"
    }
   ],
   "source": [
    "qiskit_circuit = test_circuit()\n",
    "print(f\"{type(qiskit_circuit)}\\n\")\n",
    "qiskit_circuit.draw()"
   ]
  },
  {
   "cell_type": "markdown",
   "id": "970c8b71",
   "metadata": {},
   "source": [
    "Applying the circuit wrapper and transpiling to braket and cirq"
   ]
  },
  {
   "cell_type": "code",
   "execution_count": 12,
   "id": "fd0d8197",
   "metadata": {},
   "outputs": [],
   "source": [
    "wrapped_circuit = circuit_wrapper(qiskit_circuit)"
   ]
  },
  {
   "cell_type": "code",
   "execution_count": 13,
   "id": "7f1ef479",
   "metadata": {},
   "outputs": [
    {
     "name": "stdout",
     "output_type": "stream",
     "text": [
      "<class 'braket.circuits.circuit.Circuit'>\n",
      "\n",
      "T  : |0|1|2 |     3     |4 |5|6|7| 8  |  9   |   10   |11|   12   |13|   14    |   15   |16|17|\n",
      "                                                                                               \n",
      "q0 : -H-X-S--Rx(0.79)----V--------SWAP--------C------------------------------------------------\n",
      "                                  |           |                                                \n",
      "q1 : -H-X-Si-Ry(1.57)----Vi-------|----SWAP---X------------------------------------------------\n",
      "                                  |    |                                                       \n",
      "q2 : -H-Y-T--Rz(2.36)----S--H-C-X-SWAP-|----U-Rx(1.57)-C--Rx(1.18)-X---------------------C--U--\n",
      "                              | |      |               |           |                     |     \n",
      "q3 : -H-Z-Ti-PHASE(0.39)-S----X-C-H----SWAP---U--------X--Ry(1.57)-C--Rx(-1.57)-Rz(1.57)-X--U--\n",
      "\n",
      "T  : |0|1|2 |     3     |4 |5|6|7| 8  |  9   |   10   |11|   12   |13|   14    |   15   |16|17|\n"
     ]
    }
   ],
   "source": [
    "braket_circuit = wrapped_circuit.transpile(\"braket\")\n",
    "print(f\"{type(braket_circuit)}\\n\")\n",
    "print(braket_circuit)"
   ]
  },
  {
   "cell_type": "code",
   "execution_count": 14,
   "id": "2a6eb7e7",
   "metadata": {},
   "outputs": [
    {
     "name": "stdout",
     "output_type": "stream",
     "text": [
      "<class 'cirq.circuits.circuit.Circuit'>\n",
      "\n",
      "0: ───H───Z───T^-1───Z^(1/8)─────S────────────X───@───H───×───@────────\n",
      "                                              │   │       │   │\n",
      "1: ───H───Y───T──────Rz(0.75π)───S────────H───@───X───×───┼───@^0.25───\n",
      "                                                      │   │\n",
      "2: ───H───X───S^-1───Ry(0.5π)────X^-0.5───────────────┼───×───X────────\n",
      "                                                      │       │\n",
      "3: ───H───X───S──────Rx(0.25π)───X^0.5────────────────×───────@────────\n"
     ]
    }
   ],
   "source": [
    "cirq_circuit = wrapped_circuit.transpile(\"cirq\")\n",
    "print(f\"{type(cirq_circuit)}\\n\")\n",
    "print(cirq_circuit)"
   ]
  },
  {
   "cell_type": "markdown",
   "id": "0963d29d",
   "metadata": {},
   "source": [
    "Qubit indexing varies between packages, so some circuit diagrams appear flipped, but the matrix representations are equivalent.\n",
    "\n",
    "To verify, we'll use the sdk's `circuits_allclose` function, which applies the qbraid `to_unitary` function mentioned above to each of two input circuits, and passes the matricies to `np.allclose`, and returns the result."
   ]
  },
  {
   "cell_type": "code",
   "execution_count": 15,
   "id": "665c6c0b",
   "metadata": {},
   "outputs": [
    {
     "data": {
      "text/plain": [
       "True"
      ]
     },
     "execution_count": 15,
     "metadata": {},
     "output_type": "execute_result"
    }
   ],
   "source": [
    "circuits_allclose(qiskit_circuit, braket_circuit) and circuits_allclose(\n",
    "    braket_circuit, cirq_circuit\n",
    ")"
   ]
  },
  {
   "cell_type": "markdown",
   "id": "5359d22b",
   "metadata": {},
   "source": [
    "## Stress-testing against randomly generated circuits"
   ]
  },
  {
   "cell_type": "markdown",
   "id": "31a3cbc8",
   "metadata": {},
   "source": [
    "As a final demo, we'll generate some even larger circuits, and do so randomly, to test the limits of the transpiler.\n",
    "\n",
    "The qbraid-SDK has its own `random_circuit` function that takes in any supported package as an argument, but to show that there's no pre-processing or filtering going on behind the scenes, I'll use functions from cirq's testing module to generate circuits and to check equivalance after transpiling."
   ]
  },
  {
   "cell_type": "code",
   "execution_count": 16,
   "id": "afe95c34",
   "metadata": {},
   "outputs": [
    {
     "name": "stdout",
     "output_type": "stream",
     "text": [
      "num qubits: 9\n",
      "num moments: 9\n",
      "op density: 0.93\n",
      "matrix dim: (512, 512)\n",
      "\n",
      "      ┌──┐   ┌───────┐   ┌──┐       ┌──┐   ┌───┐   ┌──────┐           ┌──────┐\n",
      "0: ───────────iSwap───────S─────Y───────────Y───────Y─────────S─────────iSwap────\n",
      "              │                                                         │\n",
      "1: ────X──────┼────S───────×─────────Z──────H────────iSwap────iSwap────X┼────────\n",
      "              │            │                         │        │         │\n",
      "2: ─────×─────┼────X──────S┼────Z───────────H───────Z┼────────iSwap────T┼────────\n",
      "        │     │    │       │                         │                  │\n",
      "3: ────Z┼─────┼────┼Y─────X┼────X────H───────@──────H┼────────iSwap────S┼────────\n",
      "        │     │    │       │                 │       │        │         │\n",
      "4: ─────×─────iSwap┼──────X┼────Z────@───────┼@──────iSwap────┼────────T┼────────\n",
      "                   │       │         │       ││               │         │\n",
      "5: ────H───────────┼──────X┼────X────┼Z─────@┼┼─────@─────────iSwap────H┼────────\n",
      "                   │       │         │      │││     │                   │\n",
      "6: ────H──────T────┼──────X┼────X────@──────@┼┼─────@─────────H────────Z┼────────\n",
      "                   │       │                 ││                         │\n",
      "7: ────Z──────H────┼──────Y┼────S────────────┼X─────@─────────Z─────────┼────────\n",
      "                   │       │                 │      │                   │\n",
      "8: ────Z───────────@───────×────H────Y───────@──────X─────────X─────────iSwap────\n",
      "      └──┘   └───────┘   └──┘       └──┘   └───┘   └──────┘           └──────┘\n"
     ]
    }
   ],
   "source": [
    "import cirq\n",
    "\n",
    "kwargs = {\n",
    "    \"qubits\": np.random.randint(8, 11),\n",
    "    \"n_moments\": np.random.randint(8, 11),\n",
    "    \"op_density\": np.random.randint(80, 100) / 100,\n",
    "    \"random_state\": np.random.randint(1, 11),\n",
    "}\n",
    "\n",
    "circuit_start = cirq.testing.random_circuit(**kwargs)\n",
    "start_u = circuit_start.unitary()\n",
    "print(\"num qubits:\", len(circuit_start.all_qubits()))\n",
    "print(\"num moments:\", len(circuit_start))\n",
    "print(\"op density:\", kwargs[\"op_density\"])\n",
    "print(f\"matrix dim: {start_u.shape}\\n\")\n",
    "print(circuit_start)"
   ]
  },
  {
   "cell_type": "markdown",
   "id": "5818071d",
   "metadata": {},
   "source": [
    "Starting with this randomly generated circuit, we'll repeatedly apply the qbraid circuit wrapper and transpile from one supported package to the next until we arrive all the way back at a cirq circuit."
   ]
  },
  {
   "cell_type": "code",
   "execution_count": 17,
   "id": "bbe4be5f",
   "metadata": {},
   "outputs": [
    {
     "name": "stdout",
     "output_type": "stream",
     "text": [
      "<class 'braket.circuits.circuit.Circuit'>\n"
     ]
    }
   ],
   "source": [
    "braket_circuit = circuit_wrapper(circuit_start).transpile(\"braket\")\n",
    "print(type(braket_circuit))\n",
    "# print(f\"\\n{braket_circuit}\")"
   ]
  },
  {
   "cell_type": "code",
   "execution_count": 18,
   "id": "d2813ee0",
   "metadata": {},
   "outputs": [
    {
     "name": "stdout",
     "output_type": "stream",
     "text": [
      "<class 'pyquil.quil.Program'>\n"
     ]
    }
   ],
   "source": [
    "pyquil_circuit = circuit_wrapper(braket_circuit).transpile(\"pyquil\")\n",
    "print(type(pyquil_circuit))\n",
    "# print(f\"\\n{pyquil_circuit}\")"
   ]
  },
  {
   "cell_type": "code",
   "execution_count": 19,
   "id": "fbb476fb",
   "metadata": {},
   "outputs": [
    {
     "name": "stdout",
     "output_type": "stream",
     "text": [
      "<class 'qiskit.circuit.quantumcircuit.QuantumCircuit'>\n"
     ]
    }
   ],
   "source": [
    "qiskit_circuit = circuit_wrapper(pyquil_circuit).transpile(\"qiskit\")\n",
    "print(type(qiskit_circuit))\n",
    "# print(f\"\\n{qiskit_circuit}\")"
   ]
  },
  {
   "cell_type": "code",
   "execution_count": 20,
   "id": "fc405e6e",
   "metadata": {},
   "outputs": [
    {
     "name": "stdout",
     "output_type": "stream",
     "text": [
      "<class 'pennylane.tape.tape.QuantumTape'>\n"
     ]
    }
   ],
   "source": [
    "pennylane_circuit = circuit_wrapper(qiskit_circuit).transpile(\"pennylane\")\n",
    "print(type(pennylane_circuit))\n",
    "# print(f\"\\n{pennylane_circuit}\")"
   ]
  },
  {
   "cell_type": "code",
   "execution_count": 21,
   "id": "072f6aeb",
   "metadata": {},
   "outputs": [
    {
     "name": "stdout",
     "output_type": "stream",
     "text": [
      "<class 'cirq.circuits.circuit.Circuit'>\n"
     ]
    }
   ],
   "source": [
    "circuit_finish = circuit_wrapper(pennylane_circuit).transpile(\"cirq\")\n",
    "print(type(circuit_finish))\n",
    "# print(f\"\\n{circuit_finish}\")"
   ]
  },
  {
   "cell_type": "markdown",
   "id": "b621daed",
   "metadata": {},
   "source": [
    "Computing the final unitary and checking its shape"
   ]
  },
  {
   "cell_type": "code",
   "execution_count": 22,
   "id": "5f6f3633",
   "metadata": {},
   "outputs": [
    {
     "name": "stdout",
     "output_type": "stream",
     "text": [
      "(512, 512)\n"
     ]
    }
   ],
   "source": [
    "finish_u = circuit_finish.unitary()\n",
    "print(finish_u.shape)"
   ]
  },
  {
   "cell_type": "code",
   "execution_count": 23,
   "id": "9f461918",
   "metadata": {},
   "outputs": [
    {
     "name": "stdout",
     "output_type": "stream",
     "text": [
      "Test passed!\n"
     ]
    }
   ],
   "source": [
    "try:\n",
    "    cirq.testing.assert_allclose_up_to_global_phase(start_u, finish_u, atol=1e-7)\n",
    "    print(\"Test passed!\")\n",
    "except AssertionError:\n",
    "    print(\"Test failed\")"
   ]
  },
  {
   "cell_type": "code",
   "execution_count": 24,
   "id": "910308d7",
   "metadata": {},
   "outputs": [
    {
     "name": "stdout",
     "output_type": "stream",
     "text": [
      "Notebook ran in 3.63s\n"
     ]
    }
   ],
   "source": [
    "runtime = round(time() - start_notebook, 2)\n",
    "print(f\"Notebook ran in {runtime}s\")"
   ]
  },
  {
   "cell_type": "code",
   "execution_count": null,
   "id": "f070d685-18d4-426f-9bf6-75afab0db8a8",
   "metadata": {},
   "outputs": [],
   "source": []
  }
 ],
 "metadata": {
  "interpreter": {
   "hash": "58b72576b6658bd6ccd68b866a6387eb3eb2eb4149b077f5a55bf8fd5b90c11e"
  },
  "kernelspec": {
   "display_name": "Python 3 [qBraid-SDK]",
   "language": "python",
   "name": "python3"
  },
  "language_info": {
   "codemirror_mode": {
    "name": "ipython",
    "version": 3
   },
   "file_extension": ".py",
   "mimetype": "text/x-python",
   "name": "python",
   "nbconvert_exporter": "python",
   "pygments_lexer": "ipython3",
   "version": "3.9.7"
  }
 },
 "nbformat": 4,
 "nbformat_minor": 5
}
