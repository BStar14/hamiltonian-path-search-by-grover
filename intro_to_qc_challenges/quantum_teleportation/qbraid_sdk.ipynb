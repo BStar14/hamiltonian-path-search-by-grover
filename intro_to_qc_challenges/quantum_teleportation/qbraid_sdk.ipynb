{
 "cells": [
  {
   "cell_type": "markdown",
   "id": "48c31cc3-1c30-4f4d-80c8-72909ed44628",
   "metadata": {},
   "source": [
    "# qBraid-SDK"
   ]
  },
  {
   "cell_type": "markdown",
   "id": "5cebe287-964a-4846-ba92-69994713ddc0",
   "metadata": {},
   "source": [
    "## Unified quantum device search"
   ]
  },
  {
   "cell_type": "markdown",
   "id": "3200ef8b-7223-4e99-8339-dfd0c10a3a52",
   "metadata": {},
   "source": [
    "There's no such function in Qiskit or Cirq, only tedious work-arounds that require you to look into the docs anyways. For Braket, it requires making an authenticated API request through Boto3, and only includes credentialed devices in the response."
   ]
  },
  {
   "cell_type": "markdown",
   "id": "bc6f0a6c-c6ab-439f-ab82-3f11a74d8eaf",
   "metadata": {},
   "source": [
    "The qBraid-SDK lists all available QPU's and simulators available through Qiskit, Cirq, and Braket, all in one place."
   ]
  },
  {
   "cell_type": "code",
   "execution_count": 1,
   "id": "e50d92e6-7b01-40db-8e19-38e33c23233d",
   "metadata": {},
   "outputs": [],
   "source": [
    "from qbraid import get_devices"
   ]
  },
  {
   "cell_type": "code",
   "execution_count": 2,
   "id": "683f5b55-2a78-40af-a2c0-e605fd0dedc1",
   "metadata": {},
   "outputs": [
    {
     "data": {
      "text/html": [
       "<h3>Supported Devices</h3><table><tr>\n",
       "    <th style='text-align:left'>Provider</th>\n",
       "    <th style='text-align:left'>Name</th>\n",
       "    <th style='text-align:left'>qBraid ID</th>\n",
       "    <th style='text-align:left'>Status</th></tr>\n",
       "    <tr>\n",
       "        <td style='text-align:left'>AWS</td>\n",
       "        <td style='text-align:left'>Braket Default Simulator</td>\n",
       "        <td style='text-align:left'><code>aws_braket_default_sim</code></td>\n",
       "        <td><span style='color:green'>●</span></td></tr>\n",
       "        <tr>\n",
       "        <td style='text-align:left'>AWS</td>\n",
       "        <td style='text-align:left'>Density Matrix Simulator</td>\n",
       "        <td style='text-align:left'><code>aws_dm_sim</code></td>\n",
       "        <td><span style='color:green'>●</span></td></tr>\n",
       "        <tr>\n",
       "        <td style='text-align:left'>AWS</td>\n",
       "        <td style='text-align:left'>State Vector Simulator</td>\n",
       "        <td style='text-align:left'><code>aws_sv_sim</code></td>\n",
       "        <td><span style='color:green'>●</span></td></tr>\n",
       "        <tr>\n",
       "        <td style='text-align:left'>AWS</td>\n",
       "        <td style='text-align:left'>Tensor Network Simulator</td>\n",
       "        <td style='text-align:left'><code>aws_tn_sim</code></td>\n",
       "        <td><span style='color:green'>●</span></td></tr>\n",
       "        <tr>\n",
       "        <td style='text-align:left'>D-Wave</td>\n",
       "        <td style='text-align:left'>Advantage_system4</td>\n",
       "        <td style='text-align:left'><code>aws_dwave_advantage_system4</code></td>\n",
       "        <td><span style='color:green'>●</span></td></tr>\n",
       "        <tr>\n",
       "        <td style='text-align:left'>D-Wave</td>\n",
       "        <td style='text-align:left'>DW_2000Q_6</td>\n",
       "        <td style='text-align:left'><code>aws_dwave_2000Q_6</code></td>\n",
       "        <td><span style='color:green'>●</span></td></tr>\n",
       "        <tr>\n",
       "        <td style='text-align:left'>Google</td>\n",
       "        <td style='text-align:left'>Bristlecone</td>\n",
       "        <td style='text-align:left'><code>google_bristlecone</code></td>\n",
       "        <td><span style='color:red'>○</span></td></tr>\n",
       "        <tr>\n",
       "        <td style='text-align:left'>Google</td>\n",
       "        <td style='text-align:left'>Cirq Density Matrix Simulator</td>\n",
       "        <td style='text-align:left'><code>google_cirq_dm_sim</code></td>\n",
       "        <td><span style='color:green'>●</span></td></tr>\n",
       "        <tr>\n",
       "        <td style='text-align:left'>Google</td>\n",
       "        <td style='text-align:left'>Cirq Sparse Simulator</td>\n",
       "        <td style='text-align:left'><code>google_cirq_sparse_sim</code></td>\n",
       "        <td><span style='color:green'>●</span></td></tr>\n",
       "        <tr>\n",
       "        <td style='text-align:left'>Google</td>\n",
       "        <td style='text-align:left'>Foxtail</td>\n",
       "        <td style='text-align:left'><code>google_foxtail</code></td>\n",
       "        <td><span style='color:red'>○</span></td></tr>\n",
       "        <tr>\n",
       "        <td style='text-align:left'>Google</td>\n",
       "        <td style='text-align:left'>Sycamore</td>\n",
       "        <td style='text-align:left'><code>google_sycamore</code></td>\n",
       "        <td><span style='color:red'>○</span></td></tr>\n",
       "        <tr>\n",
       "        <td style='text-align:left'>Google</td>\n",
       "        <td style='text-align:left'>Sycamore23</td>\n",
       "        <td style='text-align:left'><code>google_sycamore23</code></td>\n",
       "        <td><span style='color:red'>○</span></td></tr>\n",
       "        <tr>\n",
       "        <td style='text-align:left'>IBM</td>\n",
       "        <td style='text-align:left'>Aer Default Simulator</td>\n",
       "        <td style='text-align:left'><code>ibm_aer_default_sim</code></td>\n",
       "        <td><span style='color:green'>●</span></td></tr>\n",
       "        <tr>\n",
       "        <td style='text-align:left'>IBM</td>\n",
       "        <td style='text-align:left'>Aer Pulse Simulator</td>\n",
       "        <td style='text-align:left'><code>ibm_aer_pulse_sim</code></td>\n",
       "        <td><span style='color:green'>●</span></td></tr>\n",
       "        <tr>\n",
       "        <td style='text-align:left'>IBM</td>\n",
       "        <td style='text-align:left'>Aer QASM Simulator</td>\n",
       "        <td style='text-align:left'><code>ibm_aer_qasm_sim</code></td>\n",
       "        <td><span style='color:green'>●</span></td></tr>\n",
       "        <tr>\n",
       "        <td style='text-align:left'>IBM</td>\n",
       "        <td style='text-align:left'>Aer State Vector Simulator</td>\n",
       "        <td style='text-align:left'><code>ibm_aer_sv_sim</code></td>\n",
       "        <td><span style='color:green'>●</span></td></tr>\n",
       "        <tr>\n",
       "        <td style='text-align:left'>IBM</td>\n",
       "        <td style='text-align:left'>Aer Unitary Simulator</td>\n",
       "        <td style='text-align:left'><code>ibm_aer_unitary_sim</code></td>\n",
       "        <td><span style='color:green'>●</span></td></tr>\n",
       "        <tr>\n",
       "        <td style='text-align:left'>IBM</td>\n",
       "        <td style='text-align:left'>BasicAer QASM Simulator</td>\n",
       "        <td style='text-align:left'><code>ibm_basicaer_qasm_sim</code></td>\n",
       "        <td><span style='color:green'>●</span></td></tr>\n",
       "        <tr>\n",
       "        <td style='text-align:left'>IBM</td>\n",
       "        <td style='text-align:left'>BasicAer State Vector Simulator</td>\n",
       "        <td style='text-align:left'><code>ibm_basicaer_sv_sim</code></td>\n",
       "        <td><span style='color:green'>●</span></td></tr>\n",
       "        <tr>\n",
       "        <td style='text-align:left'>IBM</td>\n",
       "        <td style='text-align:left'>BasicAer Unitary Simulator</td>\n",
       "        <td style='text-align:left'><code>ibm_basicaer_unitary_sim</code></td>\n",
       "        <td><span style='color:green'>●</span></td></tr>\n",
       "        <tr>\n",
       "        <td style='text-align:left'>IBM</td>\n",
       "        <td style='text-align:left'>IBMQ Armonk</td>\n",
       "        <td style='text-align:left'><code>ibm_q_armonk</code></td>\n",
       "        <td><span style='color:green'>●</span></td></tr>\n",
       "        <tr>\n",
       "        <td style='text-align:left'>IBM</td>\n",
       "        <td style='text-align:left'>IBMQ Belem</td>\n",
       "        <td style='text-align:left'><code>ibm_q_belem</code></td>\n",
       "        <td><span style='color:green'>●</span></td></tr>\n",
       "        <tr>\n",
       "        <td style='text-align:left'>IBM</td>\n",
       "        <td style='text-align:left'>IBMQ Bogota</td>\n",
       "        <td style='text-align:left'><code>ibm_q_bogota</code></td>\n",
       "        <td><span style='color:red'>○</span></td></tr>\n",
       "        <tr>\n",
       "        <td style='text-align:left'>IBM</td>\n",
       "        <td style='text-align:left'>IBMQ Extended Stabilizer Simulator</td>\n",
       "        <td style='text-align:left'><code>ibm_q_ext_stabilizer_sim</code></td>\n",
       "        <td><span style='color:green'>●</span></td></tr>\n",
       "        <tr>\n",
       "        <td style='text-align:left'>IBM</td>\n",
       "        <td style='text-align:left'>IBMQ Least-Busy QPU</td>\n",
       "        <td style='text-align:left'><code>ibm_q_least_busy_qpu</code></td>\n",
       "        <td><span style='color:green'>●</span></td></tr>\n",
       "        <tr>\n",
       "        <td style='text-align:left'>IBM</td>\n",
       "        <td style='text-align:left'>IBMQ Lima</td>\n",
       "        <td style='text-align:left'><code>ibm_q_lima</code></td>\n",
       "        <td><span style='color:green'>●</span></td></tr>\n",
       "        <tr>\n",
       "        <td style='text-align:left'>IBM</td>\n",
       "        <td style='text-align:left'>IBMQ Matrix Product State Simulator</td>\n",
       "        <td style='text-align:left'><code>ibm_q_mps_sim</code></td>\n",
       "        <td><span style='color:green'>●</span></td></tr>\n",
       "        <tr>\n",
       "        <td style='text-align:left'>IBM</td>\n",
       "        <td style='text-align:left'>IBMQ QASM Simulator</td>\n",
       "        <td style='text-align:left'><code>ibm_q_qasm_sim</code></td>\n",
       "        <td><span style='color:green'>●</span></td></tr>\n",
       "        <tr>\n",
       "        <td style='text-align:left'>IBM</td>\n",
       "        <td style='text-align:left'>IBMQ Quito</td>\n",
       "        <td style='text-align:left'><code>ibm_q_quito</code></td>\n",
       "        <td><span style='color:green'>●</span></td></tr>\n",
       "        <tr>\n",
       "        <td style='text-align:left'>IBM</td>\n",
       "        <td style='text-align:left'>IBMQ Santiago</td>\n",
       "        <td style='text-align:left'><code>ibm_q_manila</code></td>\n",
       "        <td><span style='color:green'>●</span></td></tr>\n",
       "        <tr>\n",
       "        <td style='text-align:left'>IBM</td>\n",
       "        <td style='text-align:left'>IBMQ Santiago</td>\n",
       "        <td style='text-align:left'><code>ibm_q_santiago</code></td>\n",
       "        <td><span style='color:green'>●</span></td></tr>\n",
       "        <tr>\n",
       "        <td style='text-align:left'>IBM</td>\n",
       "        <td style='text-align:left'>IBMQ Stabilizer Simulator</td>\n",
       "        <td style='text-align:left'><code>ibm_q_stabilizer_sim</code></td>\n",
       "        <td><span style='color:green'>●</span></td></tr>\n",
       "        <tr>\n",
       "        <td style='text-align:left'>IBM</td>\n",
       "        <td style='text-align:left'>IBMQ State Vector Simulator</td>\n",
       "        <td style='text-align:left'><code>ibm_q_sv_sim</code></td>\n",
       "        <td><span style='color:green'>●</span></td></tr>\n",
       "        <tr>\n",
       "        <td style='text-align:left'>IonQ</td>\n",
       "        <td style='text-align:left'>IonQ Device</td>\n",
       "        <td style='text-align:left'><code>aws_ionq</code></td>\n",
       "        <td><span style='color:green'>●</span></td></tr>\n",
       "        <tr>\n",
       "        <td style='text-align:left'>OQC</td>\n",
       "        <td style='text-align:left'>Lucy</td>\n",
       "        <td style='text-align:left'><code>aws_oqc_lucy</code></td>\n",
       "        <td><span style='color:green'>●</span></td></tr>\n",
       "        <tr>\n",
       "        <td style='text-align:left'>Rigetti</td>\n",
       "        <td style='text-align:left'>Aspen-11</td>\n",
       "        <td style='text-align:left'><code>aws_rigetti_aspen_11</code></td>\n",
       "        <td><span style='color:red'>○</span></td></tr>\n",
       "        <tr>\n",
       "        <td style='text-align:left'>Rigetti</td>\n",
       "        <td style='text-align:left'>Aspen-M-1</td>\n",
       "        <td style='text-align:left'><code>aws_rigetti_aspen_m_1</code></td>\n",
       "        <td><span style='color:green'>●</span></td></tr>\n",
       "        <tr><td colspan='4'; style='text-align:right'>Device status updated 40 minutes ago</td></tr></table>"
      ],
      "text/plain": [
       "<IPython.core.display.HTML object>"
      ]
     },
     "metadata": {},
     "output_type": "display_data"
    }
   ],
   "source": [
    "get_devices()"
   ]
  },
  {
   "cell_type": "markdown",
   "id": "53f506ce-0c62-482b-bf06-db1846199f08",
   "metadata": {},
   "source": [
    "Filter your device search with many different advanced query options! \n",
    "\n",
    "For example, let's find simulators containing keyword \"State\" available through AWS or IBM:"
   ]
  },
  {
   "cell_type": "code",
   "execution_count": 3,
   "id": "e21fcabc-bed5-4038-a03b-b734540b11e9",
   "metadata": {},
   "outputs": [
    {
     "data": {
      "text/html": [
       "<h3>Supported Devices</h3><table><tr>\n",
       "    <th style='text-align:left'>Provider</th>\n",
       "    <th style='text-align:left'>Name</th>\n",
       "    <th style='text-align:left'>qBraid ID</th>\n",
       "    <th style='text-align:left'>Status</th></tr>\n",
       "    <tr>\n",
       "        <td style='text-align:left'>AWS</td>\n",
       "        <td style='text-align:left'>State Vector Simulator</td>\n",
       "        <td style='text-align:left'><code>aws_sv_sim</code></td>\n",
       "        <td><span style='color:green'>●</span></td></tr>\n",
       "        <tr>\n",
       "        <td style='text-align:left'>IBM</td>\n",
       "        <td style='text-align:left'>Aer State Vector Simulator</td>\n",
       "        <td style='text-align:left'><code>ibm_aer_sv_sim</code></td>\n",
       "        <td><span style='color:green'>●</span></td></tr>\n",
       "        <tr>\n",
       "        <td style='text-align:left'>IBM</td>\n",
       "        <td style='text-align:left'>BasicAer State Vector Simulator</td>\n",
       "        <td style='text-align:left'><code>ibm_basicaer_sv_sim</code></td>\n",
       "        <td><span style='color:green'>●</span></td></tr>\n",
       "        <tr>\n",
       "        <td style='text-align:left'>IBM</td>\n",
       "        <td style='text-align:left'>IBMQ Matrix Product State Simulator</td>\n",
       "        <td style='text-align:left'><code>ibm_q_mps_sim</code></td>\n",
       "        <td><span style='color:green'>●</span></td></tr>\n",
       "        <tr>\n",
       "        <td style='text-align:left'>IBM</td>\n",
       "        <td style='text-align:left'>IBMQ State Vector Simulator</td>\n",
       "        <td style='text-align:left'><code>ibm_q_sv_sim</code></td>\n",
       "        <td><span style='color:green'>●</span></td></tr>\n",
       "        <tr><td colspan='4'; style='text-align:right'>Device status updated 40 minutes ago</td></tr></table>"
      ],
      "text/plain": [
       "<IPython.core.display.HTML object>"
      ]
     },
     "metadata": {},
     "output_type": "display_data"
    }
   ],
   "source": [
    "get_devices(\n",
    "    filters={\n",
    "        \"type\": \"Simulator\",\n",
    "        \"name\": {\"$regex\": \"State\"},\n",
    "        \"vendor\": {\"$in\": [\"AWS\", \"IBM\"]},\n",
    "    }\n",
    ")"
   ]
  },
  {
   "cell_type": "markdown",
   "id": "8c8738cc-91f5-48b2-82c0-d3457099b0b7",
   "metadata": {},
   "source": [
    "This time, let's search for all gate-based QPUs with at least 5 qubits that are online"
   ]
  },
  {
   "cell_type": "code",
   "execution_count": 4,
   "id": "45037c99-0c6d-4241-94c8-b941a14365ea",
   "metadata": {},
   "outputs": [
    {
     "data": {
      "text/html": [
       "<h3>Supported Devices</h3><table><tr>\n",
       "    <th style='text-align:left'>Provider</th>\n",
       "    <th style='text-align:left'>Name</th>\n",
       "    <th style='text-align:left'>qBraid ID</th>\n",
       "    <th style='text-align:left'>Status</th></tr>\n",
       "    <tr>\n",
       "        <td style='text-align:left'>IBM</td>\n",
       "        <td style='text-align:left'>IBMQ Belem</td>\n",
       "        <td style='text-align:left'><code>ibm_q_belem</code></td>\n",
       "        <td><span style='color:green'>●</span></td></tr>\n",
       "        <tr>\n",
       "        <td style='text-align:left'>IBM</td>\n",
       "        <td style='text-align:left'>IBMQ Lima</td>\n",
       "        <td style='text-align:left'><code>ibm_q_lima</code></td>\n",
       "        <td><span style='color:green'>●</span></td></tr>\n",
       "        <tr>\n",
       "        <td style='text-align:left'>IBM</td>\n",
       "        <td style='text-align:left'>IBMQ Quito</td>\n",
       "        <td style='text-align:left'><code>ibm_q_quito</code></td>\n",
       "        <td><span style='color:green'>●</span></td></tr>\n",
       "        <tr>\n",
       "        <td style='text-align:left'>IBM</td>\n",
       "        <td style='text-align:left'>IBMQ Santiago</td>\n",
       "        <td style='text-align:left'><code>ibm_q_manila</code></td>\n",
       "        <td><span style='color:green'>●</span></td></tr>\n",
       "        <tr>\n",
       "        <td style='text-align:left'>IBM</td>\n",
       "        <td style='text-align:left'>IBMQ Santiago</td>\n",
       "        <td style='text-align:left'><code>ibm_q_santiago</code></td>\n",
       "        <td><span style='color:green'>●</span></td></tr>\n",
       "        <tr>\n",
       "        <td style='text-align:left'>IonQ</td>\n",
       "        <td style='text-align:left'>IonQ Device</td>\n",
       "        <td style='text-align:left'><code>aws_ionq</code></td>\n",
       "        <td><span style='color:green'>●</span></td></tr>\n",
       "        <tr>\n",
       "        <td style='text-align:left'>OQC</td>\n",
       "        <td style='text-align:left'>Lucy</td>\n",
       "        <td style='text-align:left'><code>aws_oqc_lucy</code></td>\n",
       "        <td><span style='color:green'>●</span></td></tr>\n",
       "        <tr>\n",
       "        <td style='text-align:left'>Rigetti</td>\n",
       "        <td style='text-align:left'>Aspen-M-1</td>\n",
       "        <td style='text-align:left'><code>aws_rigetti_aspen_m_1</code></td>\n",
       "        <td><span style='color:green'>●</span></td></tr>\n",
       "        <tr><td colspan='4'; style='text-align:right'>Device status updated 40 minutes ago</td></tr></table>"
      ],
      "text/plain": [
       "<IPython.core.display.HTML object>"
      ]
     },
     "metadata": {},
     "output_type": "display_data"
    }
   ],
   "source": [
    "get_devices(\n",
    "    filters={\n",
    "        \"paradigm\": \"gate-based\",\n",
    "        \"type\": \"QPU\",\n",
    "        \"numberQubits\": {\"$gte\": 5},\n",
    "        \"status\": \"ONLINE\",\n",
    "    }\n",
    ")"
   ]
  },
  {
   "cell_type": "code",
   "execution_count": 5,
   "id": "9cd8f6f9-a878-4e5b-895e-cebe54c18f46",
   "metadata": {},
   "outputs": [],
   "source": [
    "# help(get_devices)  # if unsure how to construct your query"
   ]
  },
  {
   "cell_type": "markdown",
   "id": "d4742d46-0181-4e51-ac4c-44f519b0958b",
   "metadata": {},
   "source": [
    "Recently added the ability to search by preferred software package, for instance"
   ]
  },
  {
   "cell_type": "code",
   "execution_count": 6,
   "id": "6b8bc16d-aa43-4011-b109-c0d45307d660",
   "metadata": {},
   "outputs": [
    {
     "data": {
      "text/html": [
       "<h3>Supported Devices</h3><table><tr>\n",
       "    <th style='text-align:left'>Provider</th>\n",
       "    <th style='text-align:left'>Name</th>\n",
       "    <th style='text-align:left'>qBraid ID</th>\n",
       "    <th style='text-align:left'>Status</th></tr>\n",
       "    <tr>\n",
       "        <td style='text-align:left'>IBM</td>\n",
       "        <td style='text-align:left'>Aer Default Simulator</td>\n",
       "        <td style='text-align:left'><code>ibm_aer_default_sim</code></td>\n",
       "        <td><span style='color:green'>●</span></td></tr>\n",
       "        <tr>\n",
       "        <td style='text-align:left'>IBM</td>\n",
       "        <td style='text-align:left'>Aer Pulse Simulator</td>\n",
       "        <td style='text-align:left'><code>ibm_aer_pulse_sim</code></td>\n",
       "        <td><span style='color:green'>●</span></td></tr>\n",
       "        <tr>\n",
       "        <td style='text-align:left'>IBM</td>\n",
       "        <td style='text-align:left'>Aer QASM Simulator</td>\n",
       "        <td style='text-align:left'><code>ibm_aer_qasm_sim</code></td>\n",
       "        <td><span style='color:green'>●</span></td></tr>\n",
       "        <tr>\n",
       "        <td style='text-align:left'>IBM</td>\n",
       "        <td style='text-align:left'>Aer State Vector Simulator</td>\n",
       "        <td style='text-align:left'><code>ibm_aer_sv_sim</code></td>\n",
       "        <td><span style='color:green'>●</span></td></tr>\n",
       "        <tr>\n",
       "        <td style='text-align:left'>IBM</td>\n",
       "        <td style='text-align:left'>Aer Unitary Simulator</td>\n",
       "        <td style='text-align:left'><code>ibm_aer_unitary_sim</code></td>\n",
       "        <td><span style='color:green'>●</span></td></tr>\n",
       "        <tr>\n",
       "        <td style='text-align:left'>IBM</td>\n",
       "        <td style='text-align:left'>BasicAer QASM Simulator</td>\n",
       "        <td style='text-align:left'><code>ibm_basicaer_qasm_sim</code></td>\n",
       "        <td><span style='color:green'>●</span></td></tr>\n",
       "        <tr>\n",
       "        <td style='text-align:left'>IBM</td>\n",
       "        <td style='text-align:left'>BasicAer State Vector Simulator</td>\n",
       "        <td style='text-align:left'><code>ibm_basicaer_sv_sim</code></td>\n",
       "        <td><span style='color:green'>●</span></td></tr>\n",
       "        <tr>\n",
       "        <td style='text-align:left'>IBM</td>\n",
       "        <td style='text-align:left'>BasicAer Unitary Simulator</td>\n",
       "        <td style='text-align:left'><code>ibm_basicaer_unitary_sim</code></td>\n",
       "        <td><span style='color:green'>●</span></td></tr>\n",
       "        <tr><td colspan='4'; style='text-align:right'>Device status updated 40 minutes ago</td></tr></table>"
      ],
      "text/plain": [
       "<IPython.core.display.HTML object>"
      ]
     },
     "metadata": {},
     "output_type": "display_data"
    }
   ],
   "source": [
    "get_devices(filters={\"runPackage\": \"qiskit\", \"requiresCred\": \"false\"})"
   ]
  },
  {
   "cell_type": "markdown",
   "id": "4f9f246f-32a8-40ae-b962-48390ea80efc",
   "metadata": {},
   "source": [
    "## The qbraid device wrapper makes running circuits easy"
   ]
  },
  {
   "cell_type": "code",
   "execution_count": 7,
   "id": "880dd3e0-82a7-48aa-907f-a5bf4b148956",
   "metadata": {},
   "outputs": [],
   "source": [
    "from qbraid import device_wrapper, retrieve_job\n",
    "from qbraid.api import ibmq_least_busy_qpu, update_config"
   ]
  },
  {
   "cell_type": "markdown",
   "id": "73978ad9-ab16-4195-a4ef-210002714144",
   "metadata": {},
   "source": [
    "Copy the desired Device ID into the device wrapper function and you're on your way."
   ]
  },
  {
   "cell_type": "code",
   "execution_count": 8,
   "id": "5e9f68fd-162a-45a9-80d6-47716504f9bf",
   "metadata": {},
   "outputs": [
    {
     "data": {
      "text/plain": [
       "{'numberQubits': None,\n",
       " 'visibility': 'public',\n",
       " 'connectivityGraph': [],\n",
       " 'qbraid_id': 'ibm_aer_qasm_sim',\n",
       " 'name': 'Aer QASM Simulator',\n",
       " 'provider': 'IBM',\n",
       " 'paradigm': 'gate-based',\n",
       " 'type': 'Simulator',\n",
       " 'vendor': 'IBM',\n",
       " 'runPackage': 'qiskit',\n",
       " 'status': 'ONLINE',\n",
       " 'calibrationData': [],\n",
       " 'publishedStudies': [],\n",
       " 'createdAt': '2022-03-10T04:08:18.968Z',\n",
       " 'updatedAt': '2022-04-08T19:24:23.251Z',\n",
       " '__v': 0}"
      ]
     },
     "execution_count": 8,
     "metadata": {},
     "output_type": "execute_result"
    }
   ],
   "source": [
    "qbraid_device = device_wrapper(\"ibm_aer_qasm_sim\")\n",
    "qbraid_device.info"
   ]
  },
  {
   "cell_type": "code",
   "execution_count": 9,
   "id": "f17d8f90-d639-4071-bfcd-e197b036ecd0",
   "metadata": {},
   "outputs": [
    {
     "data": {
      "text/plain": [
       "'ibm_q_armonk'"
      ]
     },
     "execution_count": 9,
     "metadata": {},
     "output_type": "execute_result"
    }
   ],
   "source": [
    "ibmq_least_busy_qpu()  # requires ibmq token"
   ]
  },
  {
   "cell_type": "code",
   "execution_count": 10,
   "id": "d7abe92c-f73e-4b7a-8304-ed0737852968",
   "metadata": {},
   "outputs": [
    {
     "data": {
      "text/plain": [
       "{'numberQubits': 1,\n",
       " 'visibility': 'public',\n",
       " 'connectivityGraph': [],\n",
       " 'qbraid_id': 'ibm_q_armonk',\n",
       " 'name': 'IBMQ Armonk',\n",
       " 'provider': 'IBM',\n",
       " 'paradigm': 'gate-based',\n",
       " 'type': 'QPU',\n",
       " 'typeQubits': 'superconducting',\n",
       " 'dateDeployed': '2019',\n",
       " 'location': 'Armonk, NY, USA',\n",
       " 'vendor': 'IBM',\n",
       " 'runPackage': 'qiskit',\n",
       " 'status': 'ONLINE',\n",
       " 'calibrationData': [],\n",
       " 'publishedStudies': [],\n",
       " 'createdAt': '2022-03-10T04:08:18.469Z',\n",
       " 'updatedAt': '2022-04-08T19:24:22.133Z',\n",
       " '__v': 0}"
      ]
     },
     "execution_count": 10,
     "metadata": {},
     "output_type": "execute_result"
    }
   ],
   "source": [
    "qbraid_ibmq_device = device_wrapper(\"ibm_q_armonk\")  # requires ibmq token\n",
    "qbraid_ibmq_device.info"
   ]
  },
  {
   "cell_type": "code",
   "execution_count": 11,
   "id": "2320a9d5-5d4f-4c84-bd49-7c1d02b62906",
   "metadata": {},
   "outputs": [
    {
     "data": {
      "text/html": [
       "<pre style=\"word-wrap: normal;white-space: pre;background: #fff0;line-height: 1.1;font-family: &quot;Courier New&quot;,Courier,monospace\">     ┌───┐┌─────────┐┌─────────┐┌─┐\n",
       "  q: ┤ H ├┤ Ry(π/4) ├┤ Rz(π/2) ├┤M├\n",
       "     └───┘└─────────┘└─────────┘└╥┘\n",
       "c: 1/════════════════════════════╩═\n",
       "                                 0 </pre>"
      ],
      "text/plain": [
       "     ┌───┐┌─────────┐┌─────────┐┌─┐\n",
       "  q: ┤ H ├┤ Ry(π/4) ├┤ Rz(π/2) ├┤M├\n",
       "     └───┘└─────────┘└─────────┘└╥┘\n",
       "c: 1/════════════════════════════╩═\n",
       "                                 0 "
      ]
     },
     "execution_count": 11,
     "metadata": {},
     "output_type": "execute_result"
    }
   ],
   "source": [
    "from qiskit import QuantumCircuit\n",
    "import numpy as np\n",
    "\n",
    "qiskit_circuit = QuantumCircuit(1, 1)\n",
    "\n",
    "qiskit_circuit.h(0)\n",
    "qiskit_circuit.ry(np.pi / 4, 0)\n",
    "qiskit_circuit.rz(np.pi / 2, 0)\n",
    "qiskit_circuit.measure(0, 0)\n",
    "\n",
    "qiskit_circuit.draw()"
   ]
  },
  {
   "cell_type": "markdown",
   "id": "0b1979a2-0d9a-4624-8f9a-9b7330500e99",
   "metadata": {},
   "source": [
    "Initialize quantum jobs and collect results, with the ability to extract wrapped objects at any step"
   ]
  },
  {
   "cell_type": "code",
   "execution_count": 12,
   "id": "0926b76d-6f08-4361-b36c-918e61bd5abb",
   "metadata": {},
   "outputs": [],
   "source": [
    "shots = 2**10\n",
    "\n",
    "qbraid_ibmq_job = qbraid_device.run(qiskit_circuit, shots=shots)\n",
    "# qbraid_job.vendor_jlo  # vendor job-like-object"
   ]
  },
  {
   "cell_type": "code",
   "execution_count": 13,
   "id": "f1605ed4-59c3-4c98-b8f8-a2b970531e05",
   "metadata": {},
   "outputs": [
    {
     "data": {
      "text/plain": [
       "<JobStatus.COMPLETED: 6>"
      ]
     },
     "execution_count": 13,
     "metadata": {},
     "output_type": "execute_result"
    }
   ],
   "source": [
    "qbraid_ibmq_job.status()"
   ]
  },
  {
   "cell_type": "markdown",
   "id": "8a1f0e06-d3e9-42ce-8816-36efd36b8a57",
   "metadata": {},
   "source": [
    "## Run your circuit on any device and compare results"
   ]
  },
  {
   "cell_type": "code",
   "execution_count": 14,
   "id": "ef9c9cf5-2ab3-44e5-a484-4ff3a3e41183",
   "metadata": {},
   "outputs": [],
   "source": [
    "qbraid_google_device = device_wrapper(\"google_cirq_dm_sim\")"
   ]
  },
  {
   "cell_type": "code",
   "execution_count": 15,
   "id": "f54834fe-fbcd-4f3a-b4b2-96d277ce98ee",
   "metadata": {},
   "outputs": [],
   "source": [
    "qbraid_aws_device = device_wrapper(\"aws_dm_sim\")  # requires aws credential"
   ]
  },
  {
   "cell_type": "code",
   "execution_count": 16,
   "id": "40abda65-d749-42e3-b07d-d822ac5f00d1",
   "metadata": {},
   "outputs": [],
   "source": [
    "# update_config(\"AWS\")"
   ]
  },
  {
   "cell_type": "code",
   "execution_count": 17,
   "id": "e661811f-f777-468b-9f02-1026a4357c42",
   "metadata": {},
   "outputs": [],
   "source": [
    "qbraid_google_job = qbraid_google_device.run(qiskit_circuit, shots=shots)\n",
    "qbraid_aws_job = qbraid_aws_device.run(qiskit_circuit, shots=shots)"
   ]
  },
  {
   "cell_type": "code",
   "execution_count": 18,
   "id": "dcb182d7-f6b7-44bb-a1cd-306178fbcbcd",
   "metadata": {},
   "outputs": [],
   "source": [
    "qbraid_google_result = qbraid_google_job.result()\n",
    "qbraid_aws_result = qbraid_aws_job.result()"
   ]
  },
  {
   "cell_type": "code",
   "execution_count": 19,
   "id": "4bbc13a7-bea3-4ec3-842a-6e4ab75d6749",
   "metadata": {},
   "outputs": [],
   "source": [
    "# qbraid_ibmq_job.id"
   ]
  },
  {
   "cell_type": "code",
   "execution_count": 20,
   "id": "2f97c917-013f-4b47-8c15-11dd5e9c132b",
   "metadata": {},
   "outputs": [],
   "source": [
    "# ibmq_job = retrieve_job(\"\")"
   ]
  },
  {
   "cell_type": "code",
   "execution_count": 21,
   "id": "8a4fe231-c2bc-4eb8-9595-955369dc582b",
   "metadata": {},
   "outputs": [],
   "source": [
    "# ibmq_job.status()"
   ]
  },
  {
   "cell_type": "code",
   "execution_count": 22,
   "id": "fb2ec06b-bbe1-43ea-8eac-b2128b8117fa",
   "metadata": {},
   "outputs": [],
   "source": [
    "qbraid_ibmq_result = qbraid_ibmq_job.result()"
   ]
  },
  {
   "cell_type": "code",
   "execution_count": 23,
   "id": "23568dfe-8ec2-4f02-9b92-95b62e610656",
   "metadata": {},
   "outputs": [
    {
     "name": "stdout",
     "output_type": "stream",
     "text": [
      "google simulator counts: {'1': 878, '0': 146}\n",
      "aws simulator counts: {'1': 877, '0': 147}\n",
      "ibmq qpu counts: {'1': 855, '0': 169}\n"
     ]
    }
   ],
   "source": [
    "print(f\"google simulator counts: {qbraid_google_result.measurement_counts()}\")\n",
    "print(f\"aws simulator counts: {qbraid_aws_result.measurement_counts()}\")\n",
    "print(f\"ibmq qpu counts: {qbraid_ibmq_result.measurement_counts()}\")"
   ]
  },
  {
   "cell_type": "code",
   "execution_count": 24,
   "id": "69da0b26-62b2-422d-ba4a-19f1505a5c5c",
   "metadata": {},
   "outputs": [
    {
     "data": {
      "image/png": "[encoded data removed]",
      "text/plain": [
       "<Figure size 504x360 with 1 Axes>"
      ]
     },
     "execution_count": 24,
     "metadata": {},
     "output_type": "execute_result"
    }
   ],
   "source": [
    "qbraid_google_result.plot_counts()"
   ]
  },
  {
   "cell_type": "code",
   "execution_count": 25,
   "id": "55ad65fb-3983-45d4-ad42-864f0a40fa83",
   "metadata": {},
   "outputs": [
    {
     "data": {
      "image/png": "[encoded data removed]",
      "text/plain": [
       "<Figure size 504x360 with 1 Axes>"
      ]
     },
     "execution_count": 25,
     "metadata": {},
     "output_type": "execute_result"
    }
   ],
   "source": [
    "qbraid_aws_result.plot_counts()"
   ]
  },
  {
   "cell_type": "code",
   "execution_count": 26,
   "id": "2390301c-f838-4261-8d18-93f463e698bc",
   "metadata": {},
   "outputs": [
    {
     "data": {
      "image/png": "[encoded data removed]",
      "text/plain": [
       "<Figure size 504x360 with 1 Axes>"
      ]
     },
     "execution_count": 26,
     "metadata": {},
     "output_type": "execute_result"
    }
   ],
   "source": [
    "qbraid_ibmq_result.plot_counts()"
   ]
  },
  {
   "cell_type": "markdown",
   "id": "b150c503-e2cd-4430-b3c5-09b7fea35968",
   "metadata": {},
   "source": [
    "## Utility functions to make your work easier"
   ]
  },
  {
   "cell_type": "markdown",
   "id": "69e25dc2-9678-425d-ab58-5d4b69e72f25",
   "metadata": {},
   "source": [
    "#### Generate random circuits in any package for testing"
   ]
  },
  {
   "cell_type": "code",
   "execution_count": 27,
   "id": "0a889f71-040f-4871-83d4-ed73c7369467",
   "metadata": {},
   "outputs": [],
   "source": [
    "from qbraid.interface import random_circuit"
   ]
  },
  {
   "cell_type": "code",
   "execution_count": 28,
   "id": "5d922f87-002a-49f5-867b-2b23f7b4e04c",
   "metadata": {},
   "outputs": [
    {
     "name": "stdout",
     "output_type": "stream",
     "text": [
      "\n",
      "cirq random circuit:\n",
      "\n",
      "0: ───iSwap───────────X───\n",
      "      │               │\n",
      "1: ───iSwap───T───Y───@───\n",
      "\n",
      "braket random circuit:\n",
      "\n",
      "T  : |0|  1  |2|3|\n",
      "                  \n",
      "q0 : ---ISWAP-Z-Z-\n",
      "        |         \n",
      "q1 : -S-ISWAP-----\n",
      "\n",
      "T  : |0|  1  |2|3|\n",
      "\n",
      "qiskit random circuit:\n",
      "\n",
      "        ┌────────────┐      \n",
      "q_0: ─■─┤ Ry(3.3757) ├─■──X─\n",
      "      │ └───┬───┬────┘ │  │ \n",
      "q_1: ─■─────┤ Z ├──────■──X─\n",
      "            └───┘           \n"
     ]
    }
   ],
   "source": [
    "for pkg in [\"cirq\", \"braket\", \"qiskit\"]:\n",
    "    rand_circuit = random_circuit(pkg, num_qubits=2, depth=4)\n",
    "    print(f\"\\n{pkg} random circuit:\\n\")\n",
    "    print(rand_circuit)"
   ]
  },
  {
   "cell_type": "markdown",
   "id": "f364c291-1266-427d-bd2f-c0ff04171b58",
   "metadata": {},
   "source": [
    "#### Transpile circuits between packages"
   ]
  },
  {
   "cell_type": "code",
   "execution_count": 29,
   "id": "e4a46773-7e3c-4b05-8187-bc6add29800f",
   "metadata": {},
   "outputs": [],
   "source": [
    "import cirq\n",
    "from qbraid import circuit_wrapper"
   ]
  },
  {
   "cell_type": "code",
   "execution_count": 30,
   "id": "96edac82-2837-4a94-bc82-4bf11dd997d5",
   "metadata": {},
   "outputs": [
    {
     "name": "stdout",
     "output_type": "stream",
     "text": [
      "0: ───H───X───Ry(0.5π)───X^0.5───────×───@───\n",
      "                                     │   │\n",
      "1: ───H───Y───@──────────S^-1────────┼───X───\n",
      "              │                      │\n",
      "2: ───H───T───X──────────Rz(0.75π)───×───────\n"
     ]
    }
   ],
   "source": [
    "qs = cirq.LineQubit.range(3)\n",
    "# qs.reverse()\n",
    "(\n",
    "    q0,\n",
    "    q1,\n",
    "    q2,\n",
    ") = qs\n",
    "\n",
    "cirq_circuit = cirq.Circuit(\n",
    "    cirq.H(q0),\n",
    "    cirq.H(q1),\n",
    "    cirq.H(q2),\n",
    "    cirq.X(q0),\n",
    "    cirq.Y(q1),\n",
    "    cirq.T(q2),\n",
    "    cirq.ry(rads=np.pi / 2)(q0),\n",
    "    cirq.CNOT(q1, q2),\n",
    "    cirq.rz(rads=3 * np.pi / 4)(q2),\n",
    "    cirq.XPowGate(exponent=0.5)(q0),\n",
    "    cirq.ZPowGate(exponent=-0.5)(q1),\n",
    "    cirq.SWAP(q0, q2),\n",
    "    cirq.CNOT(q0, q1),\n",
    ")\n",
    "\n",
    "print(cirq_circuit)"
   ]
  },
  {
   "cell_type": "code",
   "execution_count": 31,
   "id": "525d570f-7114-4561-bebc-1867169fdbf7",
   "metadata": {},
   "outputs": [],
   "source": [
    "qbraid_circuit = circuit_wrapper(cirq_circuit)"
   ]
  },
  {
   "cell_type": "code",
   "execution_count": 32,
   "id": "984f0f16-9cf3-4597-97b9-7545fd4840e7",
   "metadata": {},
   "outputs": [
    {
     "name": "stdout",
     "output_type": "stream",
     "text": [
      "T  : |0|1|   2    |   3    | 4  |5|\n",
      "                                   \n",
      "q0 : -H-T-X--------Rz(2.36)-SWAP---\n",
      "          |                 |      \n",
      "q1 : -H-Y-C--------Si-------|----X-\n",
      "                            |    | \n",
      "q2 : -H-X-Ry(1.57)-V--------SWAP-C-\n",
      "\n",
      "T  : |0|1|   2    |   3    | 4  |5|\n"
     ]
    }
   ],
   "source": [
    "braket_circuit = qbraid_circuit.transpile(\"braket\")\n",
    "print(braket_circuit)"
   ]
  },
  {
   "cell_type": "code",
   "execution_count": 33,
   "id": "b85d07e4-4e74-4106-be95-334263aea8d5",
   "metadata": {},
   "outputs": [
    {
     "name": "stdout",
     "output_type": "stream",
     "text": [
      "     ┌───┐┌───┐   ┌───┐   ┌──────────┐        \n",
      "q_0: ┤ H ├┤ T ├───┤ X ├───┤ Rz(3π/4) ├─X──────\n",
      "     ├───┤├───┤   └─┬─┘   └─┬─────┬──┘ │ ┌───┐\n",
      "q_1: ┤ H ├┤ Y ├─────■───────┤ Sdg ├────┼─┤ X ├\n",
      "     ├───┤├───┤┌─────────┐  └┬────┤    │ └─┬─┘\n",
      "q_2: ┤ H ├┤ X ├┤ Ry(π/2) ├───┤ √X ├────X───■──\n",
      "     └───┘└───┘└─────────┘   └────┘           \n"
     ]
    }
   ],
   "source": [
    "qiskit_circuit = qbraid_circuit.transpile(\"qiskit\")\n",
    "print(qiskit_circuit)"
   ]
  },
  {
   "cell_type": "markdown",
   "id": "f0cae3a0-5ad4-47a4-a3a2-13c42fcaf430",
   "metadata": {},
   "source": [
    "#### Calculate the unitary of any circuit with a single command"
   ]
  },
  {
   "cell_type": "code",
   "execution_count": 34,
   "id": "7f16bda7-6075-4428-a7dc-12754dc550bc",
   "metadata": {},
   "outputs": [],
   "source": [
    "from qbraid.interface import to_unitary"
   ]
  },
  {
   "cell_type": "code",
   "execution_count": 35,
   "id": "2d7806ad-2d51-47ec-964b-df0b012f31f8",
   "metadata": {},
   "outputs": [],
   "source": [
    "cirq_unitary = to_unitary(cirq_circuit)\n",
    "braket_unitary = to_unitary(braket_circuit)\n",
    "qiskit_unitary = to_unitary(qiskit_circuit)"
   ]
  },
  {
   "cell_type": "code",
   "execution_count": 36,
   "id": "d8b2c389-43b9-453d-82e8-0be6414c1aa8",
   "metadata": {},
   "outputs": [
    {
     "data": {
      "text/plain": [
       "True"
      ]
     },
     "execution_count": 36,
     "metadata": {},
     "output_type": "execute_result"
    }
   ],
   "source": [
    "np.allclose(cirq_unitary, braket_unitary)"
   ]
  },
  {
   "cell_type": "code",
   "execution_count": 37,
   "id": "1c764ed9-f452-48ac-bd85-9d1d65b2d930",
   "metadata": {},
   "outputs": [
    {
     "data": {
      "text/plain": [
       "True"
      ]
     },
     "execution_count": 37,
     "metadata": {},
     "output_type": "execute_result"
    }
   ],
   "source": [
    "np.allclose(cirq_unitary, qiskit_unitary)"
   ]
  },
  {
   "cell_type": "markdown",
   "id": "7b0af7ac-f3ac-402f-930b-7e8898cf1098",
   "metadata": {},
   "source": [
    "#### Patch runtime issues on the fly"
   ]
  },
  {
   "cell_type": "code",
   "execution_count": 38,
   "id": "8c7f9204-f53b-40c1-9fa2-b3c9f6711688",
   "metadata": {},
   "outputs": [],
   "source": [
    "from braket import circuits as braket_circuits\n",
    "from qbraid.interface import convert_to_contiguous"
   ]
  },
  {
   "cell_type": "code",
   "execution_count": 39,
   "id": "9d25a822-b0e4-4e02-b976-b2d3aed8fe6f",
   "metadata": {},
   "outputs": [
    {
     "data": {
      "text/plain": [
       "Circuit('instructions': [Instruction('operator': H('qubit_count': 1), 'target': QubitSet([Qubit(0)])), Instruction('operator': CNot('qubit_count': 2), 'target': QubitSet([Qubit(0), Qubit(2)])), Instruction('operator': CNot('qubit_count': 2), 'target': QubitSet([Qubit(2), Qubit(4)]))])"
      ]
     },
     "execution_count": 39,
     "metadata": {},
     "output_type": "execute_result"
    }
   ],
   "source": [
    "braket_test_circuit = braket_circuits.Circuit()\n",
    "braket_test_circuit.h(0)\n",
    "braket_test_circuit.cnot(0, 2)\n",
    "braket_test_circuit.cnot(2, 4)"
   ]
  },
  {
   "cell_type": "code",
   "execution_count": 40,
   "id": "dc5126a3-f252-47a9-a2f3-f7d14b47a915",
   "metadata": {},
   "outputs": [],
   "source": [
    "qbraid_braket_sim = device_wrapper(\"aws_braket_default_sim\")"
   ]
  },
  {
   "cell_type": "code",
   "execution_count": 41,
   "id": "9efe9850-a2ff-41ed-815c-0d2ea4b6659d",
   "metadata": {},
   "outputs": [],
   "source": [
    "# qbraid_braket_sim.run(braket_test_circuit, shots=shots)"
   ]
  },
  {
   "cell_type": "code",
   "execution_count": 42,
   "id": "20de7fca-cce0-4f8b-a148-f8ce6dde9245",
   "metadata": {},
   "outputs": [],
   "source": [
    "braket_contig_circuit = convert_to_contiguous(braket_test_circuit)"
   ]
  },
  {
   "cell_type": "code",
   "execution_count": 43,
   "id": "35de6ae5-cd86-4900-8b23-79a508324af7",
   "metadata": {},
   "outputs": [
    {
     "data": {
      "text/plain": [
       "array([[0, 0, 0],\n",
       "       [0, 0, 0],\n",
       "       [1, 1, 1],\n",
       "       ...,\n",
       "       [1, 1, 1],\n",
       "       [0, 0, 0],\n",
       "       [1, 1, 1]])"
      ]
     },
     "execution_count": 43,
     "metadata": {},
     "output_type": "execute_result"
    }
   ],
   "source": [
    "qbraid_braket_sim.run(braket_contig_circuit, shots=shots).result().measurements()"
   ]
  },
  {
   "cell_type": "markdown",
   "id": "264788e9-b0ed-4afd-80fd-94ca79b1a081",
   "metadata": {},
   "source": [
    "#### And more coming soon!"
   ]
  }
 ],
 "metadata": {
  "kernelspec": {
   "display_name": "Python 3 [qBraid-SDK]",
   "language": "python",
   "name": "python3_qbraid_sdk_9j9sjy"
  },
  "language_info": {
   "codemirror_mode": {
    "name": "ipython",
    "version": 3
   },
   "file_extension": ".py",
   "mimetype": "text/x-python",
   "name": "python",
   "nbconvert_exporter": "python",
   "pygments_lexer": "ipython3",
   "version": "3.9.7"
  }
 },
 "nbformat": 4,
 "nbformat_minor": 5
}
