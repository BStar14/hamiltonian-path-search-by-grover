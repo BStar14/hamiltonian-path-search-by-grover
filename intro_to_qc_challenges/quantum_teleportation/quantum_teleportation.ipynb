{
 "cells": [
  {
   "cell_type": "markdown",
   "metadata": {},
   "source": [
    "# Quantum Teleportation qBraid Challenge\n",
    "Quantum teleportation is a technique for transferring quantum information from a sender at one location to a receiver some distance away. \n",
    "In this challenge you and your team are tasked to develop a Quantum Teleportation circuit in Amazon Braket. You'll make the quantum teleportation circuit and then use our qBraid-SDK to transpile it to various other quantum computing languages and run it on some backends!\n",
    "\n",
    "While not necessarily coding intensive, we'd like to see plenty of extensions\n",
    "\n",
    "Before you get started make sure that:\n",
    "\n",
    "- You've enabled your qBraid Amazon Braket account. `qbraid enable account qbraid_sdk`\n",
    "- You've activated the qBraid-SDK environment and are using the qBraid-SDK Python 3 kernel (on the top right you should see **Python 3 [qBraid-SDK]**)\n",
    "- *Please copy this file and rename it <team_name>\\_quantum_teleportation.ipynb*- we'd like to avoid merge conflicts with other submissions!"
   ]
  },
  {
   "cell_type": "markdown",
   "metadata": {},
   "source": [
    "## Submission Checklist\n",
    "- Make sure to include a readme!\n",
    "- Make sure you've run or queued your solution on a real quantum computer (Rigetti M-1 perferred)\n",
    "- Get creative! We'd love to see extensions to this challenge, such as making a game, nice frontends, find interesting ways to use our sdk etc.\n",
    "\n",
    "## Judging Criteria\n",
    "- Your code must include a README.md which describes your implementation and includes how to run your solution.\n",
    "- Your code should be documented and easy to understand!\n",
    "- There are plenty of implementations on the web to guide you in better understanding Quantum Teleporation. Feel free to use them as guidance, but do code your solutions with as few out of box solutions \n",
    "    ie don't `from some_package import QuantumTeleportation`\n",
    "- Your code must run a job on real hardware using the qBraid Amazon Braket Account.\n",
    "\n"
   ]
  },
  {
   "cell_type": "markdown",
   "metadata": {},
   "source": [
    "## Challenge description\n",
    "- Implement a quantum telporation circuit and measure the results on a real quantum computer.\n",
    "- Use the qBraid-SDK to transpile the circuit to various other languages and run it on simulators and available hardware (assuming you have an account/it is accessible to you)\n",
    "- Come up with creative ways to embellish on this challenge!"
   ]
  },
  {
   "cell_type": "markdown",
   "metadata": {},
   "source": [
    "## qBraid-SDK demo\n",
    "We will provide a quick demo of the SDK here, but please also refer to the two notebooks to see how the SDK can be used to transpile your circuit"
   ]
  },
  {
   "cell_type": "code",
   "execution_count": null,
   "metadata": {
    "vscode": {
     "languageId": "plaintext"
    }
   },
   "outputs": [],
   "source": [
    "# AWS imports: Import Braket SDK modules\n",
    "from braket.circuits import Circuit, Gate, Instruction, circuit, Observable\n",
    "from braket.devices import LocalSimulator\n",
    "from braket.aws import AwsDevice, AwsQuantumTask"
   ]
  },
  {
   "cell_type": "code",
   "execution_count": null,
   "metadata": {
    "vscode": {
     "languageId": "plaintext"
    }
   },
   "outputs": [],
   "source": [
    "# YOUR CODE HERE"
   ]
  },
  {
   "cell_type": "code",
   "execution_count": null,
   "metadata": {
    "vscode": {
     "languageId": "plaintext"
    }
   },
   "outputs": [],
   "source": [
    "# run circuit \n",
    "rigetti_task = rigetti.run(YOUR_CIRCUIT, shots=1000)\n",
    "\n",
    "# get id and status of submitted task\n",
    "rigetti_task_id = rigetti_task.id\n",
    "rigetti_status = rigetti_task.state()\n",
    "# print('ID of task:', rigetti_task_id)\n",
    "print('Status of task:', rigetti_status)"
   ]
  },
  {
   "cell_type": "code",
   "execution_count": null,
   "metadata": {
    "vscode": {
     "languageId": "plaintext"
    }
   },
   "outputs": [],
   "source": [
    "# print status\n",
    "!qbraid credits\n",
    "status = rigetti_task.state()\n",
    "print('Status of (reconstructed) task:', status)"
   ]
  },
  {
   "cell_type": "markdown",
   "metadata": {},
   "source": [
    "## References\n",
    "https://en.wikipedia.org/wiki/Quantum_teleportation\n",
    "\n",
    "Furusawa, Akira. (2005). Quantum teleportation and its applications. 10.1117/12.572740. "
   ]
  }
 ],
 "metadata": {
  "language_info": {
   "name": "python"
  },
  "orig_nbformat": 4
 },
 "nbformat": 4,
 "nbformat_minor": 2
}
